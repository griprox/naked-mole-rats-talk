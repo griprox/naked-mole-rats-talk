{
 "cells": [
  {
   "cell_type": "code",
   "execution_count": 1,
   "id": "ac75ab4e",
   "metadata": {
    "scrolled": true
   },
   "outputs": [
    {
     "name": "stderr",
     "output_type": "stream",
     "text": [
      "2022-05-06 16:10:37.320007: I tensorflow/stream_executor/platform/default/dso_loader.cc:49] Successfully opened dynamic library libcudart.so.11.0\n",
      "2022-05-06 16:10:38.633347: I tensorflow/compiler/jit/xla_cpu_device.cc:41] Not creating XLA devices, tf_xla_enable_xla_devices not set\n",
      "2022-05-06 16:10:38.635799: I tensorflow/stream_executor/platform/default/dso_loader.cc:49] Successfully opened dynamic library libcuda.so.1\n",
      "2022-05-06 16:10:38.701274: I tensorflow/stream_executor/cuda/cuda_gpu_executor.cc:941] successful NUMA node read from SysFS had negative value (-1), but there must be at least one NUMA node, so returning NUMA node zero\n",
      "2022-05-06 16:10:38.701363: I tensorflow/core/common_runtime/gpu/gpu_device.cc:1720] Found device 0 with properties: \n",
      "pciBusID: 0000:01:00.0 name: NVIDIA GeForce RTX 3070 computeCapability: 8.6\n",
      "coreClock: 1.83GHz coreCount: 46 deviceMemorySize: 7.79GiB deviceMemoryBandwidth: 417.29GiB/s\n",
      "2022-05-06 16:10:38.701378: I tensorflow/stream_executor/platform/default/dso_loader.cc:49] Successfully opened dynamic library libcudart.so.11.0\n",
      "2022-05-06 16:10:38.706206: I tensorflow/stream_executor/platform/default/dso_loader.cc:49] Successfully opened dynamic library libcublas.so.11\n",
      "2022-05-06 16:10:38.706256: I tensorflow/stream_executor/platform/default/dso_loader.cc:49] Successfully opened dynamic library libcublasLt.so.11\n",
      "2022-05-06 16:10:38.709536: I tensorflow/stream_executor/platform/default/dso_loader.cc:49] Successfully opened dynamic library libcufft.so.10\n",
      "2022-05-06 16:10:38.710710: I tensorflow/stream_executor/platform/default/dso_loader.cc:49] Successfully opened dynamic library libcurand.so.10\n",
      "2022-05-06 16:10:38.715541: I tensorflow/stream_executor/platform/default/dso_loader.cc:49] Successfully opened dynamic library libcusolver.so.10\n",
      "2022-05-06 16:10:38.716797: I tensorflow/stream_executor/platform/default/dso_loader.cc:49] Successfully opened dynamic library libcusparse.so.11\n",
      "2022-05-06 16:10:38.717262: I tensorflow/stream_executor/platform/default/dso_loader.cc:49] Successfully opened dynamic library libcudnn.so.8\n",
      "2022-05-06 16:10:38.717339: I tensorflow/stream_executor/cuda/cuda_gpu_executor.cc:941] successful NUMA node read from SysFS had negative value (-1), but there must be at least one NUMA node, so returning NUMA node zero\n",
      "2022-05-06 16:10:38.717448: I tensorflow/stream_executor/cuda/cuda_gpu_executor.cc:941] successful NUMA node read from SysFS had negative value (-1), but there must be at least one NUMA node, so returning NUMA node zero\n",
      "2022-05-06 16:10:38.717630: I tensorflow/core/common_runtime/gpu/gpu_device.cc:1862] Adding visible gpu devices: 0\n"
     ]
    }
   ],
   "source": [
    "import os\n",
    "import sys\n",
    "path_to_this_notebook = os.path.abspath('.')\n",
    "PATH_TO_PROJECT = path_to_this_notebook[: path_to_this_notebook.find('notebooks')]\n",
    "sys.path.append(PATH_TO_PROJECT)\n",
    "import tensorflow as tf\n",
    "physical_devices = tf.config.experimental.list_physical_devices('GPU')\n",
    "config = tf.config.experimental.set_memory_growth(physical_devices[0], True)"
   ]
  },
  {
   "cell_type": "code",
   "execution_count": 2,
   "id": "ee55b21c",
   "metadata": {},
   "outputs": [
    {
     "name": "stderr",
     "output_type": "stream",
     "text": [
      "/home/gr1/miniconda3/envs/nmr/lib/python3.7/site-packages/tqdm/auto.py:22: TqdmWarning: IProgress not found. Please update jupyter and ipywidgets. See https://ipywidgets.readthedocs.io/en/stable/user_install.html\n",
      "  from .autonotebook import tqdm as notebook_tqdm\n"
     ]
    }
   ],
   "source": [
    "import numpy as np\n",
    "import pandas as pd\n",
    "import os\n",
    "import pickle\n",
    "import matplotlib.pyplot as plt\n",
    "\n",
    "from src.visualization.plotting_utils import plot_confusion_matrix\n",
    "from sklearn.metrics import confusion_matrix\n",
    "\n",
    "\n",
    "from src.metadata_processing.load_data import load_recordings_metadata, load_sounds\n",
    "from src.deep_learning.neural_networks.create_conv_model import create_conv_model\n",
    "from src.deep_learning.soundtype_classifier.classifier_datasets import *\n",
    "\n",
    "\n",
    "%load_ext autoreload\n",
    "%autoreload 2\n",
    "%matplotlib inline"
   ]
  },
  {
   "cell_type": "code",
   "execution_count": 10,
   "id": "e202bc6d",
   "metadata": {},
   "outputs": [
    {
     "name": "stdout",
     "output_type": "stream",
     "text": [
      "berlin_im-augment=5_nfft=512_nmel=80_tdim=64_rec-denoise=False_highpass=3000\n"
     ]
    }
   ],
   "source": [
    "# Choose dataset\n",
    "path_to_datasets = PATH_TO_PROJECT + 'models/classifier/datasets/'\n",
    "path_to_models = PATH_TO_PROJECT + 'models/classifier/networks/'\n",
    "all_datasets = os.listdir(path_to_datasets)\n",
    "dataset_name = all_datasets[5]\n",
    "print(dataset_name)"
   ]
  },
  {
   "cell_type": "code",
   "execution_count": 11,
   "id": "dc923e4f",
   "metadata": {},
   "outputs": [],
   "source": [
    "# Load data\n",
    "(sounds_metadata_train, sounds_npy_train, melspecs_train, sounds_metadata_test,\n",
    " sounds_npy_test, melspecs_test, all_classes_str) = load_dataset(path_to_datasets, dataset_name)"
   ]
  },
  {
   "cell_type": "code",
   "execution_count": 12,
   "id": "9f5d2a81",
   "metadata": {},
   "outputs": [
    {
     "data": {
      "text/plain": [
       "softchirp      14095\n",
       "downsweep       8145\n",
       "pupcombo        6660\n",
       "whistle         6480\n",
       "combotwo        6300\n",
       "combo           5880\n",
       "scream          5580\n",
       "pupcheveron     5490\n",
       "loudchirp       5310\n",
       "grunt           5050\n",
       "upsweep         5040\n",
       "pupsquawk       4620\n",
       "hiccup          3400\n",
       "Name: cl, dtype: int64"
      ]
     },
     "execution_count": 12,
     "metadata": {},
     "output_type": "execute_result"
    }
   ],
   "source": [
    "sounds_metadata_train['cl'].value_counts()"
   ]
  },
  {
   "cell_type": "code",
   "execution_count": 13,
   "id": "c7c9f11e",
   "metadata": {},
   "outputs": [
    {
     "data": {
      "text/plain": [
       "softchirp      1177\n",
       "pupcombo        248\n",
       "downsweep       202\n",
       "whistle          99\n",
       "combotwo         65\n",
       "combo            59\n",
       "grunt            56\n",
       "pupcheveron      56\n",
       "scream           46\n",
       "pupsquawk        35\n",
       "upsweep          27\n",
       "loudchirp        18\n",
       "hiccup            3\n",
       "Name: cl, dtype: int64"
      ]
     },
     "execution_count": 13,
     "metadata": {},
     "output_type": "execute_result"
    }
   ],
   "source": [
    "sounds_metadata_test['cl'].value_counts()"
   ]
  },
  {
   "cell_type": "code",
   "execution_count": null,
   "id": "e4478802",
   "metadata": {},
   "outputs": [],
   "source": []
  },
  {
   "cell_type": "code",
   "execution_count": 81,
   "id": "5b848c3f",
   "metadata": {},
   "outputs": [
    {
     "name": "stdout",
     "output_type": "stream",
     "text": [
      "All classes:\n",
      " ['phee', 'scream', 'sq', 'sul', 'tweet']\n",
      "\n",
      "      Training sounds:\n",
      "scream    4225\n",
      "sq        2295\n",
      "sul       1680\n",
      "phee      1595\n",
      "tweet     1575\n",
      "Name: cl, dtype: int64\n",
      "\n",
      "      Test sounds:\n",
      "sq        217\n",
      "scream    192\n",
      "sul        43\n",
      "phee        8\n",
      "tweet       7\n",
      "Name: cl, dtype: int64\n"
     ]
    }
   ],
   "source": [
    "# Print some info about the datset\n",
    "print('All classes:\\n', all_classes_str)\n",
    "print('\\n      Training sounds:')\n",
    "print(sounds_metadata_train['cl'].value_counts())\n",
    "print('\\n      Test sounds:')\n",
    "print(sounds_metadata_test['cl'].value_counts())"
   ]
  },
  {
   "cell_type": "code",
   "execution_count": 82,
   "id": "ca805e2d",
   "metadata": {
    "scrolled": true
   },
   "outputs": [
    {
     "name": "stdout",
     "output_type": "stream",
     "text": [
      "Image shape: (80, 64)\n"
     ]
    }
   ],
   "source": [
    "# Transform labels into numerical format, get spec shape, transform data to 4 dimensions.\n",
    "y_train_str = sounds_metadata_train['cl']\n",
    "y_test_str = sounds_metadata_test['cl']\n",
    "y_train = y_train_str.apply(lambda x: all_classes_str.index(x))\n",
    "y_test = y_test_str.apply(lambda x: all_classes_str.index(x))\n",
    "if len(melspecs_train.shape) < 4:\n",
    "    melspecs_train = melspecs_train.reshape((*melspecs_train.shape, 1))\n",
    "if len(melspecs_test.shape) < 4:\n",
    "    melspecs_test = melspecs_test.reshape((*melspecs_test.shape, 1))\n",
    "img_shape = melspecs_train.shape[1:3]\n",
    "print('Image shape:', img_shape)"
   ]
  },
  {
   "cell_type": "code",
   "execution_count": 83,
   "id": "a20fd883",
   "metadata": {
    "scrolled": true
   },
   "outputs": [
    {
     "name": "stdout",
     "output_type": "stream",
     "text": [
      "Model: \"sequential_7\"\n",
      "_________________________________________________________________\n",
      "Layer (type)                 Output Shape              Param #   \n",
      "=================================================================\n",
      "conv2d_28 (Conv2D)           (None, 80, 64, 64)        640       \n",
      "_________________________________________________________________\n",
      "max_pooling2d_28 (MaxPooling (None, 40, 32, 64)        0         \n",
      "_________________________________________________________________\n",
      "dropout_28 (Dropout)         (None, 40, 32, 64)        0         \n",
      "_________________________________________________________________\n",
      "conv2d_29 (Conv2D)           (None, 40, 32, 64)        36928     \n",
      "_________________________________________________________________\n",
      "max_pooling2d_29 (MaxPooling (None, 20, 16, 64)        0         \n",
      "_________________________________________________________________\n",
      "dropout_29 (Dropout)         (None, 20, 16, 64)        0         \n",
      "_________________________________________________________________\n",
      "conv2d_30 (Conv2D)           (None, 20, 16, 64)        36928     \n",
      "_________________________________________________________________\n",
      "max_pooling2d_30 (MaxPooling (None, 10, 8, 64)         0         \n",
      "_________________________________________________________________\n",
      "dropout_30 (Dropout)         (None, 10, 8, 64)         0         \n",
      "_________________________________________________________________\n",
      "conv2d_31 (Conv2D)           (None, 10, 8, 64)         36928     \n",
      "_________________________________________________________________\n",
      "max_pooling2d_31 (MaxPooling (None, 5, 4, 64)          0         \n",
      "_________________________________________________________________\n",
      "dropout_31 (Dropout)         (None, 5, 4, 64)          0         \n",
      "_________________________________________________________________\n",
      "flatten_7 (Flatten)          (None, 1280)              0         \n",
      "_________________________________________________________________\n",
      "dense_21 (Dense)             (None, 512)               655872    \n",
      "_________________________________________________________________\n",
      "dense_22 (Dense)             (None, 512)               262656    \n",
      "_________________________________________________________________\n",
      "dense_23 (Dense)             (None, 5)                 2565      \n",
      "=================================================================\n",
      "Total params: 1,032,517\n",
      "Trainable params: 1,032,517\n",
      "Non-trainable params: 0\n",
      "_________________________________________________________________\n"
     ]
    }
   ],
   "source": [
    "model = create_conv_model(img_shape, all_classes_str)"
   ]
  },
  {
   "cell_type": "code",
   "execution_count": 84,
   "id": "b15a98d2",
   "metadata": {
    "scrolled": true
   },
   "outputs": [
    {
     "name": "stdout",
     "output_type": "stream",
     "text": [
      "Epoch 1/30\n",
      "45/45 [==============================] - 2s 38ms/step - loss: 1.7065 - sparse_categorical_accuracy: 0.3505 - val_loss: 1.1628 - val_sparse_categorical_accuracy: 0.5246\n",
      "Epoch 2/30\n",
      "45/45 [==============================] - 2s 38ms/step - loss: 1.1768 - sparse_categorical_accuracy: 0.5232 - val_loss: 1.2248 - val_sparse_categorical_accuracy: 0.5075\n",
      "Epoch 3/30\n",
      "45/45 [==============================] - 2s 37ms/step - loss: 1.1143 - sparse_categorical_accuracy: 0.5359 - val_loss: 1.1002 - val_sparse_categorical_accuracy: 0.6831\n",
      "Epoch 4/30\n",
      "45/45 [==============================] - 2s 35ms/step - loss: 1.0012 - sparse_categorical_accuracy: 0.5681 - val_loss: 1.0075 - val_sparse_categorical_accuracy: 0.7302\n",
      "Epoch 5/30\n",
      "45/45 [==============================] - 2s 35ms/step - loss: 0.9501 - sparse_categorical_accuracy: 0.5937 - val_loss: 1.0874 - val_sparse_categorical_accuracy: 0.4454\n",
      "Epoch 6/30\n",
      "45/45 [==============================] - 2s 35ms/step - loss: 0.9202 - sparse_categorical_accuracy: 0.6071 - val_loss: 0.9150 - val_sparse_categorical_accuracy: 0.6938\n",
      "Epoch 7/30\n",
      "45/45 [==============================] - 2s 35ms/step - loss: 0.8852 - sparse_categorical_accuracy: 0.6185 - val_loss: 1.0085 - val_sparse_categorical_accuracy: 0.5632\n",
      "Epoch 8/30\n",
      "45/45 [==============================] - 2s 35ms/step - loss: 0.8719 - sparse_categorical_accuracy: 0.6217 - val_loss: 0.8725 - val_sparse_categorical_accuracy: 0.5653\n",
      "Epoch 9/30\n",
      "45/45 [==============================] - 2s 36ms/step - loss: 0.8405 - sparse_categorical_accuracy: 0.6359 - val_loss: 1.0020 - val_sparse_categorical_accuracy: 0.5289\n",
      "Epoch 10/30\n",
      "45/45 [==============================] - 2s 35ms/step - loss: 0.8319 - sparse_categorical_accuracy: 0.6436 - val_loss: 0.8740 - val_sparse_categorical_accuracy: 0.5439\n",
      "Epoch 11/30\n",
      "45/45 [==============================] - 2s 36ms/step - loss: 0.7778 - sparse_categorical_accuracy: 0.6707 - val_loss: 0.9290 - val_sparse_categorical_accuracy: 0.4968\n",
      "Epoch 12/30\n",
      "45/45 [==============================] - 2s 35ms/step - loss: 0.7567 - sparse_categorical_accuracy: 0.6699 - val_loss: 0.9522 - val_sparse_categorical_accuracy: 0.5268\n",
      "Epoch 13/30\n",
      "45/45 [==============================] - 2s 35ms/step - loss: 0.7480 - sparse_categorical_accuracy: 0.6872 - val_loss: 0.9910 - val_sparse_categorical_accuracy: 0.5418\n",
      "Epoch 14/30\n",
      "45/45 [==============================] - 2s 36ms/step - loss: 0.7332 - sparse_categorical_accuracy: 0.6859 - val_loss: 0.6789 - val_sparse_categorical_accuracy: 0.7173\n",
      "Epoch 15/30\n",
      "45/45 [==============================] - 2s 36ms/step - loss: 0.7024 - sparse_categorical_accuracy: 0.7028 - val_loss: 0.7937 - val_sparse_categorical_accuracy: 0.6338\n",
      "Epoch 16/30\n",
      "45/45 [==============================] - 2s 35ms/step - loss: 0.6718 - sparse_categorical_accuracy: 0.7079 - val_loss: 0.8172 - val_sparse_categorical_accuracy: 0.6231\n",
      "Epoch 17/30\n",
      "45/45 [==============================] - 2s 35ms/step - loss: 0.6552 - sparse_categorical_accuracy: 0.7156 - val_loss: 0.6404 - val_sparse_categorical_accuracy: 0.7430\n",
      "Epoch 18/30\n",
      "45/45 [==============================] - 2s 36ms/step - loss: 0.6043 - sparse_categorical_accuracy: 0.7483 - val_loss: 0.7594 - val_sparse_categorical_accuracy: 0.6488\n",
      "Epoch 19/30\n",
      "45/45 [==============================] - 2s 35ms/step - loss: 0.6434 - sparse_categorical_accuracy: 0.7303 - val_loss: 0.6527 - val_sparse_categorical_accuracy: 0.7302\n",
      "Epoch 20/30\n",
      "45/45 [==============================] - 2s 35ms/step - loss: 0.5927 - sparse_categorical_accuracy: 0.7506 - val_loss: 0.6980 - val_sparse_categorical_accuracy: 0.7259\n",
      "Epoch 21/30\n",
      "45/45 [==============================] - 2s 35ms/step - loss: 0.5678 - sparse_categorical_accuracy: 0.7618 - val_loss: 0.7208 - val_sparse_categorical_accuracy: 0.6981\n",
      "Epoch 22/30\n",
      "45/45 [==============================] - 2s 35ms/step - loss: 0.5590 - sparse_categorical_accuracy: 0.7654 - val_loss: 0.6172 - val_sparse_categorical_accuracy: 0.7473\n",
      "Epoch 23/30\n",
      "45/45 [==============================] - 2s 35ms/step - loss: 0.5153 - sparse_categorical_accuracy: 0.7859 - val_loss: 0.6975 - val_sparse_categorical_accuracy: 0.6638\n",
      "Epoch 24/30\n",
      "45/45 [==============================] - 2s 35ms/step - loss: 0.5044 - sparse_categorical_accuracy: 0.7920 - val_loss: 0.6224 - val_sparse_categorical_accuracy: 0.7388\n",
      "Epoch 25/30\n",
      "45/45 [==============================] - 2s 35ms/step - loss: 0.4843 - sparse_categorical_accuracy: 0.8002 - val_loss: 0.6356 - val_sparse_categorical_accuracy: 0.7173\n",
      "Epoch 26/30\n",
      "45/45 [==============================] - 2s 35ms/step - loss: 0.4634 - sparse_categorical_accuracy: 0.8089 - val_loss: 0.6301 - val_sparse_categorical_accuracy: 0.7323\n",
      "Epoch 27/30\n",
      "45/45 [==============================] - 2s 35ms/step - loss: 0.4244 - sparse_categorical_accuracy: 0.8266 - val_loss: 0.6506 - val_sparse_categorical_accuracy: 0.6916\n",
      "Epoch 28/30\n",
      "45/45 [==============================] - 2s 35ms/step - loss: 0.4304 - sparse_categorical_accuracy: 0.8252 - val_loss: 0.6782 - val_sparse_categorical_accuracy: 0.6809\n",
      "Epoch 29/30\n",
      "45/45 [==============================] - 2s 35ms/step - loss: 0.4224 - sparse_categorical_accuracy: 0.8225 - val_loss: 0.6289 - val_sparse_categorical_accuracy: 0.7216\n",
      "Epoch 30/30\n",
      "45/45 [==============================] - 2s 34ms/step - loss: 0.4149 - sparse_categorical_accuracy: 0.8322 - val_loss: 0.5934 - val_sparse_categorical_accuracy: 0.7645\n",
      "INFO:tensorflow:Assets written to: /home/gr1/Projects/naked-mole-rats/models/classifier/networks/hvd_im-augment=5_nfft=512_nmel=80_tdim=64_rec-denoise=False_highpass=3000/assets\n"
     ]
    }
   ],
   "source": [
    "epochs = 30\n",
    "model.fit(melspecs_train, y_train, epochs=epochs, batch_size=256, validation_data=(melspecs_test, y_test))\n",
    "model.save(path_to_models + dataset_name)"
   ]
  },
  {
   "cell_type": "code",
   "execution_count": 85,
   "id": "12cb12ae",
   "metadata": {
    "scrolled": true
   },
   "outputs": [],
   "source": [
    "y_train_predicted_probs = model.predict(melspecs_train)\n",
    "y_train_predicted = np.argmax(y_train_predicted_probs, 1)\n",
    "y_test_predicted_probs = model.predict(melspecs_test)\n",
    "y_test_predicted = np.argmax(y_test_predicted_probs, 1)"
   ]
  },
  {
   "cell_type": "code",
   "execution_count": 86,
   "id": "93ad369d",
   "metadata": {},
   "outputs": [
    {
     "data": {
      "image/png": "[encoded data removed]",
      "text/plain": [
       "<Figure size 720x720 with 2 Axes>"
      ]
     },
     "metadata": {
      "needs_background": "light"
     },
     "output_type": "display_data"
    }
   ],
   "source": [
    "# Confusion matrix on the train data\n",
    "cm = confusion_matrix(y_train, y_train_predicted)\n",
    "fig = plot_confusion_matrix(cm, all_classes_str, \n",
    "                            figsize = (10, 10), cmap = plt.cm.OrRd, normalize = True, clim = (0, 1))\n",
    "fig.savefig(path_to_models + dataset_name + '/confusion_matrix_train.png')"
   ]
  },
  {
   "cell_type": "code",
   "execution_count": 87,
   "id": "787a8e16",
   "metadata": {},
   "outputs": [
    {
     "data": {
      "image/png": "[encoded data removed]",
      "text/plain": [
       "<Figure size 720x720 with 2 Axes>"
      ]
     },
     "metadata": {
      "needs_background": "light"
     },
     "output_type": "display_data"
    }
   ],
   "source": [
    "# Confusion matrix on the test data\n",
    "cm = confusion_matrix(y_test, y_test_predicted)\n",
    "fig = plot_confusion_matrix(cm, all_classes_str, \n",
    "                            figsize = (10, 10), cmap = plt.cm.OrRd, normalize = True, clim = (0, 1))\n",
    "fig.savefig(path_to_models + dataset_name + '/confusion_matrix_test.png')"
   ]
  },
  {
   "cell_type": "code",
   "execution_count": null,
   "id": "6dfb6e32",
   "metadata": {},
   "outputs": [],
   "source": []
  },
  {
   "cell_type": "code",
   "execution_count": null,
   "id": "561d5632",
   "metadata": {},
   "outputs": [],
   "source": []
  },
  {
   "cell_type": "code",
   "execution_count": null,
   "id": "2f17272b",
   "metadata": {},
   "outputs": [],
   "source": []
  }
 ],
 "metadata": {
  "kernelspec": {
   "display_name": "Python 3 (ipykernel)",
   "language": "python",
   "name": "python3"
  },
  "language_info": {
   "codemirror_mode": {
    "name": "ipython",
    "version": 3
   },
   "file_extension": ".py",
   "mimetype": "text/x-python",
   "name": "python",
   "nbconvert_exporter": "python",
   "pygments_lexer": "ipython3",
   "version": "3.7.13"
  }
 },
 "nbformat": 4,
 "nbformat_minor": 5
}
