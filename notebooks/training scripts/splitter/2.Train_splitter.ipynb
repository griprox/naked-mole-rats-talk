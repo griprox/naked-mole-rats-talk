{
 "cells": [
  {
   "cell_type": "code",
   "execution_count": 3,
   "id": "9322ec86",
   "metadata": {
    "scrolled": true
   },
   "outputs": [
    {
     "name": "stdout",
     "output_type": "stream",
     "text": [
      "The autoreload extension is already loaded. To reload it, use:\n",
      "  %reload_ext autoreload\n"
     ]
    },
    {
     "name": "stderr",
     "output_type": "stream",
     "text": [
      "2022-04-24 16:35:03.934029: I tensorflow/compiler/jit/xla_gpu_device.cc:99] Not creating XLA devices, tf_xla_enable_xla_devices not set\n",
      "2022-04-24 16:35:03.934269: I tensorflow/stream_executor/cuda/cuda_gpu_executor.cc:941] successful NUMA node read from SysFS had negative value (-1), but there must be at least one NUMA node, so returning NUMA node zero\n",
      "2022-04-24 16:35:03.934386: I tensorflow/core/common_runtime/gpu/gpu_device.cc:1720] Found device 0 with properties: \n",
      "pciBusID: 0000:01:00.0 name: NVIDIA GeForce RTX 3070 computeCapability: 8.6\n",
      "coreClock: 1.83GHz coreCount: 46 deviceMemorySize: 7.79GiB deviceMemoryBandwidth: 417.29GiB/s\n",
      "2022-04-24 16:35:03.934441: I tensorflow/stream_executor/platform/default/dso_loader.cc:49] Successfully opened dynamic library libcudart.so.11.0\n",
      "2022-04-24 16:35:03.934503: I tensorflow/stream_executor/platform/default/dso_loader.cc:49] Successfully opened dynamic library libcublas.so.11\n",
      "2022-04-24 16:35:03.934518: I tensorflow/stream_executor/platform/default/dso_loader.cc:49] Successfully opened dynamic library libcublasLt.so.11\n",
      "2022-04-24 16:35:03.934533: I tensorflow/stream_executor/platform/default/dso_loader.cc:49] Successfully opened dynamic library libcufft.so.10\n",
      "2022-04-24 16:35:03.934548: I tensorflow/stream_executor/platform/default/dso_loader.cc:49] Successfully opened dynamic library libcurand.so.10\n",
      "2022-04-24 16:35:03.934562: I tensorflow/stream_executor/platform/default/dso_loader.cc:49] Successfully opened dynamic library libcusolver.so.10\n",
      "2022-04-24 16:35:03.934577: I tensorflow/stream_executor/platform/default/dso_loader.cc:49] Successfully opened dynamic library libcusparse.so.11\n",
      "2022-04-24 16:35:03.934592: I tensorflow/stream_executor/platform/default/dso_loader.cc:49] Successfully opened dynamic library libcudnn.so.8\n",
      "2022-04-24 16:35:03.934655: I tensorflow/stream_executor/cuda/cuda_gpu_executor.cc:941] successful NUMA node read from SysFS had negative value (-1), but there must be at least one NUMA node, so returning NUMA node zero\n",
      "2022-04-24 16:35:03.934854: I tensorflow/stream_executor/cuda/cuda_gpu_executor.cc:941] successful NUMA node read from SysFS had negative value (-1), but there must be at least one NUMA node, so returning NUMA node zero\n",
      "2022-04-24 16:35:03.934916: I tensorflow/core/common_runtime/gpu/gpu_device.cc:1862] Adding visible gpu devices: 0\n",
      "2022-04-24 16:35:04.071925: E tensorflow/core/common_runtime/session.cc:91] Failed to create session: Internal: CUDA runtime implicit initialization on GPU:0 failed. Status: out of memory\n",
      "2022-04-24 16:35:04.071950: E tensorflow/c/c_api.cc:2184] Internal: CUDA runtime implicit initialization on GPU:0 failed. Status: out of memory\n"
     ]
    },
    {
     "ename": "InternalError",
     "evalue": "CUDA runtime implicit initialization on GPU:0 failed. Status: out of memory",
     "output_type": "error",
     "traceback": [
      "\u001b[0;31m---------------------------------------------------------------------------\u001b[0m",
      "\u001b[0;31mInternalError\u001b[0m                             Traceback (most recent call last)",
      "\u001b[0;32m/tmp/ipykernel_14063/3747624339.py\u001b[0m in \u001b[0;36m<module>\u001b[0;34m\u001b[0m\n\u001b[1;32m     21\u001b[0m \u001b[0mconfig\u001b[0m \u001b[0;34m=\u001b[0m \u001b[0mConfigProto\u001b[0m\u001b[0;34m(\u001b[0m\u001b[0;34m)\u001b[0m\u001b[0;34m\u001b[0m\u001b[0;34m\u001b[0m\u001b[0m\n\u001b[1;32m     22\u001b[0m \u001b[0mconfig\u001b[0m\u001b[0;34m.\u001b[0m\u001b[0mgpu_options\u001b[0m\u001b[0;34m.\u001b[0m\u001b[0mallow_growth\u001b[0m \u001b[0;34m=\u001b[0m \u001b[0;32mTrue\u001b[0m\u001b[0;34m\u001b[0m\u001b[0;34m\u001b[0m\u001b[0m\n\u001b[0;32m---> 23\u001b[0;31m \u001b[0msession\u001b[0m \u001b[0;34m=\u001b[0m \u001b[0mInteractiveSession\u001b[0m\u001b[0;34m(\u001b[0m\u001b[0mconfig\u001b[0m\u001b[0;34m=\u001b[0m\u001b[0mconfig\u001b[0m\u001b[0;34m)\u001b[0m\u001b[0;34m\u001b[0m\u001b[0;34m\u001b[0m\u001b[0m\n\u001b[0m",
      "\u001b[0;32m~/miniconda3/envs/nmr/lib/python3.7/site-packages/tensorflow/python/client/session.py\u001b[0m in \u001b[0;36m__init__\u001b[0;34m(self, target, graph, config)\u001b[0m\n\u001b[1;32m   1756\u001b[0m     \u001b[0mconfig\u001b[0m\u001b[0;34m.\u001b[0m\u001b[0mgraph_options\u001b[0m\u001b[0;34m.\u001b[0m\u001b[0mplace_pruned_graph\u001b[0m \u001b[0;34m=\u001b[0m \u001b[0;32mTrue\u001b[0m\u001b[0;34m\u001b[0m\u001b[0;34m\u001b[0m\u001b[0m\n\u001b[1;32m   1757\u001b[0m \u001b[0;34m\u001b[0m\u001b[0m\n\u001b[0;32m-> 1758\u001b[0;31m     \u001b[0msuper\u001b[0m\u001b[0;34m(\u001b[0m\u001b[0mInteractiveSession\u001b[0m\u001b[0;34m,\u001b[0m \u001b[0mself\u001b[0m\u001b[0;34m)\u001b[0m\u001b[0;34m.\u001b[0m\u001b[0m__init__\u001b[0m\u001b[0;34m(\u001b[0m\u001b[0mtarget\u001b[0m\u001b[0;34m,\u001b[0m \u001b[0mgraph\u001b[0m\u001b[0;34m,\u001b[0m \u001b[0mconfig\u001b[0m\u001b[0;34m)\u001b[0m\u001b[0;34m\u001b[0m\u001b[0;34m\u001b[0m\u001b[0m\n\u001b[0m\u001b[1;32m   1759\u001b[0m     \u001b[0;32mwith\u001b[0m \u001b[0mInteractiveSession\u001b[0m\u001b[0;34m.\u001b[0m\u001b[0m_count_lock\u001b[0m\u001b[0;34m:\u001b[0m\u001b[0;34m\u001b[0m\u001b[0;34m\u001b[0m\u001b[0m\n\u001b[1;32m   1760\u001b[0m       \u001b[0;32mif\u001b[0m \u001b[0mInteractiveSession\u001b[0m\u001b[0;34m.\u001b[0m\u001b[0m_active_session_count\u001b[0m \u001b[0;34m>\u001b[0m \u001b[0;36m0\u001b[0m\u001b[0;34m:\u001b[0m\u001b[0;34m\u001b[0m\u001b[0;34m\u001b[0m\u001b[0m\n",
      "\u001b[0;32m~/miniconda3/envs/nmr/lib/python3.7/site-packages/tensorflow/python/client/session.py\u001b[0m in \u001b[0;36m__init__\u001b[0;34m(self, target, graph, config)\u001b[0m\n\u001b[1;32m    709\u001b[0m     \u001b[0;32mtry\u001b[0m\u001b[0;34m:\u001b[0m\u001b[0;34m\u001b[0m\u001b[0;34m\u001b[0m\u001b[0m\n\u001b[1;32m    710\u001b[0m       \u001b[0;31m# pylint: disable=protected-access\u001b[0m\u001b[0;34m\u001b[0m\u001b[0;34m\u001b[0m\u001b[0;34m\u001b[0m\u001b[0m\n\u001b[0;32m--> 711\u001b[0;31m       \u001b[0mself\u001b[0m\u001b[0;34m.\u001b[0m\u001b[0m_session\u001b[0m \u001b[0;34m=\u001b[0m \u001b[0mtf_session\u001b[0m\u001b[0;34m.\u001b[0m\u001b[0mTF_NewSessionRef\u001b[0m\u001b[0;34m(\u001b[0m\u001b[0mself\u001b[0m\u001b[0;34m.\u001b[0m\u001b[0m_graph\u001b[0m\u001b[0;34m.\u001b[0m\u001b[0m_c_graph\u001b[0m\u001b[0;34m,\u001b[0m \u001b[0mopts\u001b[0m\u001b[0;34m)\u001b[0m\u001b[0;34m\u001b[0m\u001b[0;34m\u001b[0m\u001b[0m\n\u001b[0m\u001b[1;32m    712\u001b[0m       \u001b[0;31m# pylint: enable=protected-access\u001b[0m\u001b[0;34m\u001b[0m\u001b[0;34m\u001b[0m\u001b[0;34m\u001b[0m\u001b[0m\n\u001b[1;32m    713\u001b[0m     \u001b[0;32mfinally\u001b[0m\u001b[0;34m:\u001b[0m\u001b[0;34m\u001b[0m\u001b[0;34m\u001b[0m\u001b[0m\n",
      "\u001b[0;31mInternalError\u001b[0m: CUDA runtime implicit initialization on GPU:0 failed. Status: out of memory"
     ]
    }
   ],
   "source": [
    "import os\n",
    "import sys\n",
    "path_to_this_notebook = os.path.abspath('.')\n",
    "PATH_TO_PROJECT = path_to_this_notebook[: path_to_this_notebook.find('notebooks')]\n",
    "sys.path.append(PATH_TO_PROJECT)\n",
    "\n",
    "import numpy as np\n",
    "import pandas as pd\n",
    "import os\n",
    "import pickle\n",
    "import matplotlib.pyplot as plt\n",
    "from src.deep_learning.splitter.splitter_datasets import load_dataset\n",
    "from src.deep_learning.neural_networks.create_conv_model import create_conv_model\n",
    "\n",
    "%load_ext autoreload\n",
    "%autoreload 2\n",
    "%matplotlib inline\n",
    "\n",
    "config = ConfigProto()\n",
    "config.gpu_options.allow_growth = True\n",
    "session = InteractiveSession(config=config)"
   ]
  },
  {
   "cell_type": "code",
   "execution_count": 3,
   "id": "8ade9014",
   "metadata": {},
   "outputs": [],
   "source": [
    "def augment_function(im, target_shape):\n",
    "    im = random_roll(im)\n",
    "    im = random_zoom(im)\n",
    "    im = random_freq_mask(im)\n",
    "    im = random_time_mask(im, width_probs=((0, .62), (1, 0.23), (2, 0.15)))\n",
    "    im = resize_with_padding(im, target_shape)\n",
    "    return im"
   ]
  },
  {
   "cell_type": "code",
   "execution_count": 4,
   "id": "e0c90454",
   "metadata": {},
   "outputs": [
    {
     "name": "stdout",
     "output_type": "stream",
     "text": [
      "res=2048_step1024_nfft=512_nmel=40_rec-denoise=False_highpass=3000\n"
     ]
    }
   ],
   "source": [
    "path_to_datasets = PATH_TO_PROJECT + 'models/splitter/datasets/'\n",
    "path_to_models = PATH_TO_PROJECT + 'models/splitter/networks/'\n",
    "all_datasets = os.listdir(path_to_datasets)\n",
    "dataset_name = all_datasets[2]\n",
    "print(dataset_name)"
   ]
  },
  {
   "cell_type": "code",
   "execution_count": 5,
   "id": "cba97f18",
   "metadata": {
    "scrolled": true
   },
   "outputs": [
    {
     "name": "stderr",
     "output_type": "stream",
     "text": [
      "/home/gr1/miniconda3/envs/nmr/lib/python3.7/site-packages/numpy/core/fromnumeric.py:3373: RuntimeWarning: Mean of empty slice.\n",
      "  out=out, **kwargs)\n",
      "/home/gr1/miniconda3/envs/nmr/lib/python3.7/site-packages/numpy/core/_methods.py:170: RuntimeWarning: invalid value encountered in double_scalars\n",
      "  ret = ret.dtype.type(ret / rcount)\n"
     ]
    }
   ],
   "source": [
    "times_augment = 2\n",
    "\n",
    "(sounds_metadata_train, sounds_npy_train, melspecs_train,\n",
    " sounds_metadata_test, sounds_npy_test, melspecs_test) = load_dataset(path_to_datasets, dataset_name)\n",
    "\n",
    "sounds_metadata_train = pd.concat([sounds_metadata_train] * times_augment).reset_index(drop=True)\n",
    "melspecs_train = np.concatenate([melspecs_train] * times_augment)\n",
    "melspecs_train = np.array([augment_function(im, im.shape) for im in melspecs_train])"
   ]
  },
  {
   "cell_type": "code",
   "execution_count": 13,
   "id": "5e860fe6",
   "metadata": {
    "scrolled": true
   },
   "outputs": [
    {
     "name": "stdout",
     "output_type": "stream",
     "text": [
      "Model: \"sequential_1\"\n",
      "_________________________________________________________________\n",
      "Layer (type)                 Output Shape              Param #   \n",
      "=================================================================\n",
      "conv2d_4 (Conv2D)            (None, 40, 9, 64)         640       \n",
      "_________________________________________________________________\n",
      "max_pooling2d_4 (MaxPooling2 (None, 20, 4, 64)         0         \n",
      "_________________________________________________________________\n",
      "dropout_4 (Dropout)          (None, 20, 4, 64)         0         \n",
      "_________________________________________________________________\n",
      "conv2d_5 (Conv2D)            (None, 20, 4, 64)         36928     \n",
      "_________________________________________________________________\n",
      "max_pooling2d_5 (MaxPooling2 (None, 10, 2, 64)         0         \n",
      "_________________________________________________________________\n",
      "dropout_5 (Dropout)          (None, 10, 2, 64)         0         \n",
      "_________________________________________________________________\n",
      "conv2d_6 (Conv2D)            (None, 10, 2, 64)         36928     \n",
      "_________________________________________________________________\n",
      "max_pooling2d_6 (MaxPooling2 (None, 5, 2, 64)          0         \n",
      "_________________________________________________________________\n",
      "dropout_6 (Dropout)          (None, 5, 2, 64)          0         \n",
      "_________________________________________________________________\n",
      "conv2d_7 (Conv2D)            (None, 5, 2, 64)          36928     \n",
      "_________________________________________________________________\n",
      "max_pooling2d_7 (MaxPooling2 (None, 2, 2, 64)          0         \n",
      "_________________________________________________________________\n",
      "dropout_7 (Dropout)          (None, 2, 2, 64)          0         \n",
      "_________________________________________________________________\n",
      "flatten_1 (Flatten)          (None, 256)               0         \n",
      "_________________________________________________________________\n",
      "dense_3 (Dense)              (None, 512)               131584    \n",
      "_________________________________________________________________\n",
      "dense_4 (Dense)              (None, 512)               262656    \n",
      "_________________________________________________________________\n",
      "dense_5 (Dense)              (None, 2)                 1026      \n",
      "=================================================================\n",
      "Total params: 506,690\n",
      "Trainable params: 506,690\n",
      "Non-trainable params: 0\n",
      "_________________________________________________________________\n",
      "Epoch 1/50\n",
      "720/720 [==============================] - 48s 67ms/step - loss: 0.5782 - sparse_categorical_accuracy: 0.6895 - val_loss: 0.2786 - val_sparse_categorical_accuracy: 0.9111\n",
      "Epoch 2/50\n",
      "720/720 [==============================] - 49s 68ms/step - loss: 0.3322 - sparse_categorical_accuracy: 0.8525 - val_loss: 0.2880 - val_sparse_categorical_accuracy: 0.9098\n",
      "Epoch 3/50\n",
      "720/720 [==============================] - 48s 67ms/step - loss: 0.3180 - sparse_categorical_accuracy: 0.8582 - val_loss: 0.2628 - val_sparse_categorical_accuracy: 0.9119\n",
      "Epoch 4/50\n",
      "720/720 [==============================] - 43s 60ms/step - loss: 0.3080 - sparse_categorical_accuracy: 0.8634 - val_loss: 0.2433 - val_sparse_categorical_accuracy: 0.9124\n",
      "Epoch 5/50\n",
      "720/720 [==============================] - 45s 62ms/step - loss: 0.3007 - sparse_categorical_accuracy: 0.8647 - val_loss: 0.2382 - val_sparse_categorical_accuracy: 0.9128\n",
      "Epoch 6/50\n",
      "720/720 [==============================] - 48s 67ms/step - loss: 0.2968 - sparse_categorical_accuracy: 0.8668 - val_loss: 0.2485 - val_sparse_categorical_accuracy: 0.9113\n",
      "Epoch 7/50\n",
      "720/720 [==============================] - 44s 62ms/step - loss: 0.2898 - sparse_categorical_accuracy: 0.8713 - val_loss: 0.2416 - val_sparse_categorical_accuracy: 0.9153\n",
      "Epoch 8/50\n",
      "720/720 [==============================] - 40s 55ms/step - loss: 0.2895 - sparse_categorical_accuracy: 0.8712 - val_loss: 0.2348 - val_sparse_categorical_accuracy: 0.9163\n",
      "Epoch 9/50\n",
      "720/720 [==============================] - 38s 53ms/step - loss: 0.2863 - sparse_categorical_accuracy: 0.8724 - val_loss: 0.2224 - val_sparse_categorical_accuracy: 0.9192\n",
      "Epoch 10/50\n",
      "720/720 [==============================] - 44s 61ms/step - loss: 0.2862 - sparse_categorical_accuracy: 0.8727 - val_loss: 0.2353 - val_sparse_categorical_accuracy: 0.9248\n",
      "Epoch 11/50\n",
      "720/720 [==============================] - 48s 66ms/step - loss: 0.2795 - sparse_categorical_accuracy: 0.8776 - val_loss: 0.2475 - val_sparse_categorical_accuracy: 0.9234\n",
      "Epoch 12/50\n",
      "720/720 [==============================] - 48s 66ms/step - loss: 0.2777 - sparse_categorical_accuracy: 0.8777 - val_loss: 0.2650 - val_sparse_categorical_accuracy: 0.9133\n",
      "Epoch 13/50\n",
      "720/720 [==============================] - 48s 67ms/step - loss: 0.2784 - sparse_categorical_accuracy: 0.8776 - val_loss: 0.2216 - val_sparse_categorical_accuracy: 0.9167\n",
      "Epoch 14/50\n",
      "720/720 [==============================] - 49s 68ms/step - loss: 0.2744 - sparse_categorical_accuracy: 0.8784 - val_loss: 0.2268 - val_sparse_categorical_accuracy: 0.9248\n",
      "Epoch 15/50\n",
      "720/720 [==============================] - 48s 67ms/step - loss: 0.2712 - sparse_categorical_accuracy: 0.8808 - val_loss: 0.2095 - val_sparse_categorical_accuracy: 0.9234\n",
      "Epoch 16/50\n",
      "720/720 [==============================] - 48s 66ms/step - loss: 0.2718 - sparse_categorical_accuracy: 0.8811 - val_loss: 0.2185 - val_sparse_categorical_accuracy: 0.9244\n",
      "Epoch 17/50\n",
      "720/720 [==============================] - 48s 67ms/step - loss: 0.2698 - sparse_categorical_accuracy: 0.8819 - val_loss: 0.2218 - val_sparse_categorical_accuracy: 0.9284\n",
      "Epoch 18/50\n",
      "720/720 [==============================] - 49s 68ms/step - loss: 0.2686 - sparse_categorical_accuracy: 0.8837 - val_loss: 0.2065 - val_sparse_categorical_accuracy: 0.9263\n",
      "Epoch 19/50\n",
      "720/720 [==============================] - 49s 68ms/step - loss: 0.2652 - sparse_categorical_accuracy: 0.8849 - val_loss: 0.2350 - val_sparse_categorical_accuracy: 0.9270\n",
      "Epoch 20/50\n",
      "720/720 [==============================] - 50s 69ms/step - loss: 0.2666 - sparse_categorical_accuracy: 0.8840 - val_loss: 0.2125 - val_sparse_categorical_accuracy: 0.9255\n",
      "Epoch 21/50\n",
      "720/720 [==============================] - 39s 54ms/step - loss: 0.2650 - sparse_categorical_accuracy: 0.8850 - val_loss: 0.2336 - val_sparse_categorical_accuracy: 0.9297\n",
      "Epoch 22/50\n",
      "720/720 [==============================] - 37s 51ms/step - loss: 0.2618 - sparse_categorical_accuracy: 0.8872 - val_loss: 0.2321 - val_sparse_categorical_accuracy: 0.9257\n",
      "Epoch 23/50\n",
      "720/720 [==============================] - 38s 53ms/step - loss: 0.2615 - sparse_categorical_accuracy: 0.8870 - val_loss: 0.2387 - val_sparse_categorical_accuracy: 0.9200\n",
      "Epoch 24/50\n",
      "720/720 [==============================] - 37s 51ms/step - loss: 0.2612 - sparse_categorical_accuracy: 0.8872 - val_loss: 0.2267 - val_sparse_categorical_accuracy: 0.9329\n",
      "Epoch 25/50\n",
      "720/720 [==============================] - 37s 51ms/step - loss: 0.2594 - sparse_categorical_accuracy: 0.8880 - val_loss: 0.2106 - val_sparse_categorical_accuracy: 0.9258\n",
      "Epoch 26/50\n",
      "720/720 [==============================] - 37s 51ms/step - loss: 0.2601 - sparse_categorical_accuracy: 0.8879 - val_loss: 0.2788 - val_sparse_categorical_accuracy: 0.8906\n",
      "Epoch 27/50\n",
      "720/720 [==============================] - 37s 51ms/step - loss: 0.2583 - sparse_categorical_accuracy: 0.8884 - val_loss: 0.2164 - val_sparse_categorical_accuracy: 0.9275\n",
      "Epoch 28/50\n",
      "720/720 [==============================] - 42s 58ms/step - loss: 0.2566 - sparse_categorical_accuracy: 0.8895 - val_loss: 0.2299 - val_sparse_categorical_accuracy: 0.9230\n",
      "Epoch 29/50\n",
      "720/720 [==============================] - 48s 67ms/step - loss: 0.2561 - sparse_categorical_accuracy: 0.8907 - val_loss: 0.2030 - val_sparse_categorical_accuracy: 0.9322\n",
      "Epoch 30/50\n",
      "720/720 [==============================] - 48s 67ms/step - loss: 0.2523 - sparse_categorical_accuracy: 0.8919 - val_loss: 0.2385 - val_sparse_categorical_accuracy: 0.9229\n",
      "Epoch 31/50\n",
      "720/720 [==============================] - 43s 60ms/step - loss: 0.2536 - sparse_categorical_accuracy: 0.8917 - val_loss: 0.1949 - val_sparse_categorical_accuracy: 0.9349\n",
      "Epoch 32/50\n",
      "720/720 [==============================] - 38s 52ms/step - loss: 0.2530 - sparse_categorical_accuracy: 0.8925 - val_loss: 0.2285 - val_sparse_categorical_accuracy: 0.9270\n",
      "Epoch 33/50\n",
      " 33/720 [>.............................] - ETA: 36s - loss: 0.2413 - sparse_categorical_accuracy: 0.8988"
     ]
    },
    {
     "ename": "KeyboardInterrupt",
     "evalue": "",
     "output_type": "error",
     "traceback": [
      "\u001b[0;31m---------------------------------------------------------------------------\u001b[0m",
      "\u001b[0;31mKeyboardInterrupt\u001b[0m                         Traceback (most recent call last)",
      "\u001b[0;32m/tmp/ipykernel_18783/3414870112.py\u001b[0m in \u001b[0;36m<module>\u001b[0;34m\u001b[0m\n\u001b[1;32m     11\u001b[0m \u001b[0;34m\u001b[0m\u001b[0m\n\u001b[1;32m     12\u001b[0m model.fit(melspecs_train.reshape((*melspecs_train.shape, 1)), y_train, epochs=epochs, batch_size=256,\n\u001b[0;32m---> 13\u001b[0;31m          validation_data=(melspecs_test.reshape((*melspecs_test.shape, 1)), y_test))\n\u001b[0m",
      "\u001b[0;32m~/miniconda3/envs/nmr/lib/python3.7/site-packages/tensorflow/python/keras/engine/training.py\u001b[0m in \u001b[0;36mfit\u001b[0;34m(self, x, y, batch_size, epochs, verbose, callbacks, validation_split, validation_data, shuffle, class_weight, sample_weight, initial_epoch, steps_per_epoch, validation_steps, validation_batch_size, validation_freq, max_queue_size, workers, use_multiprocessing)\u001b[0m\n\u001b[1;32m   1098\u001b[0m                 _r=1):\n\u001b[1;32m   1099\u001b[0m               \u001b[0mcallbacks\u001b[0m\u001b[0;34m.\u001b[0m\u001b[0mon_train_batch_begin\u001b[0m\u001b[0;34m(\u001b[0m\u001b[0mstep\u001b[0m\u001b[0;34m)\u001b[0m\u001b[0;34m\u001b[0m\u001b[0;34m\u001b[0m\u001b[0m\n\u001b[0;32m-> 1100\u001b[0;31m               \u001b[0mtmp_logs\u001b[0m \u001b[0;34m=\u001b[0m \u001b[0mself\u001b[0m\u001b[0;34m.\u001b[0m\u001b[0mtrain_function\u001b[0m\u001b[0;34m(\u001b[0m\u001b[0miterator\u001b[0m\u001b[0;34m)\u001b[0m\u001b[0;34m\u001b[0m\u001b[0;34m\u001b[0m\u001b[0m\n\u001b[0m\u001b[1;32m   1101\u001b[0m               \u001b[0;32mif\u001b[0m \u001b[0mdata_handler\u001b[0m\u001b[0;34m.\u001b[0m\u001b[0mshould_sync\u001b[0m\u001b[0;34m:\u001b[0m\u001b[0;34m\u001b[0m\u001b[0;34m\u001b[0m\u001b[0m\n\u001b[1;32m   1102\u001b[0m                 \u001b[0mcontext\u001b[0m\u001b[0;34m.\u001b[0m\u001b[0masync_wait\u001b[0m\u001b[0;34m(\u001b[0m\u001b[0;34m)\u001b[0m\u001b[0;34m\u001b[0m\u001b[0;34m\u001b[0m\u001b[0m\n",
      "\u001b[0;32m~/miniconda3/envs/nmr/lib/python3.7/site-packages/tensorflow/python/eager/def_function.py\u001b[0m in \u001b[0;36m__call__\u001b[0;34m(self, *args, **kwds)\u001b[0m\n\u001b[1;32m    826\u001b[0m     \u001b[0mtracing_count\u001b[0m \u001b[0;34m=\u001b[0m \u001b[0mself\u001b[0m\u001b[0;34m.\u001b[0m\u001b[0mexperimental_get_tracing_count\u001b[0m\u001b[0;34m(\u001b[0m\u001b[0;34m)\u001b[0m\u001b[0;34m\u001b[0m\u001b[0;34m\u001b[0m\u001b[0m\n\u001b[1;32m    827\u001b[0m     \u001b[0;32mwith\u001b[0m \u001b[0mtrace\u001b[0m\u001b[0;34m.\u001b[0m\u001b[0mTrace\u001b[0m\u001b[0;34m(\u001b[0m\u001b[0mself\u001b[0m\u001b[0;34m.\u001b[0m\u001b[0m_name\u001b[0m\u001b[0;34m)\u001b[0m \u001b[0;32mas\u001b[0m \u001b[0mtm\u001b[0m\u001b[0;34m:\u001b[0m\u001b[0;34m\u001b[0m\u001b[0;34m\u001b[0m\u001b[0m\n\u001b[0;32m--> 828\u001b[0;31m       \u001b[0mresult\u001b[0m \u001b[0;34m=\u001b[0m \u001b[0mself\u001b[0m\u001b[0;34m.\u001b[0m\u001b[0m_call\u001b[0m\u001b[0;34m(\u001b[0m\u001b[0;34m*\u001b[0m\u001b[0margs\u001b[0m\u001b[0;34m,\u001b[0m \u001b[0;34m**\u001b[0m\u001b[0mkwds\u001b[0m\u001b[0;34m)\u001b[0m\u001b[0;34m\u001b[0m\u001b[0;34m\u001b[0m\u001b[0m\n\u001b[0m\u001b[1;32m    829\u001b[0m       \u001b[0mcompiler\u001b[0m \u001b[0;34m=\u001b[0m \u001b[0;34m\"xla\"\u001b[0m \u001b[0;32mif\u001b[0m \u001b[0mself\u001b[0m\u001b[0;34m.\u001b[0m\u001b[0m_experimental_compile\u001b[0m \u001b[0;32melse\u001b[0m \u001b[0;34m\"nonXla\"\u001b[0m\u001b[0;34m\u001b[0m\u001b[0;34m\u001b[0m\u001b[0m\n\u001b[1;32m    830\u001b[0m       \u001b[0mnew_tracing_count\u001b[0m \u001b[0;34m=\u001b[0m \u001b[0mself\u001b[0m\u001b[0;34m.\u001b[0m\u001b[0mexperimental_get_tracing_count\u001b[0m\u001b[0;34m(\u001b[0m\u001b[0;34m)\u001b[0m\u001b[0;34m\u001b[0m\u001b[0;34m\u001b[0m\u001b[0m\n",
      "\u001b[0;32m~/miniconda3/envs/nmr/lib/python3.7/site-packages/tensorflow/python/eager/def_function.py\u001b[0m in \u001b[0;36m_call\u001b[0;34m(self, *args, **kwds)\u001b[0m\n\u001b[1;32m    853\u001b[0m       \u001b[0;31m# In this case we have created variables on the first call, so we run the\u001b[0m\u001b[0;34m\u001b[0m\u001b[0;34m\u001b[0m\u001b[0;34m\u001b[0m\u001b[0m\n\u001b[1;32m    854\u001b[0m       \u001b[0;31m# defunned version which is guaranteed to never create variables.\u001b[0m\u001b[0;34m\u001b[0m\u001b[0;34m\u001b[0m\u001b[0;34m\u001b[0m\u001b[0m\n\u001b[0;32m--> 855\u001b[0;31m       \u001b[0;32mreturn\u001b[0m \u001b[0mself\u001b[0m\u001b[0;34m.\u001b[0m\u001b[0m_stateless_fn\u001b[0m\u001b[0;34m(\u001b[0m\u001b[0;34m*\u001b[0m\u001b[0margs\u001b[0m\u001b[0;34m,\u001b[0m \u001b[0;34m**\u001b[0m\u001b[0mkwds\u001b[0m\u001b[0;34m)\u001b[0m  \u001b[0;31m# pylint: disable=not-callable\u001b[0m\u001b[0;34m\u001b[0m\u001b[0;34m\u001b[0m\u001b[0m\n\u001b[0m\u001b[1;32m    856\u001b[0m     \u001b[0;32melif\u001b[0m \u001b[0mself\u001b[0m\u001b[0;34m.\u001b[0m\u001b[0m_stateful_fn\u001b[0m \u001b[0;32mis\u001b[0m \u001b[0;32mnot\u001b[0m \u001b[0;32mNone\u001b[0m\u001b[0;34m:\u001b[0m\u001b[0;34m\u001b[0m\u001b[0;34m\u001b[0m\u001b[0m\n\u001b[1;32m    857\u001b[0m       \u001b[0;31m# Release the lock early so that multiple threads can perform the call\u001b[0m\u001b[0;34m\u001b[0m\u001b[0;34m\u001b[0m\u001b[0;34m\u001b[0m\u001b[0m\n",
      "\u001b[0;32m~/miniconda3/envs/nmr/lib/python3.7/site-packages/tensorflow/python/eager/function.py\u001b[0m in \u001b[0;36m__call__\u001b[0;34m(self, *args, **kwargs)\u001b[0m\n\u001b[1;32m   2941\u001b[0m        filtered_flat_args) = self._maybe_define_function(args, kwargs)\n\u001b[1;32m   2942\u001b[0m     return graph_function._call_flat(\n\u001b[0;32m-> 2943\u001b[0;31m         filtered_flat_args, captured_inputs=graph_function.captured_inputs)  # pylint: disable=protected-access\n\u001b[0m\u001b[1;32m   2944\u001b[0m \u001b[0;34m\u001b[0m\u001b[0m\n\u001b[1;32m   2945\u001b[0m   \u001b[0;34m@\u001b[0m\u001b[0mproperty\u001b[0m\u001b[0;34m\u001b[0m\u001b[0;34m\u001b[0m\u001b[0m\n",
      "\u001b[0;32m~/miniconda3/envs/nmr/lib/python3.7/site-packages/tensorflow/python/eager/function.py\u001b[0m in \u001b[0;36m_call_flat\u001b[0;34m(self, args, captured_inputs, cancellation_manager)\u001b[0m\n\u001b[1;32m   1917\u001b[0m       \u001b[0;31m# No tape is watching; skip to running the function.\u001b[0m\u001b[0;34m\u001b[0m\u001b[0;34m\u001b[0m\u001b[0;34m\u001b[0m\u001b[0m\n\u001b[1;32m   1918\u001b[0m       return self._build_call_outputs(self._inference_function.call(\n\u001b[0;32m-> 1919\u001b[0;31m           ctx, args, cancellation_manager=cancellation_manager))\n\u001b[0m\u001b[1;32m   1920\u001b[0m     forward_backward = self._select_forward_and_backward_functions(\n\u001b[1;32m   1921\u001b[0m         \u001b[0margs\u001b[0m\u001b[0;34m,\u001b[0m\u001b[0;34m\u001b[0m\u001b[0;34m\u001b[0m\u001b[0m\n",
      "\u001b[0;32m~/miniconda3/envs/nmr/lib/python3.7/site-packages/tensorflow/python/eager/function.py\u001b[0m in \u001b[0;36mcall\u001b[0;34m(self, ctx, args, cancellation_manager)\u001b[0m\n\u001b[1;32m    558\u001b[0m               \u001b[0minputs\u001b[0m\u001b[0;34m=\u001b[0m\u001b[0margs\u001b[0m\u001b[0;34m,\u001b[0m\u001b[0;34m\u001b[0m\u001b[0;34m\u001b[0m\u001b[0m\n\u001b[1;32m    559\u001b[0m               \u001b[0mattrs\u001b[0m\u001b[0;34m=\u001b[0m\u001b[0mattrs\u001b[0m\u001b[0;34m,\u001b[0m\u001b[0;34m\u001b[0m\u001b[0;34m\u001b[0m\u001b[0m\n\u001b[0;32m--> 560\u001b[0;31m               ctx=ctx)\n\u001b[0m\u001b[1;32m    561\u001b[0m         \u001b[0;32melse\u001b[0m\u001b[0;34m:\u001b[0m\u001b[0;34m\u001b[0m\u001b[0;34m\u001b[0m\u001b[0m\n\u001b[1;32m    562\u001b[0m           outputs = execute.execute_with_cancellation(\n",
      "\u001b[0;32m~/miniconda3/envs/nmr/lib/python3.7/site-packages/tensorflow/python/eager/execute.py\u001b[0m in \u001b[0;36mquick_execute\u001b[0;34m(op_name, num_outputs, inputs, attrs, ctx, name)\u001b[0m\n\u001b[1;32m     58\u001b[0m     \u001b[0mctx\u001b[0m\u001b[0;34m.\u001b[0m\u001b[0mensure_initialized\u001b[0m\u001b[0;34m(\u001b[0m\u001b[0;34m)\u001b[0m\u001b[0;34m\u001b[0m\u001b[0;34m\u001b[0m\u001b[0m\n\u001b[1;32m     59\u001b[0m     tensors = pywrap_tfe.TFE_Py_Execute(ctx._handle, device_name, op_name,\n\u001b[0;32m---> 60\u001b[0;31m                                         inputs, attrs, num_outputs)\n\u001b[0m\u001b[1;32m     61\u001b[0m   \u001b[0;32mexcept\u001b[0m \u001b[0mcore\u001b[0m\u001b[0;34m.\u001b[0m\u001b[0m_NotOkStatusException\u001b[0m \u001b[0;32mas\u001b[0m \u001b[0me\u001b[0m\u001b[0;34m:\u001b[0m\u001b[0;34m\u001b[0m\u001b[0;34m\u001b[0m\u001b[0m\n\u001b[1;32m     62\u001b[0m     \u001b[0;32mif\u001b[0m \u001b[0mname\u001b[0m \u001b[0;32mis\u001b[0m \u001b[0;32mnot\u001b[0m \u001b[0;32mNone\u001b[0m\u001b[0;34m:\u001b[0m\u001b[0;34m\u001b[0m\u001b[0;34m\u001b[0m\u001b[0m\n",
      "\u001b[0;31mKeyboardInterrupt\u001b[0m: "
     ]
    }
   ],
   "source": [
    "epochs = 50\n",
    "\n",
    "img_shape = melspecs_train.shape[1:]\n",
    "y_train_str = sounds_metadata_train['cl'].apply(lambda x: 'noise' if x == 'noise' else 'sound')\n",
    "y_test_str = sounds_metadata_test['cl'].apply(lambda x: 'noise' if x == 'noise' else 'sound')\n",
    "all_classes_str = list(y_train_str.unique())\n",
    "y_train = y_train_str.apply(lambda x: all_classes_str.index(x))\n",
    "y_test = y_test_str.apply(lambda x: all_classes_str.index(x))\n",
    "\n",
    "model = create_conv_model(img_shape, all_classes_str)\n",
    "\n",
    "model.fit(melspecs_train.reshape((*melspecs_train.shape, 1)), y_train, epochs=epochs, batch_size=256,\n",
    "         validation_data=(melspecs_test.reshape((*melspecs_test.shape, 1)), y_test))"
   ]
  },
  {
   "cell_type": "code",
   "execution_count": 14,
   "id": "0d91d8d4",
   "metadata": {},
   "outputs": [],
   "source": [
    "model_name = 'augment'"
   ]
  },
  {
   "cell_type": "code",
   "execution_count": 15,
   "id": "4ee02459",
   "metadata": {},
   "outputs": [
    {
     "name": "stderr",
     "output_type": "stream",
     "text": [
      "2022-02-13 16:53:30.043051: W tensorflow/python/util/util.cc:348] Sets are not currently considered sequences, but this may change in the future, so consider avoiding using them.\n"
     ]
    },
    {
     "name": "stdout",
     "output_type": "stream",
     "text": [
      "INFO:tensorflow:Assets written to: /home/gr1/Projects/naked-mole-rats/models/splitter/networks/res=2048_step1024_nfft=512_nmel=40_rec-denoise=False_highpass=3000/augment/assets\n"
     ]
    }
   ],
   "source": [
    "model.save(path_to_models + dataset_name + '/%s/' % model_name)"
   ]
  }
 ],
 "metadata": {
  "kernelspec": {
   "display_name": "Python 3 (ipykernel)",
   "language": "python",
   "name": "python3"
  },
  "language_info": {
   "codemirror_mode": {
    "name": "ipython",
    "version": 3
   },
   "file_extension": ".py",
   "mimetype": "text/x-python",
   "name": "python",
   "nbconvert_exporter": "python",
   "pygments_lexer": "ipython3",
   "version": "3.7.13"
  }
 },
 "nbformat": 4,
 "nbformat_minor": 5
}
