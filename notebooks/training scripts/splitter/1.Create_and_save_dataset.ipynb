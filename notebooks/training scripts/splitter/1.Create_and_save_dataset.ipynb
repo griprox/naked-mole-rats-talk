{
 "cells": [
  {
   "cell_type": "code",
   "execution_count": 4,
   "id": "a88ea2f8",
   "metadata": {
    "scrolled": true
   },
   "outputs": [
    {
     "name": "stderr",
     "output_type": "stream",
     "text": [
      "/home/gr1/miniconda3/envs/nmr/lib/python3.7/site-packages/tqdm/auto.py:22: TqdmWarning: IProgress not found. Please update jupyter and ipywidgets. See https://ipywidgets.readthedocs.io/en/stable/user_install.html\n",
      "  from .autonotebook import tqdm as notebook_tqdm\n"
     ]
    }
   ],
   "source": [
    "import os\n",
    "import sys\n",
    "path_to_this_notebook = os.path.abspath('.')\n",
    "PATH_TO_PROJECT = path_to_this_notebook[: path_to_this_notebook.find('notebooks')]\n",
    "sys.path.append(PATH_TO_PROJECT)\n",
    "\n",
    "import numpy as np\n",
    "import pandas as pd\n",
    "import os\n",
    "import pickle\n",
    "import matplotlib.pyplot as plt\n",
    "\n",
    "from src.deep_learning.splitter.splitter_datasets import create_data_for_splitter\n",
    "from src.metadata_processing.load_data import load_recordings_metadata, load_sounds\n",
    "\n",
    "%load_ext autoreload\n",
    "%autoreload 2\n",
    "%matplotlib inline\n"
   ]
  },
  {
   "cell_type": "code",
   "execution_count": 9,
   "id": "da27b176",
   "metadata": {},
   "outputs": [
    {
     "name": "stdout",
     "output_type": "stream",
     "text": [
      "african_new-specs_res=2048_step1024_nfft=512_shape=(128, 16)_denoise=False_hpass=3000\n"
     ]
    }
   ],
   "source": [
    "path_to_recordings_metadata = PATH_TO_PROJECT + 'data/'\n",
    "recordings_metadata_name = 'recordings_metadata.csv'\n",
    "\n",
    "# what data to load\n",
    "dates = 'all'\n",
    "colonies = ['arryn', 'stark', 'baratheon', 'martell', 'lannister', 'targaryen', 'tyrell']\n",
    "experiments = 'all'\n",
    "stages = ['traced and checked', 'labeled and checked', 'split and checked']\n",
    "\n",
    "# Denoising parameters\n",
    "use_rec_denoising = False\n",
    "rec_denoising_params = {'stationary': False, 'n_fft': 512, 'time_constant_s': 0.05, \n",
    "                        'freq_mask_smooth_hz': 500, 'time_mask_smooth_ms': 10}\n",
    "# Sounds metadata parameters\n",
    "classes_to_drop = ['weirdo', 'badsplit']\n",
    "max_sounds_per_class = {'softchirp': 20000}\n",
    "max_sound_length = 9000\n",
    "min_sound_length = 1337\n",
    "train_ratio = 0.92\n",
    "columns_to_copy = ['colony', 'ratids', 'date', 'experiment']\n",
    "\n",
    "# Splitting params\n",
    "resolution = 2048\n",
    "step = 1024\n",
    "\n",
    "# Sounds metadata parameters\n",
    "classes_balance_factor = 5/7\n",
    "train_ratio = .7\n",
    "columns_to_copy = ['colony', 'ratids', 'date', 'experiment']\n",
    "\n",
    "# Data augmentation parameters\n",
    "wave_augment_params = {'augment': False, \n",
    "                       'times_each_sound': 1, \n",
    "                       'stretching_lims': None,\n",
    "                       'add_noise_lims': (0.001, 0.005), }\n",
    "times_augment_im = 5\n",
    "augment_im = True\n",
    "\n",
    "# Processing features\n",
    "extract_specs_params = {'num_freq_bins': 128,\n",
    "                        'num_time_bins': 16,\n",
    "                        'nperseg': 512, \n",
    "                        'noverlap': None, \n",
    "                        'min_freq': 3000,\n",
    "                        'max_freq': 11025,\n",
    "                        'spec_min_val': -10, \n",
    "                        'spec_max_val': 0,\n",
    "                        'remove_dc_offset': True, \n",
    "                        'mel': False, \n",
    "                        'max_dur': 0.4, \n",
    "                        'time_stretch': True}\n",
    "sr = 22050\n",
    "highpass_filtering = 3000\n",
    "specs_type = 'new-specs' # 'mel' , 'specs', 'new-specs'\n",
    "target_shape = (extract_specs_params['num_freq_bins'], extract_specs_params['num_time_bins'])\n",
    "\n",
    "# Where to save\n",
    "data_str = 'african'\n",
    "path_to_save = PATH_TO_PROJECT + 'models/splitter/deep_splitter/datasets/'\n",
    "dataset_name = '%s_%s_res=%d_step%d_nfft=%d_shape=%s_denoise=%s_hpass=%s' % (data_str, specs_type, resolution,\n",
    "                                                                             step, extract_specs_params['nperseg'],\n",
    "                                                                             target_shape,  use_rec_denoising, \n",
    "                                                                             highpass_filtering)\n",
    "print(dataset_name)"
   ]
  },
  {
   "cell_type": "code",
   "execution_count": 10,
   "id": "2801a84b",
   "metadata": {},
   "outputs": [],
   "source": [
    "all_params_dict = {'sr': sr,\n",
    "                   \n",
    "                   'recs_metadata': \n",
    "                       {'dates': dates, 'colonies': colonies, 'experiments': experiments, 'stages': stages,\n",
    "                        'path_to_recordings_metadata': path_to_recordings_metadata, \n",
    "                        'recordings_metadata_name': recordings_metadata_name},\n",
    "                   \n",
    "                  'rec_denoising':\n",
    "                       {'use_rec_denoising': use_rec_denoising, 'rec_denoising_params': rec_denoising_params},\n",
    "                   \n",
    "                   'sounds_metadata':\n",
    "                   {'classes_to_drop': classes_to_drop, 'max_sounds_per_class': max_sounds_per_class, \n",
    "                    'max_sound_length': max_sound_length, 'min_sound_length': min_sound_length, \n",
    "                    'train_ratio': train_ratio, 'columns_to_copy': columns_to_copy},\n",
    "                   \n",
    "                  'features': {'resolution':resolution, 'step': step, 'target_shape': target_shape,\n",
    "                               'highpass_filtering': highpass_filtering,\n",
    "                               'wave_augment_params': wave_augment_params, \n",
    "                               'extract_specs_params': extract_specs_params,\n",
    "                                'times_augment_im': times_augment_im, 'augment_im': augment_im,\n",
    "                               'specs_type': specs_type}}"
   ]
  },
  {
   "cell_type": "code",
   "execution_count": 11,
   "id": "f74bcc88",
   "metadata": {
    "scrolled": true
   },
   "outputs": [
    {
     "name": "stdout",
     "output_type": "stream",
     "text": [
      "Using 904 recordings\n"
     ]
    },
    {
     "data": {
      "text/html": [
       "<div>\n",
       "<style scoped>\n",
       "    .dataframe tbody tr th:only-of-type {\n",
       "        vertical-align: middle;\n",
       "    }\n",
       "\n",
       "    .dataframe tbody tr th {\n",
       "        vertical-align: top;\n",
       "    }\n",
       "\n",
       "    .dataframe thead th {\n",
       "        text-align: right;\n",
       "    }\n",
       "</style>\n",
       "<table border=\"1\" class=\"dataframe\">\n",
       "  <thead>\n",
       "    <tr style=\"text-align: right;\">\n",
       "      <th></th>\n",
       "      <th>colony</th>\n",
       "      <th>date</th>\n",
       "      <th>experiment</th>\n",
       "      <th>name</th>\n",
       "      <th>number</th>\n",
       "      <th>path</th>\n",
       "      <th>processing stage</th>\n",
       "      <th>ratids</th>\n",
       "    </tr>\n",
       "  </thead>\n",
       "  <tbody>\n",
       "    <tr>\n",
       "      <th>0</th>\n",
       "      <td>targaryen</td>\n",
       "      <td>21-06-19</td>\n",
       "      <td>single rat softchirps</td>\n",
       "      <td>targaryen_21-06-19_1540_0000001.npy</td>\n",
       "      <td>1.0</td>\n",
       "      <td>/home/gr1/Projects/naked-mole-rats/data/targar...</td>\n",
       "      <td>traced and checked</td>\n",
       "      <td>1540</td>\n",
       "    </tr>\n",
       "    <tr>\n",
       "      <th>1</th>\n",
       "      <td>stark</td>\n",
       "      <td>21-06-19</td>\n",
       "      <td>single rat softchirps</td>\n",
       "      <td>stark_21-06-19_1545_0000001.npy</td>\n",
       "      <td>1.0</td>\n",
       "      <td>/home/gr1/Projects/naked-mole-rats/data/stark/...</td>\n",
       "      <td>labeled and checked</td>\n",
       "      <td>1545</td>\n",
       "    </tr>\n",
       "    <tr>\n",
       "      <th>2</th>\n",
       "      <td>targaryen</td>\n",
       "      <td>08-11-19</td>\n",
       "      <td>single rat softchirps</td>\n",
       "      <td>targaryen_08-11-19_1538_0000085.npy</td>\n",
       "      <td>85.0</td>\n",
       "      <td>/home/gr1/Projects/naked-mole-rats/data/targar...</td>\n",
       "      <td>traced and checked</td>\n",
       "      <td>1538</td>\n",
       "    </tr>\n",
       "    <tr>\n",
       "      <th>3</th>\n",
       "      <td>targaryen</td>\n",
       "      <td>08-11-19</td>\n",
       "      <td>single rat softchirps</td>\n",
       "      <td>targaryen_08-11-19_4030_0000097.npy</td>\n",
       "      <td>97.0</td>\n",
       "      <td>/home/gr1/Projects/naked-mole-rats/data/targar...</td>\n",
       "      <td>traced and checked</td>\n",
       "      <td>4030</td>\n",
       "    </tr>\n",
       "    <tr>\n",
       "      <th>4</th>\n",
       "      <td>targaryen</td>\n",
       "      <td>15-05-19</td>\n",
       "      <td>single rat softchirps</td>\n",
       "      <td>targaryen_15-05-19_1411_0000001.npy</td>\n",
       "      <td>1.0</td>\n",
       "      <td>/home/gr1/Projects/naked-mole-rats/data/targar...</td>\n",
       "      <td>traced and checked</td>\n",
       "      <td>1411</td>\n",
       "    </tr>\n",
       "  </tbody>\n",
       "</table>\n",
       "</div>"
      ],
      "text/plain": [
       "      colony      date             experiment  \\\n",
       "0  targaryen  21-06-19  single rat softchirps   \n",
       "1      stark  21-06-19  single rat softchirps   \n",
       "2  targaryen  08-11-19  single rat softchirps   \n",
       "3  targaryen  08-11-19  single rat softchirps   \n",
       "4  targaryen  15-05-19  single rat softchirps   \n",
       "\n",
       "                                  name  number  \\\n",
       "0  targaryen_21-06-19_1540_0000001.npy     1.0   \n",
       "1      stark_21-06-19_1545_0000001.npy     1.0   \n",
       "2  targaryen_08-11-19_1538_0000085.npy    85.0   \n",
       "3  targaryen_08-11-19_4030_0000097.npy    97.0   \n",
       "4  targaryen_15-05-19_1411_0000001.npy     1.0   \n",
       "\n",
       "                                                path     processing stage  \\\n",
       "0  /home/gr1/Projects/naked-mole-rats/data/targar...   traced and checked   \n",
       "1  /home/gr1/Projects/naked-mole-rats/data/stark/...  labeled and checked   \n",
       "2  /home/gr1/Projects/naked-mole-rats/data/targar...   traced and checked   \n",
       "3  /home/gr1/Projects/naked-mole-rats/data/targar...   traced and checked   \n",
       "4  /home/gr1/Projects/naked-mole-rats/data/targar...   traced and checked   \n",
       "\n",
       "  ratids  \n",
       "0   1540  \n",
       "1   1545  \n",
       "2   1538  \n",
       "3   4030  \n",
       "4   1411  "
      ]
     },
     "execution_count": 11,
     "metadata": {},
     "output_type": "execute_result"
    }
   ],
   "source": [
    "recs_metadata, recs_dict = load_recordings_metadata(path_to_recordings_metadata, recordings_metadata_name,\n",
    "                                           dates, colonies, experiments, stages)\n",
    "if use_rec_denoising:\n",
    "    recs_dict = {rec_name: denoise_recording(rec, sr, **rec_denoising_params) \n",
    "                 for rec_name, rec in recs_dict.items()}\n",
    "recs_metadata.head()"
   ]
  },
  {
   "cell_type": "code",
   "execution_count": null,
   "id": "94711d7c",
   "metadata": {
    "scrolled": true
   },
   "outputs": [
    {
     "name": "stdout",
     "output_type": "stream",
     "text": [
      "Using 904 recordings\n"
     ]
    },
    {
     "name": "stderr",
     "output_type": "stream",
     "text": [
      "/home/gr1/Projects/naked-mole-rats/src/metadata_processing/process_sounds_metadata.py:37: FutureWarning: In a future version of pandas all arguments of concat except for the argument 'objs' will be keyword-only\n",
      "  sounds_metadata = pd.concat(sounds_metadata, 0).reset_index(drop=True)\n"
     ]
    },
    {
     "name": "stdout",
     "output_type": "stream",
     "text": [
      "Using 594 recordings (31840 sounds)for train and  255 recordings (16011 sounds)for test\n",
      "\n",
      "############ Classes in train:############ \n",
      "\n",
      "noise              15626\n",
      "softchirp          14181\n",
      "downsweep            551\n",
      "pupcombo             365\n",
      "whistle              267\n",
      "combo                122\n",
      "combotwo             119\n",
      "grunt                109\n",
      "pupcheveron          102\n",
      "scream                91\n",
      "upsweep               85\n",
      "loudchirp             67\n",
      "pupsquawk             66\n",
      "phee                  24\n",
      "mordent               13\n",
      "RFIDscanner           13\n",
      "vtrill                13\n",
      "hiccup                13\n",
      "tweet                  8\n",
      "invertedmordent        5\n",
      "Name: cl, dtype: int64\n",
      "############ Classes in test: ############ \n",
      "\n",
      "noise              9436\n",
      "softchirp          5622\n",
      "pupcombo            241\n",
      "downsweep           194\n",
      "combotwo            126\n",
      "combo               105\n",
      "pupcheveron          66\n",
      "loudchirp            51\n",
      "grunt                48\n",
      "whistle              47\n",
      "upsweep              26\n",
      "pupsquawk            20\n",
      "hiccup               10\n",
      "mordent               5\n",
      "RFIDscanner           5\n",
      "tweet                 4\n",
      "phee                  4\n",
      "invertedmordent       1\n",
      "Name: cl, dtype: int64\n",
      "Shapes: (70974, 128, 16) (32964, 128, 16)\n"
     ]
    },
    {
     "name": "stderr",
     "output_type": "stream",
     "text": [
      "/home/gr1/Projects/naked-mole-rats/src/deep_learning/splitter/splitter_datasets.py:82: FutureWarning: In a future version of pandas all arguments of concat except for the argument 'objs' will be keyword-only\n",
      "  sounds_metadata_train = pd.concat([sounds_metadata_train] * times_augment_im, 0)\n",
      "/home/gr1/miniconda3/envs/nmr/lib/python3.7/site-packages/numpy/core/fromnumeric.py:3441: RuntimeWarning: Mean of empty slice.\n",
      "  out=out, **kwargs)\n",
      "/home/gr1/miniconda3/envs/nmr/lib/python3.7/site-packages/numpy/core/_methods.py:189: RuntimeWarning: invalid value encountered in double_scalars\n",
      "  ret = ret.dtype.type(ret / rcount)\n"
     ]
    }
   ],
   "source": [
    "(sounds_metadata_train, sounds_npy_train, melspecs_train,\n",
    " sounds_metadata_test,  sounds_npy_test, melspecs_test) =  create_data_for_splitter(all_params_dict, \n",
    "                                                                                    dataset_name,  \n",
    "                                                                                    path_to_save, save=True,\n",
    "                                                                                    preloaded_recs_dict=recs_dict)"
   ]
  },
  {
   "cell_type": "code",
   "execution_count": null,
   "id": "fb951ae9",
   "metadata": {},
   "outputs": [],
   "source": []
  },
  {
   "cell_type": "code",
   "execution_count": null,
   "id": "dbeb6fcb",
   "metadata": {},
   "outputs": [],
   "source": []
  },
  {
   "cell_type": "code",
   "execution_count": null,
   "id": "1a41fa10",
   "metadata": {},
   "outputs": [],
   "source": []
  },
  {
   "cell_type": "code",
   "execution_count": 11,
   "id": "95f068be",
   "metadata": {},
   "outputs": [
    {
     "name": "stdout",
     "output_type": "stream",
     "text": [
      "[ 475  290 6440   30 1870   45  835   35  955  225  145  370   40 5710]\n",
      "[ 41  39 453   6  93  14  91   5  75  68  34  15  38 620]\n"
     ]
    }
   ],
   "source": [
    "# Print bincounts\n",
    "img_shape = melspecs_train.shape[1:]\n",
    "y_train_str = sounds_metadata_train['cl']\n",
    "y_test_str = sounds_metadata_test['cl']\n",
    "all_classes_str = sorted(list(set(y_train_str.unique()) | set(y_test_str.unique())))\n",
    "y_train = y_train_str.apply(lambda x: all_classes_str.index(x))\n",
    "y_test = y_test_str.apply(lambda x: all_classes_str.index(x))\n",
    "print(np.bincount(y_train))\n",
    "print(np.bincount(y_test))"
   ]
  },
  {
   "cell_type": "code",
   "execution_count": 12,
   "id": "9b8c0f82",
   "metadata": {},
   "outputs": [
    {
     "data": {
      "text/plain": [
       "0       8\n",
       "1       8\n",
       "2       8\n",
       "3       2\n",
       "4       2\n",
       "       ..\n",
       "3488    6\n",
       "3489    6\n",
       "3490    2\n",
       "3491    2\n",
       "3492    2\n",
       "Name: cl, Length: 17465, dtype: int64"
      ]
     },
     "execution_count": 12,
     "metadata": {},
     "output_type": "execute_result"
    }
   ],
   "source": [
    "y_train"
   ]
  },
  {
   "cell_type": "code",
   "execution_count": 13,
   "id": "9b000917",
   "metadata": {},
   "outputs": [
    {
     "data": {
      "text/plain": [
       "['combo',\n",
       " 'combotwo',\n",
       " 'downsweep',\n",
       " 'grunt',\n",
       " 'loudchirp',\n",
       " 'mordent',\n",
       " 'phee',\n",
       " 'scream',\n",
       " 'softchirp',\n",
       " 'tweet',\n",
       " 'upsweep',\n",
       " 'vtrill',\n",
       " 'warble',\n",
       " 'whistle']"
      ]
     },
     "execution_count": 13,
     "metadata": {},
     "output_type": "execute_result"
    }
   ],
   "source": [
    "all_classes_str"
   ]
  },
  {
   "cell_type": "code",
   "execution_count": 9,
   "id": "f88c059d",
   "metadata": {},
   "outputs": [
    {
     "data": {
      "text/plain": [
       "<matplotlib.image.AxesImage at 0x7f916527cfd0>"
      ]
     },
     "execution_count": 9,
     "metadata": {},
     "output_type": "execute_result"
    },
    {
     "data": {
      "image/png": "[encoded data removed]",
      "text/plain": [
       "<Figure size 432x288 with 1 Axes>"
      ]
     },
     "metadata": {
      "needs_background": "light"
     },
     "output_type": "display_data"
    }
   ],
   "source": [
    "plt.imshow(melspecs_train[1230])"
   ]
  },
  {
   "cell_type": "code",
   "execution_count": null,
   "id": "61e2563c",
   "metadata": {},
   "outputs": [],
   "source": []
  },
  {
   "cell_type": "code",
   "execution_count": null,
   "id": "84edfc8a",
   "metadata": {},
   "outputs": [],
   "source": []
  },
  {
   "cell_type": "code",
   "execution_count": 10,
   "id": "8a69e7f6",
   "metadata": {},
   "outputs": [
    {
     "ename": "NameError",
     "evalue": "name 'create_txt' is not defined",
     "output_type": "error",
     "traceback": [
      "\u001b[0;31m---------------------------------------------------------------------------\u001b[0m",
      "\u001b[0;31mNameError\u001b[0m                                 Traceback (most recent call last)",
      "\u001b[0;32m/tmp/ipykernel_9767/953963102.py\u001b[0m in \u001b[0;36m<module>\u001b[0;34m\u001b[0m\n\u001b[0;32m----> 1\u001b[0;31m \u001b[0mdf_txt\u001b[0m \u001b[0;34m=\u001b[0m \u001b[0mcreate_txt\u001b[0m\u001b[0;34m(\u001b[0m\u001b[0mrec_labels\u001b[0m\u001b[0;34m,\u001b[0m \u001b[0mth\u001b[0m\u001b[0;34m,\u001b[0m \u001b[0mmin_length\u001b[0m\u001b[0;34m=\u001b[0m\u001b[0mmin_length\u001b[0m\u001b[0;34m,\u001b[0m \u001b[0msr\u001b[0m\u001b[0;34m=\u001b[0m\u001b[0msr\u001b[0m\u001b[0;34m)\u001b[0m\u001b[0;34m\u001b[0m\u001b[0;34m\u001b[0m\u001b[0m\n\u001b[0m\u001b[1;32m      2\u001b[0m \u001b[0mdf_txt\u001b[0m \u001b[0;34m=\u001b[0m \u001b[0mbroaden_timestamps\u001b[0m\u001b[0;34m(\u001b[0m\u001b[0mdf_txt\u001b[0m\u001b[0;34m,\u001b[0m \u001b[0mrec\u001b[0m\u001b[0;34m,\u001b[0m \u001b[0meach_side\u001b[0m\u001b[0;34m=\u001b[0m\u001b[0mbroaden_factor\u001b[0m\u001b[0;34m,\u001b[0m \u001b[0msr\u001b[0m\u001b[0;34m=\u001b[0m\u001b[0msr\u001b[0m\u001b[0;34m)\u001b[0m\u001b[0;34m\u001b[0m\u001b[0;34m\u001b[0m\u001b[0m\n\u001b[1;32m      3\u001b[0m \u001b[0;34m\u001b[0m\u001b[0m\n\u001b[1;32m      4\u001b[0m \u001b[0mrec_labels\u001b[0m \u001b[0;34m=\u001b[0m \u001b[0mnp\u001b[0m\u001b[0;34m.\u001b[0m\u001b[0mzeros\u001b[0m\u001b[0;34m(\u001b[0m\u001b[0mlen\u001b[0m\u001b[0;34m(\u001b[0m\u001b[0mrec\u001b[0m\u001b[0;34m)\u001b[0m\u001b[0;34m,\u001b[0m \u001b[0mdtype\u001b[0m\u001b[0;34m=\u001b[0m\u001b[0;34m'int'\u001b[0m\u001b[0;34m)\u001b[0m\u001b[0;34m\u001b[0m\u001b[0;34m\u001b[0m\u001b[0m\n\u001b[1;32m      5\u001b[0m \u001b[0;32mfor\u001b[0m \u001b[0ms\u001b[0m\u001b[0;34m,\u001b[0m \u001b[0me\u001b[0m\u001b[0;34m,\u001b[0m \u001b[0mcl\u001b[0m \u001b[0;32min\u001b[0m \u001b[0mdf_txt\u001b[0m\u001b[0;34m.\u001b[0m\u001b[0mvalues\u001b[0m\u001b[0;34m:\u001b[0m\u001b[0;34m\u001b[0m\u001b[0;34m\u001b[0m\u001b[0m\n",
      "\u001b[0;31mNameError\u001b[0m: name 'create_txt' is not defined"
     ]
    }
   ],
   "source": [
    "    df_txt = create_txt(rec_labels, th, min_length=min_length, sr=sr)\n",
    "    df_txt = broaden_timestamps(df_txt, rec, each_side=broaden_factor, sr=sr)\n",
    "\n",
    "    rec_labels = np.zeros(len(rec), dtype='int')\n",
    "    for s, e, cl in df_txt.values:\n",
    "        if cl == 'sound':\n",
    "            s_rec, e_rec = int(sr * s), int(sr * e)\n",
    "            rec_labels[s_rec: e_rec] = 1\n",
    "\n",
    "    img_labels = []\n",
    "    for ind in np.arange(0, len(rec) - px_to_smp, px_to_smp):\n",
    "        pixel_label = np.mean(rec_labels[int(ind): int(ind + px_to_smp)])\n",
    "        img_labels.append(pixel_label)\n",
    "    img_labels = np.array(img_labels)"
   ]
  },
  {
   "cell_type": "code",
   "execution_count": null,
   "id": "b465e43e",
   "metadata": {},
   "outputs": [],
   "source": []
  },
  {
   "cell_type": "code",
   "execution_count": null,
   "id": "0915ea8b",
   "metadata": {},
   "outputs": [],
   "source": []
  },
  {
   "cell_type": "code",
   "execution_count": null,
   "id": "bd20497f",
   "metadata": {},
   "outputs": [],
   "source": []
  }
 ],
 "metadata": {
  "kernelspec": {
   "display_name": "Python 3 (ipykernel)",
   "language": "python",
   "name": "python3"
  },
  "language_info": {
   "codemirror_mode": {
    "name": "ipython",
    "version": 3
   },
   "file_extension": ".py",
   "mimetype": "text/x-python",
   "name": "python",
   "nbconvert_exporter": "python",
   "pygments_lexer": "ipython3",
   "version": "3.7.13"
  }
 },
 "nbformat": 4,
 "nbformat_minor": 5
}
