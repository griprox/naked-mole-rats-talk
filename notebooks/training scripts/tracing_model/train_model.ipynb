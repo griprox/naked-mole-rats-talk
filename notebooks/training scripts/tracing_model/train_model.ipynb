{
 "cells": [
  {
   "cell_type": "code",
   "execution_count": 2,
   "metadata": {},
   "outputs": [
    {
     "name": "stdout",
     "output_type": "stream",
     "text": [
      "/home/nakedmoleratvoices/Mole rats reborn/CodeRefactoredFinal\n"
     ]
    }
   ],
   "source": [
    "cd /home/nakedmoleratvoices/Mole\\ rats\\ reborn/CodeRefactoredFinal/"
   ]
  },
  {
   "cell_type": "code",
   "execution_count": 3,
   "metadata": {},
   "outputs": [],
   "source": [
    "import numpy as np\n",
    "import pandas as pd\n",
    "import os\n",
    "import pickle\n",
    "import matplotlib.pyplot as plt\n",
    "from src.preprocessing.process_sounds_metadata import generate_sounds_metadata, make_fixed_size_sounds\n",
    "from src.preprocessing.filters import filter_recs_metadata\n",
    "from src.preprocessing.load_data import load_recs_dict, load_sounds, load_traces_wavs_and_metadata\n",
    "from src.data_representations.process_wavs import *\n",
    "from src.util import rgb2gray, make_image\n",
    "import re\n",
    "from skimage.transform import resize\n",
    "from src.deep_learning.tracing import *\n",
    "%matplotlib inline\n"
   ]
  },
  {
   "cell_type": "markdown",
   "metadata": {},
   "source": [
    "### Load data"
   ]
  },
  {
   "cell_type": "code",
   "execution_count": 4,
   "metadata": {},
   "outputs": [
    {
     "name": "stderr",
     "output_type": "stream",
     "text": [
      "/usr/local/lib/python3.5/dist-packages/pandas/core/computation/expressions.py:193: UserWarning: evaluating in Python space because the '*' operator is not supported by numexpr for the bool dtype, use '&' instead\n",
      "  op=op_str, alt_op=unsupported[op_str]\n"
     ]
    }
   ],
   "source": [
    "# some handchecked data\n",
    "\n",
    "path_to_recordings_metadata = '/home/nakedmoleratvoices/Mole rats reborn/CodeRefactoredFinal/data/'\n",
    "recordings_metadata_name = 'recordings_metadata.csv'\n",
    "dates = 'all'\n",
    "colonies = 'all'\n",
    "experiments = ['single rat softchirps']\n",
    "stages = ['traced and checked',]\n",
    "recs_to_take = 49\n",
    "\n",
    "recs_metadata = pd.read_csv(path_to_recordings_metadata + recordings_metadata_name)\n",
    "mask = filter_recs_metadata(recs_metadata, dates, colonies, stages, experiments)\n",
    "recs_for_training = recs_metadata[mask].reset_index(drop = True)\n",
    "indexes_to_take = np.arange(0, len(recs_for_training))\n",
    "np.random.shuffle(indexes_to_take)\n",
    "recs_for_training = recs_for_training.iloc[indexes_to_take[:49]].reset_index(drop = True)\n",
    "recs_dict = load_recs_dict(recs_for_training)\n",
    "\n",
    "wavs_checked, traces_checked = [], []\n",
    "for rec_name, rec_path in recs_for_training[['name', 'path']].values:\n",
    "        path_to_traces = rec_path.replace('recordings', 'traces')\n",
    "        rec_traces = [t for t in os.listdir(path_to_traces) if rec_name[:-3] in t]\n",
    "        for tr_name in rec_traces:\n",
    "            tr = rgb2gray(plt.imread(path_to_traces + tr_name))\n",
    "            s, e = map(lambda x: int(22050 * float(x)), \n",
    "                       re.findall('[0-9]+\\.[0-9]+\\_[0-9]+\\.[0-9]+', tr_name)[0].split('_'))\n",
    "            wav = recs_dict[rec_name][s : e]\n",
    "            \n",
    "            wavs_checked.append(wav)\n",
    "            traces_checked.append(clear_trace(tr))\n",
    "            \n",
    "images_checked = [resize(make_image(w,), (128, 64)) for w in wavs_checked]\n",
    "traces_checked = [resize(tr, (128, 64)) for tr in traces_checked]\n",
    "# reshaping"
   ]
  },
  {
   "cell_type": "code",
   "execution_count": 4,
   "metadata": {},
   "outputs": [],
   "source": [
    "# manually traced data\n",
    "paths = ['/home/nakedmoleratvoices/Mole rats reborn/datasets/traced_softchirps/SC manual1/',\n",
    "         '/home/nakedmoleratvoices/Mole rats reborn/datasets/traced_softchirps/SC manual2/']\n",
    "\n",
    "images_manual, traces_manual = [], []\n",
    "for p in paths:\n",
    "    for ratid in os.listdir(p):\n",
    "        names  = [n[:-4] for n in os.listdir(p + ratid) if '.txt' in n]\n",
    "        for n in names:\n",
    "            im = rgb2gray(plt.imread(p + ratid + '/%s.png' % n))\n",
    "            trace = np.zeros(im.shape)\n",
    "            txt = np.loadtxt(p + ratid + '/%s.txt' % n, dtype = 'int')[:, [1, 0]]\n",
    "            inds_to_delete = np.where((txt[:, 0] >= im.shape[0]) + (txt[:, 1] >= im.shape[1]))[0]\n",
    "            txt = np.delete(txt, inds_to_delete, 0)\n",
    "            trace[tuple(txt.T)] = 1\n",
    "            images_manual.append(im)\n",
    "            traces_manual.append(trace)\n",
    "            "
   ]
  },
  {
   "cell_type": "code",
   "execution_count": 5,
   "metadata": {},
   "outputs": [],
   "source": [
    "X = np.array(images_checked + images_manual)\n",
    "y = np.array(traces_checked + traces_manual)"
   ]
  },
  {
   "cell_type": "markdown",
   "metadata": {},
   "source": [
    "### Train"
   ]
  },
  {
   "cell_type": "code",
   "execution_count": 6,
   "metadata": {},
   "outputs": [],
   "source": [
    "times_aug = 5\n",
    "X_aug = []\n",
    "y_aug = []\n",
    "\n",
    "for xi, yi in zip(X, y):\n",
    "    for _ in range(times_aug):\n",
    "        xi_aug, yi_aug = roll_pair_of_ims(xi, yi)\n",
    "        X_aug.append(xi_aug)\n",
    "        y_aug.append(yi_aug)\n",
    "X_aug = np.array(X_aug)\n",
    "y_aug = np.array(y_aug)"
   ]
  },
  {
   "cell_type": "code",
   "execution_count": 7,
   "metadata": {
    "scrolled": true
   },
   "outputs": [
    {
     "name": "stdout",
     "output_type": "stream",
     "text": [
      "Model: \"model_1\"\n",
      "_________________________________________________________________\n",
      "Layer (type)                 Output Shape              Param #   \n",
      "=================================================================\n",
      "input_1 (InputLayer)         [(None, 128, 64, 1)]      0         \n",
      "_________________________________________________________________\n",
      "conv2d (Conv2D)              (None, 128, 64, 64)       640       \n",
      "_________________________________________________________________\n",
      "max_pooling2d (MaxPooling2D) (None, 64, 32, 64)        0         \n",
      "_________________________________________________________________\n",
      "conv2d_1 (Conv2D)            (None, 64, 32, 64)        36928     \n",
      "_________________________________________________________________\n",
      "max_pooling2d_1 (MaxPooling2 (None, 32, 16, 64)        0         \n",
      "_________________________________________________________________\n",
      "conv2d_2 (Conv2D)            (None, 32, 16, 64)        36928     \n",
      "_________________________________________________________________\n",
      "max_pooling2d_2 (MaxPooling2 (None, 16, 8, 64)         0         \n",
      "_________________________________________________________________\n",
      "conv2d_3 (Conv2D)            (None, 16, 8, 64)         36928     \n",
      "_________________________________________________________________\n",
      "up_sampling2d (UpSampling2D) (None, 32, 16, 64)        0         \n",
      "_________________________________________________________________\n",
      "conv2d_4 (Conv2D)            (None, 32, 16, 64)        36928     \n",
      "_________________________________________________________________\n",
      "up_sampling2d_1 (UpSampling2 (None, 64, 32, 64)        0         \n",
      "_________________________________________________________________\n",
      "conv2d_5 (Conv2D)            (None, 64, 32, 64)        36928     \n",
      "_________________________________________________________________\n",
      "up_sampling2d_2 (UpSampling2 (None, 128, 64, 64)       0         \n",
      "_________________________________________________________________\n",
      "conv2d_6 (Conv2D)            (None, 128, 64, 1)        577       \n",
      "=================================================================\n",
      "Total params: 185,857\n",
      "Trainable params: 185,857\n",
      "Non-trainable params: 0\n",
      "_________________________________________________________________\n"
     ]
    }
   ],
   "source": [
    "import tensorflow as tf\n",
    "from tensorflow.keras.layers import Conv2D, Activation, MaxPooling2D, UpSampling2D, Concatenate, Input\n",
    "\n",
    "input_img = Input(shape = (128, 64, 1))\n",
    "x = Conv2D(64, (3, 3), activation='relu', padding='same')(input_img)\n",
    "x = MaxPooling2D((2, 2), padding='same')(x)\n",
    "x = Conv2D(64, (3, 3), activation='relu', padding='same')(x)\n",
    "x = MaxPooling2D((2, 2), padding='same')(x)\n",
    "x = Conv2D(64, (3, 3), activation='relu', padding='same')(x)\n",
    "encoded = MaxPooling2D((2, 2), padding='same')(x)\n",
    "\n",
    "x = Conv2D(64, (3, 3), activation='relu', padding='same')(encoded)\n",
    "x = UpSampling2D((2, 2))(x)\n",
    "x = Conv2D(64, (3, 3), activation='relu', padding='same')(x)\n",
    "x = UpSampling2D((2, 2))(x)\n",
    "x = Conv2D(64, (3, 3), activation='relu', padding ='same')(x)\n",
    "x = UpSampling2D((2, 2))(x)\n",
    "decoded = Conv2D(1, (3, 3), activation=None, padding='same')(x)\n",
    "\n",
    "autoencoder = tf.keras.Model(input_img, decoded)\n",
    "autoencoder.compile(optimizer='adadelta', loss='mean_squared_error')\n",
    "\n",
    "model = tf.keras.Model(input_img, decoded)\n",
    "model.compile(loss='mean_squared_error', optimizer = tf.keras.optimizers.Adam(lr = 4e-3))\n",
    "\n",
    "model.summary()"
   ]
  },
  {
   "cell_type": "code",
   "execution_count": 8,
   "metadata": {},
   "outputs": [],
   "source": [
    "X_aug = np.reshape(X_aug, (-1, 128, 64, 1))\n",
    "y_aug = np.reshape(y_aug, (-1, 128, 64, 1))"
   ]
  },
  {
   "cell_type": "code",
   "execution_count": 30,
   "metadata": {
    "scrolled": true
   },
   "outputs": [
    {
     "name": "stdout",
     "output_type": "stream",
     "text": [
      "Epoch 1/44\n",
      "116/116 [==============================] - 168s 1s/step - loss: 0.0048\n",
      "Epoch 2/44\n",
      "116/116 [==============================] - 168s 1s/step - loss: 0.0048\n",
      "Epoch 3/44\n",
      "116/116 [==============================] - 169s 1s/step - loss: 0.0048\n",
      "Epoch 4/44\n",
      "116/116 [==============================] - 166s 1s/step - loss: 0.0048\n",
      "Epoch 5/44\n",
      "116/116 [==============================] - 167s 1s/step - loss: 0.0048\n",
      "Epoch 6/44\n",
      "116/116 [==============================] - 166s 1s/step - loss: 0.0047\n",
      "Epoch 7/44\n",
      "116/116 [==============================] - 166s 1s/step - loss: 0.0048\n",
      "Epoch 8/44\n",
      "116/116 [==============================] - 167s 1s/step - loss: 0.0048\n",
      "Epoch 9/44\n",
      "116/116 [==============================] - 167s 1s/step - loss: 0.0047\n",
      "Epoch 10/44\n",
      "116/116 [==============================] - 166s 1s/step - loss: 0.0048\n",
      "Epoch 11/44\n",
      "116/116 [==============================] - 166s 1s/step - loss: 0.0048\n",
      "Epoch 12/44\n",
      "116/116 [==============================] - 167s 1s/step - loss: 0.0047\n",
      "Epoch 13/44\n",
      "116/116 [==============================] - 166s 1s/step - loss: 0.0047\n",
      "Epoch 14/44\n",
      "116/116 [==============================] - 166s 1s/step - loss: 0.0047\n",
      "Epoch 15/44\n",
      "116/116 [==============================] - 166s 1s/step - loss: 0.0047\n",
      "Epoch 16/44\n",
      "116/116 [==============================] - 167s 1s/step - loss: 0.0047\n",
      "Epoch 17/44\n",
      "116/116 [==============================] - 166s 1s/step - loss: 0.0047\n",
      "Epoch 18/44\n",
      "116/116 [==============================] - 167s 1s/step - loss: 0.0046\n",
      "Epoch 19/44\n",
      "116/116 [==============================] - 167s 1s/step - loss: 0.0047\n",
      "Epoch 20/44\n",
      "116/116 [==============================] - 166s 1s/step - loss: 0.0047\n",
      "Epoch 21/44\n",
      "116/116 [==============================] - 167s 1s/step - loss: 0.0046\n",
      "Epoch 22/44\n",
      "116/116 [==============================] - 166s 1s/step - loss: 0.0046\n",
      "Epoch 23/44\n",
      "116/116 [==============================] - 166s 1s/step - loss: 0.0046\n",
      "Epoch 24/44\n",
      "116/116 [==============================] - 166s 1s/step - loss: 0.0047\n",
      "Epoch 25/44\n",
      "116/116 [==============================] - 166s 1s/step - loss: 0.0046\n",
      "Epoch 26/44\n",
      "116/116 [==============================] - 170s 1s/step - loss: 0.0046\n",
      "Epoch 27/44\n",
      "116/116 [==============================] - 176s 2s/step - loss: 0.0046\n",
      "Epoch 28/44\n",
      "116/116 [==============================] - 171s 1s/step - loss: 0.0046\n",
      "Epoch 29/44\n",
      "116/116 [==============================] - 172s 1s/step - loss: 0.0046\n",
      "Epoch 30/44\n",
      "116/116 [==============================] - 171s 1s/step - loss: 0.0046\n",
      "Epoch 31/44\n",
      "116/116 [==============================] - 170s 1s/step - loss: 0.0046\n",
      "Epoch 32/44\n",
      "116/116 [==============================] - 178s 2s/step - loss: 0.0045\n",
      "Epoch 33/44\n",
      "116/116 [==============================] - 174s 2s/step - loss: 0.0046\n",
      "Epoch 34/44\n",
      "116/116 [==============================] - 172s 1s/step - loss: 0.0046\n",
      "Epoch 35/44\n",
      "116/116 [==============================] - 167s 1s/step - loss: 0.0045\n",
      "Epoch 36/44\n",
      "116/116 [==============================] - 167s 1s/step - loss: 0.0045\n",
      "Epoch 37/44\n",
      "116/116 [==============================] - 166s 1s/step - loss: 0.0046\n",
      "Epoch 38/44\n",
      "116/116 [==============================] - 166s 1s/step - loss: 0.0045\n",
      "Epoch 39/44\n",
      "116/116 [==============================] - 165s 1s/step - loss: 0.0045\n",
      "Epoch 40/44\n",
      "116/116 [==============================] - 165s 1s/step - loss: 0.0045\n",
      "Epoch 41/44\n",
      "116/116 [==============================] - 166s 1s/step - loss: 0.0045\n",
      "Epoch 42/44\n",
      "116/116 [==============================] - 166s 1s/step - loss: 0.0045\n",
      "Epoch 43/44\n",
      "116/116 [==============================] - 166s 1s/step - loss: 0.0045\n",
      "Epoch 44/44\n",
      "116/116 [==============================] - 167s 1s/step - loss: 0.0045\n"
     ]
    },
    {
     "data": {
      "text/plain": [
       "<tensorflow.python.keras.callbacks.History at 0x7f01ff56bb38>"
      ]
     },
     "execution_count": 30,
     "metadata": {},
     "output_type": "execute_result"
    }
   ],
   "source": [
    "model.fit(X_aug, y_aug, batch_size = 64, epochs = 44)"
   ]
  },
  {
   "cell_type": "code",
   "execution_count": 31,
   "metadata": {},
   "outputs": [
    {
     "name": "stdout",
     "output_type": "stream",
     "text": [
      "INFO:tensorflow:Assets written to: /home/nakedmoleratvoices/Mole rats reborn/CodeRefactoredFinal/models/tracer/tracer_new.ckpt/assets\n"
     ]
    }
   ],
   "source": [
    "model.save('/home/nakedmoleratvoices/Mole rats reborn/CodeRefactoredFinal/models/tracer/tracer_new.ckpt')"
   ]
  },
  {
   "cell_type": "code",
   "execution_count": 29,
   "metadata": {},
   "outputs": [],
   "source": [
    "recs_for_training.to_csv('/home/nakedmoleratvoices/Mole rats reborn/CodeRefactoredFinal/models/tracer/training_recs.csv', \n",
    "                         index = None)"
   ]
  },
  {
   "cell_type": "code",
   "execution_count": null,
   "metadata": {},
   "outputs": [],
   "source": []
  },
  {
   "cell_type": "markdown",
   "metadata": {},
   "source": [
    "### Eval"
   ]
  },
  {
   "cell_type": "code",
   "execution_count": 17,
   "metadata": {},
   "outputs": [
    {
     "name": "stderr",
     "output_type": "stream",
     "text": [
      "/usr/local/lib/python3.5/dist-packages/pandas/core/computation/expressions.py:193: UserWarning: evaluating in Python space because the '*' operator is not supported by numexpr for the bool dtype, use '&' instead\n",
      "  op=op_str, alt_op=unsupported[op_str]\n"
     ]
    },
    {
     "data": {
      "text/plain": [
       "labeled and checked    117\n",
       "Name: processing stage, dtype: int64"
      ]
     },
     "execution_count": 17,
     "metadata": {},
     "output_type": "execute_result"
    }
   ],
   "source": [
    "dates = ['01-06-18', '10-08-18']\n",
    "colonies = ['lannister']\n",
    "experiments = ['single rat softchirps']\n",
    "stages = ['labeled', 'labeled and checked']\n",
    "\n",
    "recs_metadata = pd.read_csv(path_to_recordings_metadata + recordings_metadata_name)\n",
    "mask = filter_recs_metadata(recs_metadata, dates, colonies, stages, experiments)\n",
    "recs_for_test = recs_metadata[mask].reset_index(drop = True)\n",
    "recs_for_test['processing stage'].value_counts()"
   ]
  },
  {
   "cell_type": "code",
   "execution_count": 8,
   "metadata": {},
   "outputs": [],
   "source": [
    "import tensorflow as tf\n",
    "path_to_model = '/home/nakedmoleratvoices/Mole rats reborn/CodeRefactoredFinal/models/tracer/tracer_new.ckpt'\n",
    "model = tf.keras.models.load_model(path_to_model)"
   ]
  },
  {
   "cell_type": "code",
   "execution_count": 42,
   "metadata": {},
   "outputs": [
    {
     "name": "stdout",
     "output_type": "stream",
     "text": [
      "Rec length is 27.39 seconds\n",
      "Found 11 traces\n"
     ]
    }
   ],
   "source": [
    "rec_ind = np.random.randint(0, len(recs_for_test))\n",
    "\n",
    "rec_name, rec_path = recs_for_test[['name', 'path']].iloc[rec_ind]\n",
    "\n",
    "rec = np.load(rec_path + rec_name)\n",
    "print('Rec length is %.2f seconds' % (len(rec) / 22050))\n",
    "df_txt = pd.read_csv(rec_path + rec_name[:-3] + 'txt', sep = '\\t')\n",
    "\n",
    "wavs_to_check = []\n",
    "\n",
    "for s, e, cl in df_txt.values:\n",
    "    s_int = int(22050 * s)\n",
    "    e_int = int(22050 * e)\n",
    "    wavs_to_check.append(rec[s_int : e_int])\n",
    "\n",
    "\n",
    "images = np.array([resize(make_image(w), (128, 64)) for w in wavs_to_check])\n",
    "traces = np.array(predict_with_augmentation(images, model))\n",
    "print('Found %d traces' % (len(traces)))"
   ]
  },
  {
   "cell_type": "code",
   "execution_count": 43,
   "metadata": {},
   "outputs": [
    {
     "data": {
      "image/png": "[encoded data removed]",
      "text/plain": [
       "<Figure size 1440x288 with 16 Axes>"
      ]
     },
     "metadata": {
      "needs_background": "light"
     },
     "output_type": "display_data"
    }
   ],
   "source": [
    "inds = np.arange(0, len(images))\n",
    "np.random.shuffle(inds)\n",
    "n = 8\n",
    "inds_to_take = inds[:n]\n",
    "plt.figure(figsize=(20, 4))\n",
    "for i in range(1, n + 1):\n",
    "    \n",
    "    ind = inds_to_take[i - 1]\n",
    "    # display original\n",
    "    ax = plt.subplot(2, n, i)\n",
    "    plt.imshow(images[ind])\n",
    "    plt.gray()\n",
    "    ax.get_xaxis().set_visible(False)\n",
    "    ax.get_yaxis().set_visible(False)\n",
    "\n",
    "    # display reconstruction\n",
    "    ax = plt.subplot(2, n, i + n)\n",
    "    plt.imshow(traces[ind])\n",
    "    plt.gray()\n",
    "    ax.get_xaxis().set_visible(False)\n",
    "    ax.get_yaxis().set_visible(False)\n",
    "plt.show()"
   ]
  }
 ],
 "metadata": {
  "kernelspec": {
   "display_name": "Python 3",
   "language": "python",
   "name": "python3"
  },
  "language_info": {
   "codemirror_mode": {
    "name": "ipython",
    "version": 3
   },
   "file_extension": ".py",
   "mimetype": "text/x-python",
   "name": "python",
   "nbconvert_exporter": "python",
   "pygments_lexer": "ipython3",
   "version": "3.6.9"
  }
 },
 "nbformat": 4,
 "nbformat_minor": 2
}
