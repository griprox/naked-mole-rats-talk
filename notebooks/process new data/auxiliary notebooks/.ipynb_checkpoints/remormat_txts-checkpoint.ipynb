{
 "cells": [
  {
   "cell_type": "code",
   "execution_count": 4,
   "id": "dbb51002",
   "metadata": {},
   "outputs": [
    {
     "name": "stdout",
     "output_type": "stream",
     "text": [
      "The autoreload extension is already loaded. To reload it, use:\n",
      "  %reload_ext autoreload\n"
     ]
    }
   ],
   "source": [
    "import os\n",
    "import sys\n",
    "path_to_this_notebook = os.path.abspath('.')\n",
    "PATH_TO_PROJECT = path_to_this_notebook[: path_to_this_notebook.find('notebooks')]\n",
    "sys.path.append(PATH_TO_PROJECT)\n",
    "\n",
    "import numpy as np\n",
    "import pandas as pd\n",
    "import os\n",
    "import pickle\n",
    "import matplotlib.pyplot as plt\n",
    "\n",
    "from src.metadata_processing.load_data import load_recordings_metadata, load_sounds\n",
    "\n",
    "%load_ext autoreload\n",
    "%autoreload 2\n",
    "%matplotlib inline"
   ]
  },
  {
   "cell_type": "code",
   "execution_count": 3,
   "id": "caf6238a",
   "metadata": {},
   "outputs": [],
   "source": [
    "path_to_recordings_metadata = PATH_TO_PROJECT + 'data/'\n",
    "recordings_metadata_name = 'recordings_metadata.csv'\n",
    "\n",
    "# What data to use\n",
    "dates = 'all'\n",
    "colonies = ['nmrkleinannotated', 'damkleinannotated', 'hvdkleinannotated', 'bsuilkleinannotated']\n",
    "experiments = 'all'\n",
    "stages = 'all'"
   ]
  },
  {
   "cell_type": "code",
   "execution_count": 5,
   "id": "3bbe51d9",
   "metadata": {},
   "outputs": [
    {
     "name": "stdout",
     "output_type": "stream",
     "text": [
      "Using 51 recordings\n"
     ]
    }
   ],
   "source": [
    "recs_metadata, _ = load_recordings_metadata(path_to_recordings_metadata, recordings_metadata_name,\n",
    "                                            dates, colonies, experiments, stages, do_load_recs_dict=False)"
   ]
  },
  {
   "cell_type": "code",
   "execution_count": 21,
   "id": "fb1336ad",
   "metadata": {},
   "outputs": [],
   "source": [
    "classes_shortcuts = {'combo' : ['cm', 'cmb',],\n",
    "                     'combotwo': ['cm2', 'cmtwo', 'cmbtwo', 'cmb2', 'combo2'],\n",
    "                     'downsweep': ['dw', 'ds', 'dsw', ],\n",
    "                     'grunt': ['gr',], \n",
    "                     'loudchirp': ['lc', 'ldch', 'lchp'],\n",
    "                     'mordent':['mr'],\n",
    "                     'vtrill':['vt', 'vtr'],\n",
    "                     'noise': ['ns', 'n', ],\n",
    "                     'scream': ['scrm'],\n",
    "                     'softchirp': ['sc', 'sfch', 'sch'],\n",
    "                     'upsweep': ['up', 'usw', 'uw'],\n",
    "                     'weirdo': ['wr', 'wrd', ],\n",
    "                     'phee':['ph'],\n",
    "                     'hiccup':['hi'],\n",
    "                     'pupcheveron':['pch'],\n",
    "                     'tweet':['tw'],\n",
    "                     'pupsquawk':['psq'],\n",
    "                     'pupcombo':['pcm'],\n",
    "                     'tap':['tp'],\n",
    "                     'RFIDscanner': ['scan'],\n",
    "                     'whistle' : ['wh', 'wstl', 'wst', 'whs'],\n",
    "                     'badsplit' : ['bs', 'bad', ], \n",
    "                     'warble': ['war'] }\n",
    "\n",
    "def expand_class_name(cl_short, classes_shortcuts):\n",
    "    cl_long = [cl_long for cl_long, cl_short_list in classes_shortcuts.items() if cl_short in cl_short_list]\n",
    "    if len(cl_long) == 1:\n",
    "        return cl_long[0]\n",
    "    elif len(cl_long) == 0:\n",
    "        return cl_short\n",
    "    else:\n",
    "        raise ValueError(cl_short)"
   ]
  },
  {
   "cell_type": "code",
   "execution_count": 36,
   "id": "d860dc88",
   "metadata": {},
   "outputs": [],
   "source": [
    "for name, path in recs_metadata[['name', 'path']].values:\n",
    "    txt = pd.read_csv(path + name.replace('npy', 'txt'), sep='\\t')\n",
    "    txt = txt.sort_values(by='s').reset_index(drop=True)\n",
    "    txt['cl'] = txt['cl'].apply(lambda x: expand_class_name(x, classes_shortcuts))\n",
    "    txt.to_csv(path + name.replace('npy', 'txt'), sep='\\t', index=None)\n"
   ]
  },
  {
   "cell_type": "code",
   "execution_count": null,
   "id": "8a8e352c",
   "metadata": {},
   "outputs": [],
   "source": []
  },
  {
   "cell_type": "code",
   "execution_count": null,
   "id": "71d9a2ca",
   "metadata": {},
   "outputs": [],
   "source": []
  },
  {
   "cell_type": "code",
   "execution_count": null,
   "id": "d95d6d9c",
   "metadata": {},
   "outputs": [],
   "source": []
  },
  {
   "cell_type": "code",
   "execution_count": null,
   "id": "6f63ff22",
   "metadata": {},
   "outputs": [],
   "source": []
  }
 ],
 "metadata": {
  "kernelspec": {
   "display_name": "Python 3 (ipykernel)",
   "language": "python",
   "name": "python3"
  },
  "language_info": {
   "codemirror_mode": {
    "name": "ipython",
    "version": 3
   },
   "file_extension": ".py",
   "mimetype": "text/x-python",
   "name": "python",
   "nbconvert_exporter": "python",
   "pygments_lexer": "ipython3",
   "version": "3.7.13"
  }
 },
 "nbformat": 4,
 "nbformat_minor": 5
}
