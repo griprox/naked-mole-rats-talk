{
 "cells": [
  {
   "cell_type": "code",
   "execution_count": 38,
   "metadata": {},
   "outputs": [
    {
     "name": "stdout",
     "output_type": "stream",
     "text": [
      "/home/nakedmoleratvoices/Mole rats reborn/CodeRefactoredFinal\n"
     ]
    }
   ],
   "source": [
    "cd /home/nakedmoleratvoices/Mole\\ rats\\ reborn/CodeRefactoredFinal/"
   ]
  },
  {
   "cell_type": "code",
   "execution_count": 39,
   "metadata": {},
   "outputs": [],
   "source": [
    "import pandas as pd\n",
    "import numpy as np\n",
    "import pickle\n",
    "import os\n",
    "import tensorflow as tf\n",
    "from skimage.transform import resize\n",
    "import librosa\n",
    "import matplotlib.pyplot as plt\n",
    "from tracing_model.segmentator_training import predict_with_augmentation\n",
    "from process_new_data.metadata_processing import compute_mask\n",
    "import re\n",
    "import shutil\n",
    "%matplotlib inline"
   ]
  },
  {
   "cell_type": "code",
   "execution_count": 40,
   "metadata": {},
   "outputs": [],
   "source": [
    "def what_sound_rec_name(sound_name,):\n",
    "    s, e = sound_name.find('_'), sound_name.rfind('_')\n",
    "    rec_name = sound_name[s + 1 : e] + '.npy'\n",
    "    return rec_name\n",
    "\n",
    "def update_trace_name(tn):\n",
    "\n",
    "    new_tn = tn.replace('unconf', 'fresh')\n",
    "\n",
    "    if 'freshtrace' in new_tn:\n",
    "        timestamps = re.findall('[0-9]+\\.[0-9]+\\-[0-9]+\\.[0-9]+', new_tn)[0]\n",
    "        new_tn = (new_tn[:10] + '_' + new_tn[10:new_tn.find('_')] + '_' + timestamps.replace('-', '_') + \n",
    "             new_tn[10 + new_tn[10:].find('_') : ].replace('_' + timestamps, ''))\n",
    "\n",
    "    else:\n",
    "        timestamps = re.findall('[0-9]+\\.[0-9]+\\-[0-9]+\\.[0-9]+', new_tn)[0]\n",
    "        new_tn = (new_tn[:5] + '_' + new_tn[5:new_tn.find('_')] + '_' + timestamps.replace('-', '_') + \n",
    "             new_tn[5 + new_tn[5:].find('_') : ].replace('_' + timestamps, ''))\n",
    "    return new_tn\n",
    "    "
   ]
  },
  {
   "cell_type": "code",
   "execution_count": 41,
   "metadata": {
    "scrolled": true
   },
   "outputs": [
    {
     "data": {
      "text/html": [
       "<div>\n",
       "<style scoped>\n",
       "    .dataframe tbody tr th:only-of-type {\n",
       "        vertical-align: middle;\n",
       "    }\n",
       "\n",
       "    .dataframe tbody tr th {\n",
       "        vertical-align: top;\n",
       "    }\n",
       "\n",
       "    .dataframe thead th {\n",
       "        text-align: right;\n",
       "    }\n",
       "</style>\n",
       "<table border=\"1\" class=\"dataframe\">\n",
       "  <thead>\n",
       "    <tr style=\"text-align: right;\">\n",
       "      <th></th>\n",
       "      <th>colony</th>\n",
       "      <th>date</th>\n",
       "      <th>experiment</th>\n",
       "      <th>name</th>\n",
       "      <th>number</th>\n",
       "      <th>path</th>\n",
       "      <th>processing stage</th>\n",
       "      <th>ratids</th>\n",
       "    </tr>\n",
       "  </thead>\n",
       "  <tbody>\n",
       "    <tr>\n",
       "      <th>0</th>\n",
       "      <td>baratheon</td>\n",
       "      <td>21-06-19</td>\n",
       "      <td>single rat softchirps</td>\n",
       "      <td>baratheon_21-06-19_9449_0000001.npy</td>\n",
       "      <td>1</td>\n",
       "      <td>/home/nakedmoleratvoices/Mole rats reborn/Code...</td>\n",
       "      <td>traced and checked</td>\n",
       "      <td>9449</td>\n",
       "    </tr>\n",
       "    <tr>\n",
       "      <th>1</th>\n",
       "      <td>martell</td>\n",
       "      <td>08-11-19</td>\n",
       "      <td>single rat softchirps</td>\n",
       "      <td>martell_08-11-19_9438_0000035.npy</td>\n",
       "      <td>35</td>\n",
       "      <td>/home/nakedmoleratvoices/Mole rats reborn/Code...</td>\n",
       "      <td>traced and checked</td>\n",
       "      <td>9438</td>\n",
       "    </tr>\n",
       "    <tr>\n",
       "      <th>2</th>\n",
       "      <td>dothrakia</td>\n",
       "      <td>21-08-19</td>\n",
       "      <td>single rat softchirps</td>\n",
       "      <td>dothrakia_21-08-19_3006_0000008.npy</td>\n",
       "      <td>8</td>\n",
       "      <td>/home/nakedmoleratvoices/Mole rats reborn/Code...</td>\n",
       "      <td>traced and checked</td>\n",
       "      <td>3006</td>\n",
       "    </tr>\n",
       "    <tr>\n",
       "      <th>3</th>\n",
       "      <td>targaryen</td>\n",
       "      <td>21-06-19</td>\n",
       "      <td>single rat softchirps</td>\n",
       "      <td>targaryen_21-06-19_1540_0000001.npy</td>\n",
       "      <td>1</td>\n",
       "      <td>/home/nakedmoleratvoices/Mole rats reborn/Code...</td>\n",
       "      <td>traced and checked</td>\n",
       "      <td>1540</td>\n",
       "    </tr>\n",
       "    <tr>\n",
       "      <th>4</th>\n",
       "      <td>stark</td>\n",
       "      <td>21-06-19</td>\n",
       "      <td>single rat softchirps</td>\n",
       "      <td>stark_21-06-19_1545_0000001.npy</td>\n",
       "      <td>1</td>\n",
       "      <td>/home/nakedmoleratvoices/Mole rats reborn/Code...</td>\n",
       "      <td>traced and checked</td>\n",
       "      <td>1545</td>\n",
       "    </tr>\n",
       "  </tbody>\n",
       "</table>\n",
       "</div>"
      ],
      "text/plain": [
       "      colony      date             experiment  \\\n",
       "0  baratheon  21-06-19  single rat softchirps   \n",
       "1    martell  08-11-19  single rat softchirps   \n",
       "2  dothrakia  21-08-19  single rat softchirps   \n",
       "3  targaryen  21-06-19  single rat softchirps   \n",
       "4      stark  21-06-19  single rat softchirps   \n",
       "\n",
       "                                  name  number  \\\n",
       "0  baratheon_21-06-19_9449_0000001.npy       1   \n",
       "1    martell_08-11-19_9438_0000035.npy      35   \n",
       "2  dothrakia_21-08-19_3006_0000008.npy       8   \n",
       "3  targaryen_21-06-19_1540_0000001.npy       1   \n",
       "4      stark_21-06-19_1545_0000001.npy       1   \n",
       "\n",
       "                                                path    processing stage  \\\n",
       "0  /home/nakedmoleratvoices/Mole rats reborn/Code...  traced and checked   \n",
       "1  /home/nakedmoleratvoices/Mole rats reborn/Code...  traced and checked   \n",
       "2  /home/nakedmoleratvoices/Mole rats reborn/Code...  traced and checked   \n",
       "3  /home/nakedmoleratvoices/Mole rats reborn/Code...  traced and checked   \n",
       "4  /home/nakedmoleratvoices/Mole rats reborn/Code...  traced and checked   \n",
       "\n",
       "  ratids  \n",
       "0   9449  \n",
       "1   9438  \n",
       "2   3006  \n",
       "3   1540  \n",
       "4   1545  "
      ]
     },
     "execution_count": 41,
     "metadata": {},
     "output_type": "execute_result"
    }
   ],
   "source": [
    "# path to metadata\n",
    "path_to_recordings_metadata = '/home/nakedmoleratvoices/Mole rats reborn/CodeRefactoredFinal/data/'\n",
    "recordings_metadata_name = 'recordings_metadata.csv'\n",
    "recs_metadata = pd.read_csv(path_to_recordings_metadata + recordings_metadata_name, )\n",
    "recs_metadata.head()"
   ]
  },
  {
   "cell_type": "code",
   "execution_count": 32,
   "metadata": {
    "scrolled": true
   },
   "outputs": [],
   "source": [
    "path_to_old_traces = '/home/nakedmoleratvoices/Mole rats reborn/Playground/queendata/traces/'\n",
    "old_names = os.listdir(path_to_old_traces)\n",
    "recs_to_update = set()\n",
    "recs_not_found = set()\n",
    "for tn in old_names:\n",
    "    rec_name = what_sound_rec_name(tn)\n",
    "    old_rec_path = path_to_old_traces.replace('traces', 'recordings')\n",
    "    if rec_name not in recs_metadata['name'].values:\n",
    "        recs_not_found.add(rec_name)\n",
    "        continue\n",
    "    rec_ind = np.where(recs_metadata['name'] == rec_name)[0][0]\n",
    "    rec_path = recs_metadata[recs_metadata['name'] == rec_name]['path'].values[0]\n",
    "    \n",
    "    new_tn = update_trace_name(tn)\n",
    "    recs_to_update.add(rec_name)\n",
    "    shutil.copy(src = path_to_old_traces + tn, dst = rec_path.replace('recordings', 'traces') + new_tn)\n",
    "    \n",
    "for rec_name in recs_to_update:\n",
    "    rec_ind = np.where(recs_metadata['name'] == rec_name)[0][0]\n",
    "    recs_metadata['processing stage'].iloc[rec_ind] = 'traced and checked'\n",
    "recs_metadata.to_csv(path_to_recordings_metadata + recordings_metadata_name, index =  None)"
   ]
  }
 ],
 "metadata": {
  "kernelspec": {
   "display_name": "Python 3",
   "language": "python",
   "name": "python3"
  },
  "language_info": {
   "codemirror_mode": {
    "name": "ipython",
    "version": 3
   },
   "file_extension": ".py",
   "mimetype": "text/x-python",
   "name": "python",
   "nbconvert_exporter": "python",
   "pygments_lexer": "ipython3",
   "version": "3.5.3"
  }
 },
 "nbformat": 4,
 "nbformat_minor": 2
}
