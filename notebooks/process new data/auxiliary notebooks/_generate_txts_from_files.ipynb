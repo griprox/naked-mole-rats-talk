{
 "cells": [
  {
   "cell_type": "code",
   "execution_count": 1,
   "metadata": {},
   "outputs": [],
   "source": [
    "import os\n",
    "import numpy as np\n",
    "import pandas as pd\n",
    "from collections import defaultdict"
   ]
  },
  {
   "cell_type": "code",
   "execution_count": 2,
   "metadata": {},
   "outputs": [],
   "source": [
    "import re\n",
    "def what_sound_class(sound_name):\n",
    "    return re.findall('[a-z]+', sound_name)[0]\n",
    "\n",
    "def what_sound_timestamps(sound_name):\n",
    "    return re.findall('[0-9]+\\.[0-9]+\\-[0-9]+\\.[0-9]+', sound_name)[0]\n",
    "\n",
    "\n",
    "def what_sound_rec_name(sound_name, rec_path = './data/'):\n",
    "    s, e = sound_name.find('_'), sound_name.rfind('_')\n",
    "    rec_name = sound_name[s + 1 : e]\n",
    "    return rec_name"
   ]
  },
  {
   "cell_type": "code",
   "execution_count": 3,
   "metadata": {},
   "outputs": [
    {
     "data": {
      "text/html": [
       "<div>\n",
       "<style scoped>\n",
       "    .dataframe tbody tr th:only-of-type {\n",
       "        vertical-align: middle;\n",
       "    }\n",
       "\n",
       "    .dataframe tbody tr th {\n",
       "        vertical-align: top;\n",
       "    }\n",
       "\n",
       "    .dataframe thead th {\n",
       "        text-align: right;\n",
       "    }\n",
       "</style>\n",
       "<table border=\"1\" class=\"dataframe\">\n",
       "  <thead>\n",
       "    <tr style=\"text-align: right;\">\n",
       "      <th></th>\n",
       "      <th>colony</th>\n",
       "      <th>date</th>\n",
       "      <th>experiment</th>\n",
       "      <th>name</th>\n",
       "      <th>number</th>\n",
       "      <th>path</th>\n",
       "      <th>processing stage</th>\n",
       "      <th>ratids</th>\n",
       "    </tr>\n",
       "  </thead>\n",
       "  <tbody>\n",
       "    <tr>\n",
       "      <th>0</th>\n",
       "      <td>baratheon</td>\n",
       "      <td>21-06-19</td>\n",
       "      <td>single rat softchirps</td>\n",
       "      <td>baratheon_21-06-19_9449_0000001.npy</td>\n",
       "      <td>1</td>\n",
       "      <td>/home/nakedmoleratvoices/Mole rats reborn/Code...</td>\n",
       "      <td>labeled and checked</td>\n",
       "      <td>9449</td>\n",
       "    </tr>\n",
       "    <tr>\n",
       "      <th>1</th>\n",
       "      <td>martell</td>\n",
       "      <td>08-11-19</td>\n",
       "      <td>single rat softchirps</td>\n",
       "      <td>martell_08-11-19_9438_0000035.npy</td>\n",
       "      <td>35</td>\n",
       "      <td>/home/nakedmoleratvoices/Mole rats reborn/Code...</td>\n",
       "      <td>labeled and checked</td>\n",
       "      <td>9438</td>\n",
       "    </tr>\n",
       "    <tr>\n",
       "      <th>2</th>\n",
       "      <td>dothrakia</td>\n",
       "      <td>21-08-19</td>\n",
       "      <td>single rat softchirps</td>\n",
       "      <td>dothrakia_21-08-19_3006_0000008.npy</td>\n",
       "      <td>8</td>\n",
       "      <td>/home/nakedmoleratvoices/Mole rats reborn/Code...</td>\n",
       "      <td>labeled and checked</td>\n",
       "      <td>3006</td>\n",
       "    </tr>\n",
       "    <tr>\n",
       "      <th>3</th>\n",
       "      <td>targaryen</td>\n",
       "      <td>21-06-19</td>\n",
       "      <td>single rat softchirps</td>\n",
       "      <td>targaryen_21-06-19_1540_0000001.npy</td>\n",
       "      <td>1</td>\n",
       "      <td>/home/nakedmoleratvoices/Mole rats reborn/Code...</td>\n",
       "      <td>labeled and checked</td>\n",
       "      <td>1540</td>\n",
       "    </tr>\n",
       "    <tr>\n",
       "      <th>4</th>\n",
       "      <td>stark</td>\n",
       "      <td>21-06-19</td>\n",
       "      <td>single rat softchirps</td>\n",
       "      <td>stark_21-06-19_1545_0000001.npy</td>\n",
       "      <td>1</td>\n",
       "      <td>/home/nakedmoleratvoices/Mole rats reborn/Code...</td>\n",
       "      <td>labeled and checked</td>\n",
       "      <td>1545</td>\n",
       "    </tr>\n",
       "  </tbody>\n",
       "</table>\n",
       "</div>"
      ],
      "text/plain": [
       "      colony      date             experiment  \\\n",
       "0  baratheon  21-06-19  single rat softchirps   \n",
       "1    martell  08-11-19  single rat softchirps   \n",
       "2  dothrakia  21-08-19  single rat softchirps   \n",
       "3  targaryen  21-06-19  single rat softchirps   \n",
       "4      stark  21-06-19  single rat softchirps   \n",
       "\n",
       "                                  name  number  \\\n",
       "0  baratheon_21-06-19_9449_0000001.npy       1   \n",
       "1    martell_08-11-19_9438_0000035.npy      35   \n",
       "2  dothrakia_21-08-19_3006_0000008.npy       8   \n",
       "3  targaryen_21-06-19_1540_0000001.npy       1   \n",
       "4      stark_21-06-19_1545_0000001.npy       1   \n",
       "\n",
       "                                                path     processing stage  \\\n",
       "0  /home/nakedmoleratvoices/Mole rats reborn/Code...  labeled and checked   \n",
       "1  /home/nakedmoleratvoices/Mole rats reborn/Code...  labeled and checked   \n",
       "2  /home/nakedmoleratvoices/Mole rats reborn/Code...  labeled and checked   \n",
       "3  /home/nakedmoleratvoices/Mole rats reborn/Code...  labeled and checked   \n",
       "4  /home/nakedmoleratvoices/Mole rats reborn/Code...  labeled and checked   \n",
       "\n",
       "  ratids  \n",
       "0   9449  \n",
       "1   9438  \n",
       "2   3006  \n",
       "3   1540  \n",
       "4   1545  "
      ]
     },
     "execution_count": 3,
     "metadata": {},
     "output_type": "execute_result"
    }
   ],
   "source": [
    "path_to_recordings_metadata = '/home/nakedmoleratvoices/Mole rats reborn/CodeRefactoredFinal/data/'\n",
    "recordings_metadata_name = 'recordings_metadata.csv'\n",
    "recs_metadata = pd.read_csv(path_to_recordings_metadata + recordings_metadata_name)\n",
    "recs_metadata.head()"
   ]
  },
  {
   "cell_type": "code",
   "execution_count": 4,
   "metadata": {},
   "outputs": [],
   "source": [
    "old_path = '/home/nakedmoleratvoices/Mole rats reborn/Playground2/Lannister_data/sounds_npy/'\n",
    "rec_sounds = defaultdict(list)"
   ]
  },
  {
   "cell_type": "code",
   "execution_count": 5,
   "metadata": {},
   "outputs": [
    {
     "ename": "FileNotFoundError",
     "evalue": "[Errno 2] No such file or directory: '/home/nakedmoleratvoices/Mole rats reborn/Playground2/Lannister_data/sounds_npy/'",
     "output_type": "error",
     "traceback": [
      "\u001b[0;31m---------------------------------------------------------------------------\u001b[0m",
      "\u001b[0;31mFileNotFoundError\u001b[0m                         Traceback (most recent call last)",
      "\u001b[0;32m<ipython-input-5-9cbeb892830f>\u001b[0m in \u001b[0;36m<module>\u001b[0;34m\u001b[0m\n\u001b[0;32m----> 1\u001b[0;31m \u001b[0;32mfor\u001b[0m \u001b[0ms\u001b[0m \u001b[0;32min\u001b[0m \u001b[0mos\u001b[0m\u001b[0;34m.\u001b[0m\u001b[0mlistdir\u001b[0m\u001b[0;34m(\u001b[0m\u001b[0mold_path\u001b[0m\u001b[0;34m)\u001b[0m\u001b[0;34m:\u001b[0m\u001b[0;34m\u001b[0m\u001b[0m\n\u001b[0m\u001b[1;32m      2\u001b[0m     \u001b[0mrec_name\u001b[0m \u001b[0;34m=\u001b[0m \u001b[0mwhat_sound_rec_name\u001b[0m\u001b[0;34m(\u001b[0m\u001b[0ms\u001b[0m\u001b[0;34m)\u001b[0m \u001b[0;34m+\u001b[0m \u001b[0;34m'.npy'\u001b[0m\u001b[0;34m\u001b[0m\u001b[0m\n\u001b[1;32m      3\u001b[0m     \u001b[0mrec_sounds\u001b[0m\u001b[0;34m[\u001b[0m\u001b[0mrec_name\u001b[0m\u001b[0;34m]\u001b[0m\u001b[0;34m.\u001b[0m\u001b[0mappend\u001b[0m\u001b[0;34m(\u001b[0m\u001b[0ms\u001b[0m\u001b[0;34m)\u001b[0m\u001b[0;34m\u001b[0m\u001b[0m\n",
      "\u001b[0;31mFileNotFoundError\u001b[0m: [Errno 2] No such file or directory: '/home/nakedmoleratvoices/Mole rats reborn/Playground2/Lannister_data/sounds_npy/'"
     ]
    }
   ],
   "source": [
    "for s in os.listdir(old_path):\n",
    "    rec_name = what_sound_rec_name(s) + '.npy'\n",
    "    rec_sounds[rec_name].append(s)"
   ]
  },
  {
   "cell_type": "code",
   "execution_count": 6,
   "metadata": {},
   "outputs": [],
   "source": [
    "txts = {}        \n",
    "for r in rec_sounds:\n",
    "    if r not in txts:\n",
    "        txts[r] = []\n",
    "    for s in rec_sounds[r]:\n",
    "        cl = what_sound_class(s)\n",
    "        ts = what_sound_timestamps(s)\n",
    "        start, end = list(map(lambda x : float(x), ts.split('-')))\n",
    "        txts[r].append((start, end, cl))"
   ]
  },
  {
   "cell_type": "code",
   "execution_count": 24,
   "metadata": {
    "scrolled": true
   },
   "outputs": [],
   "source": [
    "for r in txts:\n",
    "    r_ind = np.where(recs_metadata['name'] == r)[0][0]\n",
    "    txt_df = pd.DataFrame(txts[r], columns = ['s', 'e', 'cl']).sort_values(by = 's').reset_index(drop = True)\n",
    "    t_name = r[:-3]  + 'txt'\n",
    "    path = recs_metadata['path'].iloc[r_ind]\n",
    "    labels = set(txt_df['cl'])\n",
    "    r_status = 'split'\n",
    "    recs_metadata['processing stage'].iloc[r_ind] = r_status\n",
    "    txt_df.to_csv(path + t_name, index = None, sep = '\\t')"
   ]
  },
  {
   "cell_type": "code",
   "execution_count": 21,
   "metadata": {
    "scrolled": true
   },
   "outputs": [],
   "source": [
    "recs_metadata.to_csv(path_to_recordings_metadata + recordings_metadata_name, index =  None)"
   ]
  },
  {
   "cell_type": "code",
   "execution_count": 22,
   "metadata": {},
   "outputs": [
    {
     "data": {
      "text/html": [
       "<div>\n",
       "<style scoped>\n",
       "    .dataframe tbody tr th:only-of-type {\n",
       "        vertical-align: middle;\n",
       "    }\n",
       "\n",
       "    .dataframe tbody tr th {\n",
       "        vertical-align: top;\n",
       "    }\n",
       "\n",
       "    .dataframe thead th {\n",
       "        text-align: right;\n",
       "    }\n",
       "</style>\n",
       "<table border=\"1\" class=\"dataframe\">\n",
       "  <thead>\n",
       "    <tr style=\"text-align: right;\">\n",
       "      <th></th>\n",
       "      <th>colony</th>\n",
       "      <th>date</th>\n",
       "      <th>experiment</th>\n",
       "      <th>name</th>\n",
       "      <th>number</th>\n",
       "      <th>path</th>\n",
       "      <th>processing stage</th>\n",
       "      <th>ratids</th>\n",
       "    </tr>\n",
       "  </thead>\n",
       "  <tbody>\n",
       "    <tr>\n",
       "      <th>1404</th>\n",
       "      <td>lannister</td>\n",
       "      <td>15-08-18</td>\n",
       "      <td>single rat softchirps;deafening</td>\n",
       "      <td>lannister_15-08-18_4166_0000021.npy</td>\n",
       "      <td>21</td>\n",
       "      <td>/home/nakedmoleratvoices/Mole rats reborn/Code...</td>\n",
       "      <td>split</td>\n",
       "      <td>4166</td>\n",
       "    </tr>\n",
       "    <tr>\n",
       "      <th>1405</th>\n",
       "      <td>lannister</td>\n",
       "      <td>20-04-20</td>\n",
       "      <td>single rat softchirps;deafening</td>\n",
       "      <td>lannister_20-04-20_9497_0000001.npy</td>\n",
       "      <td>1</td>\n",
       "      <td>/home/nakedmoleratvoices/Mole rats reborn/Code...</td>\n",
       "      <td>split</td>\n",
       "      <td>9497</td>\n",
       "    </tr>\n",
       "    <tr>\n",
       "      <th>1406</th>\n",
       "      <td>lannister</td>\n",
       "      <td>28-03-19</td>\n",
       "      <td>single rat softchirps;deafening</td>\n",
       "      <td>lannister_28-03-19_4051_0000007.npy</td>\n",
       "      <td>7</td>\n",
       "      <td>/home/nakedmoleratvoices/Mole rats reborn/Code...</td>\n",
       "      <td>split</td>\n",
       "      <td>4051</td>\n",
       "    </tr>\n",
       "    <tr>\n",
       "      <th>1407</th>\n",
       "      <td>lannister</td>\n",
       "      <td>31-07-18</td>\n",
       "      <td>single rat softchirps;deafening</td>\n",
       "      <td>lannister_31-07-18_4199_0000008.npy</td>\n",
       "      <td>8</td>\n",
       "      <td>/home/nakedmoleratvoices/Mole rats reborn/Code...</td>\n",
       "      <td>split</td>\n",
       "      <td>4199</td>\n",
       "    </tr>\n",
       "    <tr>\n",
       "      <th>1408</th>\n",
       "      <td>lannister</td>\n",
       "      <td>07-08-18</td>\n",
       "      <td>single rat softchirps;deafening</td>\n",
       "      <td>lannister_07-08-18_4199_0000014.npy</td>\n",
       "      <td>14</td>\n",
       "      <td>/home/nakedmoleratvoices/Mole rats reborn/Code...</td>\n",
       "      <td>split</td>\n",
       "      <td>4199</td>\n",
       "    </tr>\n",
       "  </tbody>\n",
       "</table>\n",
       "</div>"
      ],
      "text/plain": [
       "         colony      date                       experiment  \\\n",
       "1404  lannister  15-08-18  single rat softchirps;deafening   \n",
       "1405  lannister  20-04-20  single rat softchirps;deafening   \n",
       "1406  lannister  28-03-19  single rat softchirps;deafening   \n",
       "1407  lannister  31-07-18  single rat softchirps;deafening   \n",
       "1408  lannister  07-08-18  single rat softchirps;deafening   \n",
       "\n",
       "                                     name  number  \\\n",
       "1404  lannister_15-08-18_4166_0000021.npy      21   \n",
       "1405  lannister_20-04-20_9497_0000001.npy       1   \n",
       "1406  lannister_28-03-19_4051_0000007.npy       7   \n",
       "1407  lannister_31-07-18_4199_0000008.npy       8   \n",
       "1408  lannister_07-08-18_4199_0000014.npy      14   \n",
       "\n",
       "                                                   path processing stage  \\\n",
       "1404  /home/nakedmoleratvoices/Mole rats reborn/Code...            split   \n",
       "1405  /home/nakedmoleratvoices/Mole rats reborn/Code...            split   \n",
       "1406  /home/nakedmoleratvoices/Mole rats reborn/Code...            split   \n",
       "1407  /home/nakedmoleratvoices/Mole rats reborn/Code...            split   \n",
       "1408  /home/nakedmoleratvoices/Mole rats reborn/Code...            split   \n",
       "\n",
       "     ratids  \n",
       "1404   4166  \n",
       "1405   9497  \n",
       "1406   4051  \n",
       "1407   4199  \n",
       "1408   4199  "
      ]
     },
     "execution_count": 22,
     "metadata": {},
     "output_type": "execute_result"
    }
   ],
   "source": [
    "recs_metadata.tail()"
   ]
  },
  {
   "cell_type": "code",
   "execution_count": 24,
   "metadata": {},
   "outputs": [
    {
     "data": {
      "text/plain": [
       "'recordings_metadata.csv'"
      ]
     },
     "execution_count": 24,
     "metadata": {},
     "output_type": "execute_result"
    }
   ],
   "source": [
    "recordings_metadata_name"
   ]
  },
  {
   "cell_type": "code",
   "execution_count": 25,
   "metadata": {},
   "outputs": [
    {
     "data": {
      "text/plain": [
       "'/home/nakedmoleratvoices/Mole rats reborn/CodeRefactoredFinal/data/'"
      ]
     },
     "execution_count": 25,
     "metadata": {},
     "output_type": "execute_result"
    }
   ],
   "source": [
    "path_to_recordings_metadata"
   ]
  }
 ],
 "metadata": {
  "kernelspec": {
   "display_name": "Python 3",
   "language": "python",
   "name": "python3"
  },
  "language_info": {
   "codemirror_mode": {
    "name": "ipython",
    "version": 3
   },
   "file_extension": ".py",
   "mimetype": "text/x-python",
   "name": "python",
   "nbconvert_exporter": "python",
   "pygments_lexer": "ipython3",
   "version": "3.5.3"
  }
 },
 "nbformat": 4,
 "nbformat_minor": 2
}
