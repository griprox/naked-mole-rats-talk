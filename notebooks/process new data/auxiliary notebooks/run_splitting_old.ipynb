{
 "cells": [
  {
   "cell_type": "code",
   "execution_count": 1,
   "metadata": {},
   "outputs": [
    {
     "name": "stdout",
     "output_type": "stream",
     "text": [
      "/home/nakedmoleratvoices/Mole rats reborn/CodeRefactoredFinal\n"
     ]
    }
   ],
   "source": [
    "cd /home/nakedmoleratvoices/Mole\\ rats\\ reborn/CodeRefactoredFinal/"
   ]
  },
  {
   "cell_type": "code",
   "execution_count": 4,
   "metadata": {},
   "outputs": [],
   "source": [
    "import pandas as pd\n",
    "import numpy as np\n",
    "import pickle\n",
    "from process_new_data.splitting_forest import split_recording_forest\n",
    "from process_new_data.metadata_processing import compute_mask"
   ]
  },
  {
   "cell_type": "markdown",
   "metadata": {},
   "source": [
    "### Paramteters"
   ]
  },
  {
   "cell_type": "code",
   "execution_count": 6,
   "metadata": {},
   "outputs": [
    {
     "name": "stderr",
     "output_type": "stream",
     "text": [
      "/home/nakedmoleratvoices/.local/lib/python3.5/site-packages/sklearn/base.py:306: UserWarning: Trying to unpickle estimator DecisionTreeClassifier from version 0.20.3 when using version 0.21.3. This might lead to breaking code or invalid results. Use at your own risk.\n",
      "  UserWarning)\n",
      "/home/nakedmoleratvoices/.local/lib/python3.5/site-packages/sklearn/base.py:306: UserWarning: Trying to unpickle estimator RandomForestClassifier from version 0.20.3 when using version 0.21.3. This might lead to breaking code or invalid results. Use at your own risk.\n",
      "  UserWarning)\n"
     ]
    }
   ],
   "source": [
    "# load metadata\n",
    "path_to_recordings_metadata = '/home/nakedmoleratvoices/Mole rats reborn/CodeRefactoredFinal/data/'\n",
    "recordings_metadata_name = 'recordings_metadata.csv'\n",
    "\n",
    "# what to split\n",
    "colonies = 'all'\n",
    "dates = 'all'\n",
    "experiments = 'all'\n",
    "stages = ['fresh',]\n",
    "\n",
    "# path to forest\n",
    "path_to_model = '/home/nakedmoleratvoices/Mole rats reborn/CodeRefactoredFinal/models/forest_splitter.sav'\n",
    "# load forest model\n",
    "model = pickle.load(open(path_to_model, 'rb'))\n",
    "\n",
    "\n",
    "\n"
   ]
  },
  {
   "cell_type": "markdown",
   "metadata": {},
   "source": [
    "### Load data"
   ]
  },
  {
   "cell_type": "code",
   "execution_count": 7,
   "metadata": {
    "scrolled": true
   },
   "outputs": [
    {
     "name": "stdout",
     "output_type": "stream",
     "text": [
      "(197, 8)\n"
     ]
    },
    {
     "data": {
      "text/html": [
       "<div>\n",
       "<style scoped>\n",
       "    .dataframe tbody tr th:only-of-type {\n",
       "        vertical-align: middle;\n",
       "    }\n",
       "\n",
       "    .dataframe tbody tr th {\n",
       "        vertical-align: top;\n",
       "    }\n",
       "\n",
       "    .dataframe thead th {\n",
       "        text-align: right;\n",
       "    }\n",
       "</style>\n",
       "<table border=\"1\" class=\"dataframe\">\n",
       "  <thead>\n",
       "    <tr style=\"text-align: right;\">\n",
       "      <th></th>\n",
       "      <th>colony</th>\n",
       "      <th>date</th>\n",
       "      <th>experiment</th>\n",
       "      <th>name</th>\n",
       "      <th>number</th>\n",
       "      <th>path</th>\n",
       "      <th>processing stage</th>\n",
       "      <th>ratids</th>\n",
       "    </tr>\n",
       "  </thead>\n",
       "  <tbody>\n",
       "    <tr>\n",
       "      <th>1272</th>\n",
       "      <td>baratheon</td>\n",
       "      <td>15-05-20</td>\n",
       "      <td>single rat softchirps;deafening</td>\n",
       "      <td>baratheon_15-05-20_4012_3902_0000057.npy</td>\n",
       "      <td>57</td>\n",
       "      <td>/home/nakedmoleratvoices/Mole rats reborn/Code...</td>\n",
       "      <td>fresh</td>\n",
       "      <td>4012_3902</td>\n",
       "    </tr>\n",
       "    <tr>\n",
       "      <th>1273</th>\n",
       "      <td>baratheon</td>\n",
       "      <td>20-04-20</td>\n",
       "      <td>single rat softchirps;deafening</td>\n",
       "      <td>baratheon_20-04-20_4202_0000018.npy</td>\n",
       "      <td>18</td>\n",
       "      <td>/home/nakedmoleratvoices/Mole rats reborn/Code...</td>\n",
       "      <td>fresh</td>\n",
       "      <td>4202</td>\n",
       "    </tr>\n",
       "    <tr>\n",
       "      <th>1274</th>\n",
       "      <td>baratheon</td>\n",
       "      <td>20-04-20</td>\n",
       "      <td>single rat softchirps;deafening</td>\n",
       "      <td>baratheon_20-04-20_4063_0000014.npy</td>\n",
       "      <td>14</td>\n",
       "      <td>/home/nakedmoleratvoices/Mole rats reborn/Code...</td>\n",
       "      <td>fresh</td>\n",
       "      <td>4063</td>\n",
       "    </tr>\n",
       "    <tr>\n",
       "      <th>1275</th>\n",
       "      <td>baratheon</td>\n",
       "      <td>20-04-20</td>\n",
       "      <td>single rat softchirps;deafening</td>\n",
       "      <td>baratheon_20-04-20_0003_0000016.npy</td>\n",
       "      <td>16</td>\n",
       "      <td>/home/nakedmoleratvoices/Mole rats reborn/Code...</td>\n",
       "      <td>fresh</td>\n",
       "      <td>0003</td>\n",
       "    </tr>\n",
       "    <tr>\n",
       "      <th>1276</th>\n",
       "      <td>baratheon</td>\n",
       "      <td>15-05-20</td>\n",
       "      <td>single rat softchirps;deafening</td>\n",
       "      <td>baratheon_15-05-20_9460_0000015.npy</td>\n",
       "      <td>15</td>\n",
       "      <td>/home/nakedmoleratvoices/Mole rats reborn/Code...</td>\n",
       "      <td>fresh</td>\n",
       "      <td>9460</td>\n",
       "    </tr>\n",
       "    <tr>\n",
       "      <th>1277</th>\n",
       "      <td>baratheon</td>\n",
       "      <td>20-04-20</td>\n",
       "      <td>single rat softchirps;deafening</td>\n",
       "      <td>baratheon_20-04-20_4023_0000010.npy</td>\n",
       "      <td>10</td>\n",
       "      <td>/home/nakedmoleratvoices/Mole rats reborn/Code...</td>\n",
       "      <td>fresh</td>\n",
       "      <td>4023</td>\n",
       "    </tr>\n",
       "    <tr>\n",
       "      <th>1278</th>\n",
       "      <td>baratheon</td>\n",
       "      <td>11-04-20</td>\n",
       "      <td>single rat softchirps;deafening</td>\n",
       "      <td>baratheon_11-04-20_2141_9449_0000038.npy</td>\n",
       "      <td>38</td>\n",
       "      <td>/home/nakedmoleratvoices/Mole rats reborn/Code...</td>\n",
       "      <td>fresh</td>\n",
       "      <td>2141_9449</td>\n",
       "    </tr>\n",
       "    <tr>\n",
       "      <th>1279</th>\n",
       "      <td>baratheon</td>\n",
       "      <td>11-04-20</td>\n",
       "      <td>single rat softchirps;deafening</td>\n",
       "      <td>baratheon_11-04-20_2097_4018_0000011.npy</td>\n",
       "      <td>11</td>\n",
       "      <td>/home/nakedmoleratvoices/Mole rats reborn/Code...</td>\n",
       "      <td>fresh</td>\n",
       "      <td>2097_4018</td>\n",
       "    </tr>\n",
       "    <tr>\n",
       "      <th>1280</th>\n",
       "      <td>baratheon</td>\n",
       "      <td>20-04-20</td>\n",
       "      <td>single rat softchirps;deafening</td>\n",
       "      <td>baratheon_20-04-20_4065_0000026.npy</td>\n",
       "      <td>26</td>\n",
       "      <td>/home/nakedmoleratvoices/Mole rats reborn/Code...</td>\n",
       "      <td>fresh</td>\n",
       "      <td>4065</td>\n",
       "    </tr>\n",
       "    <tr>\n",
       "      <th>1281</th>\n",
       "      <td>baratheon</td>\n",
       "      <td>15-05-20</td>\n",
       "      <td>single rat softchirps;deafening</td>\n",
       "      <td>baratheon_15-05-20_4202_0003_0000019.npy</td>\n",
       "      <td>19</td>\n",
       "      <td>/home/nakedmoleratvoices/Mole rats reborn/Code...</td>\n",
       "      <td>fresh</td>\n",
       "      <td>4202_0003</td>\n",
       "    </tr>\n",
       "  </tbody>\n",
       "</table>\n",
       "</div>"
      ],
      "text/plain": [
       "         colony      date                       experiment  \\\n",
       "1272  baratheon  15-05-20  single rat softchirps;deafening   \n",
       "1273  baratheon  20-04-20  single rat softchirps;deafening   \n",
       "1274  baratheon  20-04-20  single rat softchirps;deafening   \n",
       "1275  baratheon  20-04-20  single rat softchirps;deafening   \n",
       "1276  baratheon  15-05-20  single rat softchirps;deafening   \n",
       "1277  baratheon  20-04-20  single rat softchirps;deafening   \n",
       "1278  baratheon  11-04-20  single rat softchirps;deafening   \n",
       "1279  baratheon  11-04-20  single rat softchirps;deafening   \n",
       "1280  baratheon  20-04-20  single rat softchirps;deafening   \n",
       "1281  baratheon  15-05-20  single rat softchirps;deafening   \n",
       "\n",
       "                                          name  number  \\\n",
       "1272  baratheon_15-05-20_4012_3902_0000057.npy      57   \n",
       "1273       baratheon_20-04-20_4202_0000018.npy      18   \n",
       "1274       baratheon_20-04-20_4063_0000014.npy      14   \n",
       "1275       baratheon_20-04-20_0003_0000016.npy      16   \n",
       "1276       baratheon_15-05-20_9460_0000015.npy      15   \n",
       "1277       baratheon_20-04-20_4023_0000010.npy      10   \n",
       "1278  baratheon_11-04-20_2141_9449_0000038.npy      38   \n",
       "1279  baratheon_11-04-20_2097_4018_0000011.npy      11   \n",
       "1280       baratheon_20-04-20_4065_0000026.npy      26   \n",
       "1281  baratheon_15-05-20_4202_0003_0000019.npy      19   \n",
       "\n",
       "                                                   path processing stage  \\\n",
       "1272  /home/nakedmoleratvoices/Mole rats reborn/Code...            fresh   \n",
       "1273  /home/nakedmoleratvoices/Mole rats reborn/Code...            fresh   \n",
       "1274  /home/nakedmoleratvoices/Mole rats reborn/Code...            fresh   \n",
       "1275  /home/nakedmoleratvoices/Mole rats reborn/Code...            fresh   \n",
       "1276  /home/nakedmoleratvoices/Mole rats reborn/Code...            fresh   \n",
       "1277  /home/nakedmoleratvoices/Mole rats reborn/Code...            fresh   \n",
       "1278  /home/nakedmoleratvoices/Mole rats reborn/Code...            fresh   \n",
       "1279  /home/nakedmoleratvoices/Mole rats reborn/Code...            fresh   \n",
       "1280  /home/nakedmoleratvoices/Mole rats reborn/Code...            fresh   \n",
       "1281  /home/nakedmoleratvoices/Mole rats reborn/Code...            fresh   \n",
       "\n",
       "         ratids  \n",
       "1272  4012_3902  \n",
       "1273       4202  \n",
       "1274       4063  \n",
       "1275       0003  \n",
       "1276       9460  \n",
       "1277       4023  \n",
       "1278  2141_9449  \n",
       "1279  2097_4018  \n",
       "1280       4065  \n",
       "1281  4202_0003  "
      ]
     },
     "execution_count": 7,
     "metadata": {},
     "output_type": "execute_result"
    }
   ],
   "source": [
    "# load data\n",
    "recs_metadata = pd.read_csv(path_to_recordings_metadata + recordings_metadata_name)\n",
    "filters_mask = compute_mask(recs_metadata, dates = dates, colonies = colonies, \n",
    "                                         stages = stages, experiments = experiments)\n",
    "recs_to_split = recs_metadata[filters_mask]\n",
    "print(recs_to_split.shape)\n",
    "recs_to_split.head(10)"
   ]
  },
  {
   "cell_type": "markdown",
   "metadata": {},
   "source": [
    "### Splitting"
   ]
  },
  {
   "cell_type": "code",
   "execution_count": null,
   "metadata": {},
   "outputs": [
    {
     "name": "stderr",
     "output_type": "stream",
     "text": [
      "/usr/local/lib/python3.5/dist-packages/pandas/core/indexing.py:202: SettingWithCopyWarning: \n",
      "A value is trying to be set on a copy of a slice from a DataFrame\n",
      "\n",
      "See the caveats in the documentation: http://pandas.pydata.org/pandas-docs/stable/user_guide/indexing.html#returning-a-view-versus-a-copy\n",
      "  self._setitem_with_indexer(indexer, value)\n"
     ]
    }
   ],
   "source": [
    "# splits, saves txt file and changes processing stage to 'split' for all recs in recs_to_split\n",
    "for rec_path, rec_name in recs_to_split[['path', 'name']].values:\n",
    "    \n",
    "    ind = np.where(recs_metadata['name'] == rec_name)[0][0]\n",
    "    \n",
    "    rec_raw = np.load(rec_path + rec_name)\n",
    "    df_txt = split_recording_forest(rec_raw, model, 0.4)\n",
    "    \n",
    "    recs_metadata['processing stage'].iloc[ind] = 'split'\n",
    "    recs_metadata.to_csv(path_to_recordings_metadata + recordings_metadata_name, index =  None)\n",
    "    df_txt.to_csv(rec_path + rec_name.replace('npy', 'txt'), index = None, sep = '\\t')\n",
    "   "
   ]
  },
  {
   "cell_type": "code",
   "execution_count": null,
   "metadata": {},
   "outputs": [],
   "source": []
  },
  {
   "cell_type": "code",
   "execution_count": null,
   "metadata": {},
   "outputs": [],
   "source": []
  }
 ],
 "metadata": {
  "kernelspec": {
   "display_name": "Python 3",
   "language": "python",
   "name": "python3"
  },
  "language_info": {
   "codemirror_mode": {
    "name": "ipython",
    "version": 3
   },
   "file_extension": ".py",
   "mimetype": "text/x-python",
   "name": "python",
   "nbconvert_exporter": "python",
   "pygments_lexer": "ipython3",
   "version": "3.5.3"
  }
 },
 "nbformat": 4,
 "nbformat_minor": 2
}
