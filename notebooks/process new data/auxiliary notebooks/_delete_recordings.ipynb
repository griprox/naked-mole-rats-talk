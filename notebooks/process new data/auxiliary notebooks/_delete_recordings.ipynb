{
 "cells": [
  {
   "cell_type": "markdown",
   "metadata": {},
   "source": [
    "### This notebook deletes chosen recordings and all related sounds and traces"
   ]
  },
  {
   "cell_type": "code",
   "execution_count": 1,
   "metadata": {},
   "outputs": [
    {
     "name": "stdout",
     "output_type": "stream",
     "text": [
      "/home/nakedmoleratvoices/Mole rats reborn/CodeRefactoredFinal\n"
     ]
    }
   ],
   "source": [
    "cd /home/nakedmoleratvoices/Mole\\ rats\\ reborn/CodeRefactoredFinal/"
   ]
  },
  {
   "cell_type": "code",
   "execution_count": 2,
   "metadata": {},
   "outputs": [],
   "source": [
    "import pandas as pd\n",
    "import numpy as np\n",
    "from src.preprocessing.filters import filter_recs_metadata\n",
    "import os"
   ]
  },
  {
   "cell_type": "code",
   "execution_count": 3,
   "metadata": {},
   "outputs": [],
   "source": [
    "# load metadata\n",
    "path_to_recordings_metadata = '/home/nakedmoleratvoices/Mole rats reborn/CodeRefactoredFinal/data/'\n",
    "recordings_metadata_name = 'recordings_metadata.csv'\n",
    "recs_metadata = pd.read_csv(path_to_recordings_metadata + recordings_metadata_name,)\n"
   ]
  },
  {
   "cell_type": "code",
   "execution_count": 4,
   "metadata": {
    "scrolled": true
   },
   "outputs": [
    {
     "name": "stdout",
     "output_type": "stream",
     "text": [
      "(1, 8)\n"
     ]
    },
    {
     "name": "stderr",
     "output_type": "stream",
     "text": [
      "/usr/local/lib/python3.5/dist-packages/pandas/core/computation/expressions.py:193: UserWarning: evaluating in Python space because the '*' operator is not supported by numexpr for the bool dtype, use '&' instead\n",
      "  op=op_str, alt_op=unsupported[op_str]\n"
     ]
    },
    {
     "data": {
      "text/html": [
       "<div>\n",
       "<style scoped>\n",
       "    .dataframe tbody tr th:only-of-type {\n",
       "        vertical-align: middle;\n",
       "    }\n",
       "\n",
       "    .dataframe tbody tr th {\n",
       "        vertical-align: top;\n",
       "    }\n",
       "\n",
       "    .dataframe thead th {\n",
       "        text-align: right;\n",
       "    }\n",
       "</style>\n",
       "<table border=\"1\" class=\"dataframe\">\n",
       "  <thead>\n",
       "    <tr style=\"text-align: right;\">\n",
       "      <th></th>\n",
       "      <th>colony</th>\n",
       "      <th>date</th>\n",
       "      <th>experiment</th>\n",
       "      <th>name</th>\n",
       "      <th>number</th>\n",
       "      <th>path</th>\n",
       "      <th>processing stage</th>\n",
       "      <th>ratids</th>\n",
       "    </tr>\n",
       "  </thead>\n",
       "  <tbody>\n",
       "    <tr>\n",
       "      <th>1034</th>\n",
       "      <td>baratheon</td>\n",
       "      <td>20-04-20</td>\n",
       "      <td>single rat softchirps;baratheon epochs</td>\n",
       "      <td>baratheon_20-04-20_4020_0000024.npy</td>\n",
       "      <td>24</td>\n",
       "      <td>/home/nakedmoleratvoices/Mole rats reborn/Code...</td>\n",
       "      <td>traced and checked</td>\n",
       "      <td>4020</td>\n",
       "    </tr>\n",
       "  </tbody>\n",
       "</table>\n",
       "</div>"
      ],
      "text/plain": [
       "         colony      date                              experiment  \\\n",
       "1034  baratheon  20-04-20  single rat softchirps;baratheon epochs   \n",
       "\n",
       "                                     name  number  \\\n",
       "1034  baratheon_20-04-20_4020_0000024.npy      24   \n",
       "\n",
       "                                                   path    processing stage  \\\n",
       "1034  /home/nakedmoleratvoices/Mole rats reborn/Code...  traced and checked   \n",
       "\n",
       "     ratids  \n",
       "1034   4020  "
      ]
     },
     "execution_count": 4,
     "metadata": {},
     "output_type": "execute_result"
    }
   ],
   "source": [
    "# set filters for recs to delete\n",
    "colonies = ['lannister']\n",
    "dates = 'all'\n",
    "experiments = 'all'\n",
    "stages = ['traced and checked',]\n",
    "\n",
    "filters_mask = filter_recs_metadata(recs_metadata, dates = dates, colonies = colonies, \n",
    "                                    stages = stages, experiments = experiments)\n",
    "# or set their names directly \n",
    "# comment 2 lines below to not use them\n",
    "\n",
    "rec_names = ['baratheon_20-04-20_4020_0000024.npy']\n",
    "filters_mask = recs_metadata['name'].isin(rec_names)\n",
    "\n",
    "print(recs_metadata[filters_mask].shape)\n",
    "recs_metadata[filters_mask].head()"
   ]
  },
  {
   "cell_type": "code",
   "execution_count": 7,
   "metadata": {
    "scrolled": true
   },
   "outputs": [
    {
     "name": "stdout",
     "output_type": "stream",
     "text": [
      "baratheon_20-04-20_4020_0000024.npy is traced and checked\n",
      "Recording was not found\n",
      "Txt was not found\n",
      "deleted 0 traces\n",
      "Run the cell below to update metadata file\n"
     ]
    },
    {
     "name": "stderr",
     "output_type": "stream",
     "text": [
      "/usr/local/lib/python3.5/dist-packages/pandas/core/indexing.py:202: SettingWithCopyWarning: \n",
      "A value is trying to be set on a copy of a slice from a DataFrame\n",
      "\n",
      "See the caveats in the documentation: http://pandas.pydata.org/pandas-docs/stable/user_guide/indexing.html#returning-a-view-versus-a-copy\n",
      "  self._setitem_with_indexer(indexer, value)\n"
     ]
    }
   ],
   "source": [
    "inds_to_delete = np.where(filters_mask)[0]\n",
    "for ind in inds_to_delete:\n",
    "    rec_name = recs_metadata['name'].iloc[ind]\n",
    "    rec_path = recs_metadata['path'].iloc[ind]\n",
    "    rec_stage = recs_metadata['processing stage'].iloc[ind]\n",
    "    print(rec_name, 'is', rec_stage)\n",
    "    if rec_name in os.listdir(rec_path):\n",
    "        os.remove(rec_path + rec_name)\n",
    "        print('deleted rec file')\n",
    "    else:\n",
    "        print('Recording was not found')\n",
    "    \n",
    "    if rec_stage != 'fresh':\n",
    "        if rec_path + rec_name[:-3] + 'txt' in os.listdir(rec_path):\n",
    "            os.remove(rec_path + rec_name[:-3] + 'txt')\n",
    "            print('deleted txt')\n",
    "        else:\n",
    "            print('Txt was not found')\n",
    "    if 'traced' in rec_stage:\n",
    "        rec_traces = [t for t in os.listdir(rec_path.replace('recordings', 'traces'))\n",
    "                     if rec_name[:-3] in t]\n",
    "        n_traces = len(rec_traces)\n",
    "        for t in rec_traces:\n",
    "            os.remove(rec_path.replace('recordings', 'traces') + t)\n",
    "        print('deleted %d traces' % n_traces)\n",
    "        \n",
    "    recs_metadata['processing stage'].iloc[ind] = 'to delete'\n",
    "    \n",
    "print('Run the cell below to update metadata file')"
   ]
  },
  {
   "cell_type": "code",
   "execution_count": 8,
   "metadata": {},
   "outputs": [],
   "source": [
    "recs_metadata = recs_metadata.drop(inds_to_delete, axis = 0)\n",
    "recs_metadata.to_csv(path_to_recordings_metadata + recordings_metadata_name, index = None)"
   ]
  }
 ],
 "metadata": {
  "kernelspec": {
   "display_name": "Python 3",
   "language": "python",
   "name": "python3"
  },
  "language_info": {
   "codemirror_mode": {
    "name": "ipython",
    "version": 3
   },
   "file_extension": ".py",
   "mimetype": "text/x-python",
   "name": "python",
   "nbconvert_exporter": "python",
   "pygments_lexer": "ipython3",
   "version": "3.5.3"
  }
 },
 "nbformat": 4,
 "nbformat_minor": 2
}
