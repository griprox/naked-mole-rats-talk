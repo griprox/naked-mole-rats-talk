{
 "cells": [
  {
   "cell_type": "code",
   "execution_count": 2,
   "metadata": {},
   "outputs": [],
   "source": [
    "import os\n",
    "import sys\n",
    "path_to_this_notebook = os.path.abspath('.')\n",
    "PATH_TO_PROJECT = path_to_this_notebook[: path_to_this_notebook.find('notebooks')]\n",
    "sys.path.append(PATH_TO_PROJECT)\n",
    "\n",
    "import pandas as pd\n",
    "import numpy as np\n",
    "import pickle\n",
    "import tensorflow as tf\n",
    "import matplotlib.pyplot as plt\n",
    "import time\n",
    "from src.data_representations.process_images import *\n",
    "from src.preprocessing.filters import filter_recs_metadata\n",
    "from src.util import make_image\n",
    "import random\n",
    "import shutil\n",
    "%matplotlib inline"
   ]
  },
  {
   "cell_type": "code",
   "execution_count": null,
   "metadata": {},
   "outputs": [],
   "source": [
    "# This notebook should be used in case when you want to load split files\n",
    "# in the format 't_start;t_end;sound_label' for some recordings in the storage"
   ]
  },
  {
   "cell_type": "code",
   "execution_count": 3,
   "metadata": {},
   "outputs": [],
   "source": [
    "# setting abbreviations for classes\n",
    "# you may use abbreviations in the original txts, but they will be processed to full names based on the dict below\n",
    "def decode(inp, old_class):\n",
    "    if inp in input_decoder:\n",
    "        return input_decoder[inp]\n",
    "    elif inp == '':\n",
    "        return old_class\n",
    "    else:\n",
    "        return 'error'\n",
    "    \n",
    "classes_shortcuts = {'combo' : ['cm', 'cmb',],\n",
    "                     'combotwo': ['cm2', 'cmtwo', 'cmbtwo', 'cmb2', 'combo2'],\n",
    "                     'downsweep': ['dw', 'ds', 'dsw', ],\n",
    "                     'grunt': ['gr',], \n",
    "                     'loudchirp': ['lc', 'ldch', 'lchp'],\n",
    "                     'mordent':['mr'],\n",
    "                     'vtrill':['vt'],\n",
    "                     'noise': ['ns', 'n', ],\n",
    "                     'scream': ['scrm'],\n",
    "                     'softchirp': ['sc', 'sfch', 'sch'],\n",
    "                     'upsweep': ['up', 'usw', 'uw'],\n",
    "                     'weirdo': ['wr', 'wrd', ],\n",
    "                     'phee':['ph'],\n",
    "                     'hiccup':['hi'],\n",
    "                     'pupcheveron':['pch'],\n",
    "                     'tweet':['tw'],\n",
    "                     'pupsquawk':['psq'],\n",
    "                     'pupcombo':['pcm'],\n",
    "                     'tap':['tp'],\n",
    "                     'RFIDscanner': ['scan'],\n",
    "                     'whistle' : ['wh', 'wstl', 'wst', 'whs'],\n",
    "                     'badsplit' : ['bs', 'bad', ]}\n",
    "\n",
    "input_decoder  = {shortcut : cl for cl in classes_shortcuts for shortcut in classes_shortcuts[cl]}\n"
   ]
  },
  {
   "cell_type": "code",
   "execution_count": 4,
   "metadata": {},
   "outputs": [
    {
     "name": "stderr",
     "output_type": "stream",
     "text": [
      "/home/gr1/tf2.1/lib/python3.6/site-packages/pandas/core/computation/expressions.py:178: UserWarning: evaluating in Python space because the '*' operator is not supported by numexpr for the bool dtype, use '&' instead\n",
      "  f\"evaluating in Python space because the {repr(op_str)} \"\n"
     ]
    }
   ],
   "source": [
    "# path to metadata\n",
    "path_to_recordings_metadata = PATH_TO_PROJECT + 'data_examples/'\n",
    "recordings_metadata_name = 'recordings_metadata.csv'\n",
    "recs_metadata = pd.read_csv(path_to_recordings_metadata + recordings_metadata_name)\n",
    "\n",
    "\n",
    "# Filter what recordings you have txts for\n",
    "colonies = ['nmr']\n",
    "dates = 'all'\n",
    "experiments = 'all'\n",
    "stages = ['fresh']\n",
    "\n",
    "filters_mask = filter_recs_metadata(recs_metadata, dates = dates, colonies = colonies, \n",
    "                                    stages = stages, experiments = experiments)\n",
    "recs_chosen = recs_metadata[filters_mask]\n",
    "\n",
    "specify_by_names = False # make it True if you want to filter recordings by names\n",
    "if specify_by_names:\n",
    "    rec_names = ['rec.npy'] # specify recording names here\n",
    "    recs_chosen = recs_metadata[recs_metadata['name'].isin(rec_names)]"
   ]
  },
  {
   "cell_type": "code",
   "execution_count": 78,
   "metadata": {},
   "outputs": [
    {
     "name": "stdout",
     "output_type": "stream",
     "text": [
      "arryn_12-10-17_9469_0000007.txt\n",
      "Saving txt arryn_12-10-17_9469_0000007.txt at path /home/nakedmoleratvoices/Mole rats reborn/CodeRefactoredFinal/data/arryn/recordings/\n"
     ]
    },
    {
     "name": "stderr",
     "output_type": "stream",
     "text": [
      "/usr/local/lib/python3.5/dist-packages/pandas/core/indexing.py:202: SettingWithCopyWarning: \n",
      "A value is trying to be set on a copy of a slice from a DataFrame\n",
      "\n",
      "See the caveats in the documentation: http://pandas.pydata.org/pandas-docs/stable/user_guide/indexing.html#returning-a-view-versus-a-copy\n",
      "  self._setitem_with_indexer(indexer, value)\n"
     ]
    }
   ],
   "source": [
    "path_to_txts = '' # txts should have exactly SAME name as corresponding recordings (with .txt instead of .npy)\n",
    "new_stage = 'labeled and checked'\n",
    "txts = [t for t in os.listdir(path_to_txts) if '.txt' in t]\n",
    "for t in txts:\n",
    "        \n",
    "    rec_name = t[:-3] + 'npy'\n",
    "    if rec_name not in recs_metadata['name'].values:\n",
    "        print('File %s has no recording in recs metadata, skipping it' % t)\n",
    "        \n",
    "    rec_ind = np.where(recs_metadata['name'] == rec_name)[0][0]\n",
    "    rec_path = recs_metadata['path'].iloc[rec_ind]\n",
    "    \n",
    "    try:\n",
    "        print(t)\n",
    "        df_txt = pd.read_csv(path_to_txts + t, sep = '\\t', header = None) \n",
    "        df_txt.columns = ['s', 'e', 'cl']\n",
    "    except:\n",
    "        print('Cant open file %s, check its formatting' % t)\n",
    "        continue\n",
    "    df_txt['cl'] = df_txt['cl'].apply(lambda x : input_decoder[x])\n",
    "    different_sounds = df_txt['cl'].unique()\n",
    "    new_stage_auto = 'split and checked'\n",
    "    for s in different_sounds:\n",
    "        if s not in ('noise', 'sound'):\n",
    "            new_stage_auto = 'labeled and checked'\n",
    "            break\n",
    "    if new_stage != new_stage_auto:\n",
    "        print('Automatically determined stage is %s, manually set is %s. Aborting the process' % \n",
    "              (new_stage_auto, new_stage))\n",
    "        break\n",
    "    recs_metadata['processing stage'].iloc[rec_ind] = new_stage\n",
    "    print('Saving txt %s at path %s' % (t, rec_path))\n",
    "    recs_metadata.to_csv(path_to_recordings_metadata + recordings_metadata_name, index =  None)\n",
    "    df_txt.to_csv(rec_path + t, index = None, sep = '\\t')"
   ]
  }
 ],
 "metadata": {
  "kernelspec": {
   "display_name": "Python 3",
   "language": "python",
   "name": "python3"
  },
  "language_info": {
   "codemirror_mode": {
    "name": "ipython",
    "version": 3
   },
   "file_extension": ".py",
   "mimetype": "text/x-python",
   "name": "python",
   "nbconvert_exporter": "python",
   "pygments_lexer": "ipython3",
   "version": "3.6.9"
  }
 },
 "nbformat": 4,
 "nbformat_minor": 2
}
