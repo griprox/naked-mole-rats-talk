{
 "cells": [
  {
   "cell_type": "code",
   "execution_count": 1,
   "metadata": {},
   "outputs": [],
   "source": [
    "import os\n",
    "import sys\n",
    "path_to_this_notebook = os.path.abspath('.')\n",
    "PATH_TO_PROJECT = path_to_this_notebook[: path_to_this_notebook.find('notebooks')]\n",
    "sys.path.append(PATH_TO_PROJECT)"
   ]
  },
  {
   "cell_type": "code",
   "execution_count": 2,
   "metadata": {},
   "outputs": [],
   "source": [
    "import os\n",
    "import pandas as pd\n",
    "import numpy as np\n",
    "import librosa\n",
    "from skimage.transform import resize\n",
    "import matplotlib.pyplot as plt\n",
    "from collections import defaultdict\n",
    "import re\n",
    "from src.preprocessing.filters import filter_recs_metadata\n",
    "from src.util import make_image\n",
    "from src.data_representations.process_traces import *\n",
    "\n",
    "%matplotlib inline"
   ]
  },
  {
   "cell_type": "code",
   "execution_count": 3,
   "metadata": {
    "scrolled": true
   },
   "outputs": [
    {
     "name": "stdout",
     "output_type": "stream",
     "text": [
      "Path to the project:\n",
      " /home/gr1/Projects/Naked-mole-rat-voices/\n"
     ]
    }
   ],
   "source": [
    "import pandas as pd\n",
    "import numpy as np\n",
    "import sys\n",
    "import os\n",
    "\n",
    "\n",
    "def find_all(a_str, sub):\n",
    "    start = 0\n",
    "    while True:\n",
    "        start = a_str.find(sub, start)\n",
    "        if start == -1:\n",
    "            return\n",
    "        yield start\n",
    "        start += len(sub)\n",
    "\n",
    "\n",
    "def change_path(old_path):\n",
    "    all_backslashes = list(find_all(old_path, '/'))\n",
    "    col_folder = old_path[all_backslashes[-3]:]\n",
    "    return PATH_TO_PROJECT + DATA_FOLDER_NAME + col_folder\n",
    "\n",
    "DATA_FOLDER_NAME = 'data_redo'\n",
    "print('Path to the project:\\n', PATH_TO_PROJECT)\n",
    "\n",
    "recs_metadata = pd.read_csv(PATH_TO_PROJECT + '%s/recordings_metadata.csv' % DATA_FOLDER_NAME, )\n",
    "recs_metadata_new = pd.DataFrame(np.copy(recs_metadata), columns=recs_metadata.columns)\n",
    "recs_metadata_new['path'] = recs_metadata_new['path'].apply(change_path)\n",
    "recs_metadata_new.to_csv(PATH_TO_PROJECT + '%s/recordings_metadata.csv' % DATA_FOLDER_NAME, index=False)"
   ]
  },
  {
   "cell_type": "code",
   "execution_count": 4,
   "metadata": {},
   "outputs": [],
   "source": [
    "import shutil\n",
    "for col in ['stark', 'lannister', 'baratheon']:\n",
    "    p = PATH_TO_PROJECT  + 'data_redo/%s/' % col\n",
    "    files = [f for f in os.listdir(p) if ('npy' in f) or ('txt' in f)]\n",
    "    if not os.path.isdir(p + 'recordings'):\n",
    "        os.makedirs(p + 'recordings')\n",
    "    for f in files:\n",
    "        shutil.move(p + f, p + 'recordings/' + f)\n",
    "    \n",
    "    "
   ]
  },
  {
   "cell_type": "markdown",
   "metadata": {},
   "source": [
    "### Paramteters"
   ]
  },
  {
   "cell_type": "code",
   "execution_count": 7,
   "metadata": {
    "scrolled": true
   },
   "outputs": [
    {
     "name": "stdout",
     "output_type": "stream",
     "text": [
      "(0, 8)\n"
     ]
    },
    {
     "name": "stderr",
     "output_type": "stream",
     "text": [
      "/home/gr1/nmr/lib/python3.6/site-packages/pandas/core/computation/expressions.py:204: UserWarning: evaluating in Python space because the '*' operator is not supported by numexpr for the bool dtype, use '&' instead\n",
      "  f\"evaluating in Python space because the {repr(op_str)} \"\n"
     ]
    },
    {
     "data": {
      "text/html": [
       "<div>\n",
       "<style scoped>\n",
       "    .dataframe tbody tr th:only-of-type {\n",
       "        vertical-align: middle;\n",
       "    }\n",
       "\n",
       "    .dataframe tbody tr th {\n",
       "        vertical-align: top;\n",
       "    }\n",
       "\n",
       "    .dataframe thead th {\n",
       "        text-align: right;\n",
       "    }\n",
       "</style>\n",
       "<table border=\"1\" class=\"dataframe\">\n",
       "  <thead>\n",
       "    <tr style=\"text-align: right;\">\n",
       "      <th></th>\n",
       "      <th>colony</th>\n",
       "      <th>date</th>\n",
       "      <th>experiment</th>\n",
       "      <th>name</th>\n",
       "      <th>number</th>\n",
       "      <th>path</th>\n",
       "      <th>processing stage</th>\n",
       "      <th>ratids</th>\n",
       "    </tr>\n",
       "  </thead>\n",
       "  <tbody>\n",
       "  </tbody>\n",
       "</table>\n",
       "</div>"
      ],
      "text/plain": [
       "Empty DataFrame\n",
       "Columns: [colony, date, experiment, name, number, path, processing stage, ratids]\n",
       "Index: []"
      ]
     },
     "execution_count": 7,
     "metadata": {},
     "output_type": "execute_result"
    }
   ],
   "source": [
    "# load metadata\n",
    "path_to_recordings_metadata = PATH_TO_PROJECT + 'data_redo/'\n",
    "recordings_metadata_name = 'recordings_metadata.csv'\n",
    "\n",
    "# what to check\n",
    "colonies = ['stark']\n",
    "dates = 'all'\n",
    "experiments = 'all'\n",
    "stages = ['labeled']\n",
    "\n",
    "# load data\n",
    "recs_metadata = pd.read_csv(path_to_recordings_metadata + recordings_metadata_name)\n",
    "filters_mask = filter_recs_metadata(recs_metadata, dates = dates, colonies = colonies, \n",
    "                                         stages = stages, experiments = experiments)\n",
    "recs_to_check = recs_metadata[filters_mask]\n",
    "print(recs_to_check.shape)\n",
    "recs_to_check.head(10)"
   ]
  },
  {
   "cell_type": "markdown",
   "metadata": {},
   "source": [
    "### Setting abbreviations for different classes"
   ]
  },
  {
   "cell_type": "code",
   "execution_count": null,
   "metadata": {},
   "outputs": [],
   "source": [
    "# setting abbreviations for classes\n",
    "\n",
    "classes_shortcuts = {'combo' : ['cm', 'cmb',],\n",
    "                     'combotwo': ['cm2', 'cmtwo', 'cmbtwo', 'cmb2', 'combo2'],\n",
    "                     'downsweep': ['dw', 'ds', 'dsw', ],\n",
    "                     'grunt': ['gr',], \n",
    "                     'loudchirp': ['lc', 'ldch', 'lchp'],\n",
    "                     'mordent':['mr'],\n",
    "                     'vtrill':['vt'],\n",
    "                     'noise': ['ns', 'n', ],\n",
    "                     'scream': ['scrm'],\n",
    "                     'softchirp': ['sc', 'sfch', 'sch'],\n",
    "                     'upsweep': ['up', 'usw', 'uw'],\n",
    "                     'weirdo': ['wr', 'wrd', ],\n",
    "                     'phee':['ph'],\n",
    "                     'hiccup':['hi'],\n",
    "                     'pupcheveron':['pch'],\n",
    "                     'tweet':['tw'],\n",
    "                     'pupsquawk':['psq'],\n",
    "                     'pupcombo':['pcm'],\n",
    "                     'tap':['tp'],\n",
    "                     'RFIDscanner': ['scan'],\n",
    "                     'whistle' : ['wh', 'wstl', 'wst', 'whs'],\n",
    "                     'badsplit' : ['bs', 'bad', ]}\n",
    "\n",
    "input_decoder  = {shortcut : cl for cl in classes_shortcuts for shortcut in classes_shortcuts[cl]}\n",
    "def decode(inp, old_class):\n",
    "    if inp in input_decoder:\n",
    "        return input_decoder[inp]\n",
    "    elif inp == '':\n",
    "        return old_class\n",
    "    else:\n",
    "        return 'error'\n",
    "    \n"
   ]
  },
  {
   "cell_type": "markdown",
   "metadata": {},
   "source": [
    "# Checking"
   ]
  },
  {
   "cell_type": "code",
   "execution_count": null,
   "metadata": {
    "scrolled": true
   },
   "outputs": [],
   "source": [
    "update_stage  = True\n",
    "check_certain_classes = True\n",
    "classes_to_check = 'all'\n",
    "classes_to_ignore = ['noise', 'softchirp', 'weirdo', 'badsplit']\n",
    "#classes_to_ignore = [None]\n",
    "recs_metadata = pd.read_csv(path_to_recordings_metadata + recordings_metadata_name)\n",
    "filters_mask = filter_recs_metadata(recs_metadata, dates = dates, colonies = colonies, \n",
    "                                         stages = stages, experiments = experiments)\n",
    "sr = 22050\n",
    "recs_to_check = recs_metadata[filters_mask]\n",
    "total_recs = len(recs_to_check)\n",
    "print('%d recs to check' % len(recs_to_check))\n",
    "checked = 0\n",
    "for rec_path, rec_name in recs_to_check[['path', 'name']].values:\n",
    "    checked += 1\n",
    "    rec_ind = np.where(recs_metadata['name'] == rec_name)[0][0]\n",
    "    rec_stage = recs_metadata['processing stage'][recs_metadata['name'] == rec_name].iloc[0]\n",
    "    rec_new_stage = rec_stage + ' and checked'\n",
    "\n",
    "    print('Type shortcut for class to make relabel into this class',\n",
    "          'Type nothing if label is good as it is')\n",
    "    \n",
    "    df_txt = pd.read_csv(rec_path + rec_name.replace('npy', 'txt'), sep = '\\t')\n",
    "    rec = np.load(rec_path + rec_name)\n",
    "    print('Checking %d sounds from the recording %s' % (len(df_txt[~df_txt['cl'].isin(classes_to_ignore)]),\n",
    "                                                        rec_name))\n",
    "    for ind in range(len(df_txt)):\n",
    "        s, e = df_txt[['s', 'e']].iloc[ind]\n",
    "        cl = df_txt['cl'].iloc[ind]\n",
    "        if check_certain_classes:\n",
    "            if cl in classes_to_ignore:\n",
    "                continue\n",
    "            if classes_to_check != 'all' and cl not in classes_to_check:\n",
    "                continue\n",
    "\n",
    "        s_ind = int(sr * s)\n",
    "        e_ind = int(sr * e)\n",
    "        sound = rec[s_ind : e_ind]\n",
    "        im = make_image(sound)\n",
    "        plt.imshow(im)\n",
    "        plt.title(cl)\n",
    "        plt.show()\n",
    "        inp = input()\n",
    "        new_cl = decode(inp, cl)\n",
    "\n",
    "        while new_cl == 'error':\n",
    "            print('Abbreviation not recognized, repeat!')\n",
    "            inp = input()\n",
    "            new_cl = decode(inp, cl)\n",
    "        if new_cl != cl:\n",
    "            print('Relabeled into %s' % new_cl)\n",
    "        else:\n",
    "            print('Keeping label %s' % cl)\n",
    "            \n",
    "        df_txt['cl'].iloc[ind] = new_cl\n",
    "\n",
    "    print('Saving updated txt, updating recordings processing stage to', rec_new_stage)\n",
    "    print('Checked %d/%d' %(checked, total_recs))\n",
    "    if update_stage:\n",
    "        recs_metadata['processing stage'].iloc[rec_ind] = rec_new_stage\n",
    "    \n",
    "    recs_metadata.to_csv(path_to_recordings_metadata + recordings_metadata_name, index =  None)\n",
    "    df_txt.to_csv(rec_path + rec_name.replace('npy',  'txt'), index = None, sep = '\\t')\n",
    "    "
   ]
  },
  {
   "cell_type": "code",
   "execution_count": null,
   "metadata": {},
   "outputs": [],
   "source": []
  }
 ],
 "metadata": {
  "kernelspec": {
   "display_name": "Python 3",
   "language": "python",
   "name": "python3"
  },
  "language_info": {
   "codemirror_mode": {
    "name": "ipython",
    "version": 3
   },
   "file_extension": ".py",
   "mimetype": "text/x-python",
   "name": "python",
   "nbconvert_exporter": "python",
   "pygments_lexer": "ipython3",
   "version": "3.7.10"
  }
 },
 "nbformat": 4,
 "nbformat_minor": 2
}
