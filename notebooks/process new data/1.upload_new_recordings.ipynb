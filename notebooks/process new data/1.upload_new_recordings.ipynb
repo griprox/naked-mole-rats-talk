{
 "cells": [
  {
   "cell_type": "code",
   "execution_count": 1,
   "metadata": {},
   "outputs": [],
   "source": [
    "import os\n",
    "import sys\n",
    "path_to_this_notebook = os.path.abspath('.')\n",
    "PATH_TO_PROJECT = path_to_this_notebook[: path_to_this_notebook.find('notebooks')]\n",
    "sys.path.append(PATH_TO_PROJECT)\n",
    "\n",
    "import numpy as np\n",
    "import librosa\n",
    "import re\n",
    "import pandas as pd\n",
    "import shutil\n",
    "\n",
    "from src.metadata_processing.process_recs_metadata import *\n",
    "from src.util import overwrite_recs_as_npy"
   ]
  },
  {
   "cell_type": "code",
   "execution_count": 2,
   "metadata": {},
   "outputs": [],
   "source": [
    "# These unctions which should be adapted to naming scheme, desired metadata columns and data storage structure\n",
    "#specify colonies manually\n",
    "\n",
    "def extract_metadata_african(rec_name):\n",
    "    \"\"\" This function should be customized for particular naming scheme of the recordings\n",
    "        Output should be dictionary {'col1' : v1, 'col2' : v2} that has metainfo values\n",
    "        of the recording \"\"\"\n",
    "    date = rec_name[rec_name.find('_') + 1 : rec_name.find(' ')]\n",
    "    date = date[:2] + '-' + date[2:4] +  '-' + date[4:]\n",
    "    colony = rec_name[:rec_name.find('_')]\n",
    "    ratids = 'whole'\n",
    "    return {'name' : rec_name,\n",
    "            'colony' : colony,\n",
    "            'date' : date,\n",
    "            'ratids' : ratids,\n",
    "            'number' : None}\n",
    "\n",
    "\n",
    "def extract_metadata(rec_name, ratids=None):\n",
    "    \"\"\" This function should be customized for particular naming scheme of the recordings\n",
    "        Output is the dictionary {'col1' : v1, 'col2' : v2} that has metainfo values\n",
    "        of the recording \"\"\"\n",
    "    colony = rec_name[:rec_name.find('_')]\n",
    "    date = re.findall('[0-9]+-[0-9]+-[0-9]+', rec_name)[0]\n",
    "    if ratids is None:\n",
    "        ratids = re.findall('_[0-9, _]+_', rec_name)[0][1 : -1]\n",
    "    else:\n",
    "        ratids = ratids\n",
    "    num = rec_name[rec_name.rfind('_') + 1 : rec_name.find('.')]\n",
    "    \n",
    "    return {'name' : rec_name,\n",
    "            'colony' : colony,\n",
    "            'date' : date,\n",
    "            'ratids' : ratids,\n",
    "            'number' : num}\n",
    "\n",
    "def build_path(recs_metadata, base_path):\n",
    "    \"\"\" This function should be customized in order to create desired structure\n",
    "        of the folders storing recordings. Using recording metadata as an input\n",
    "        it builds path where recording will be saved and extends metadata with it \"\"\"\n",
    "    paths = base_path + recs_metadata['colony'] + '/recordings/'\n",
    "    new_recs_metadata = pd.DataFrame(recs_metadata)\n",
    "    new_recs_metadata['path'] = paths\n",
    "    return new_recs_metadata"
   ]
  },
  {
   "cell_type": "markdown",
   "metadata": {},
   "source": [
    "### Setting path to recordings you to upload, specifying metainfo parameters"
   ]
  },
  {
   "cell_type": "code",
   "execution_count": 3,
   "metadata": {
    "scrolled": true
   },
   "outputs": [
    {
     "name": "stdout",
     "output_type": "stream",
     "text": [
      "Found 0 .wav and 0 .npy recordings. Wav ones will be overwritten with npy format.\n"
     ]
    }
   ],
   "source": [
    "# location of the metadata file, supposed to be always same\n",
    "path_to_recordings_metadata = PATH_TO_PROJECT + 'data/'\n",
    "if not os.path.isdir(path_to_recordings_metadata):\n",
    "    os.makedirs(path_to_recordings_metadata)\n",
    "recordings_metadata_name = 'recordings_metadata.csv'\n",
    "\n",
    "\n",
    "\n",
    "# path where recordings you want to upload are stored\n",
    "path_to_new_recordings = PATH_TO_PROJECT + 'data/berlinannotated/'\n",
    "sr = 22050 # Sampling rate at which data will be saved. Keep it 22050 for the NMR.\n",
    "\n",
    "for rec_name in os.listdir(path_to_new_recordings):\n",
    "    os.rename(path_to_new_recordings + rec_name, path_to_new_recordings + rec_name.replace('WAV', 'wav'))\n",
    "overwrite_recs_as_npy(path_to_new_recordings, sr=sr)\n",
    "new_rec_names =  [r for r in os.listdir(path_to_new_recordings) if '.npy' in r and 'split' not in r]"
   ]
  },
  {
   "cell_type": "code",
   "execution_count": 37,
   "metadata": {},
   "outputs": [],
   "source": [
    "# If some of the new recordings are already in the metadata, value for 'experiment' will be concatenated.\n",
    "# Other values will be overwritten\n",
    "# Separator for experiments is ; i.g. 'experiment': 'exp1;exp2;exp3'\n",
    "\n",
    "additional_parameters = {'experiment' : 'berlin', \n",
    "                         'processing stage' : 'labeled and checked'}"
   ]
  },
  {
   "cell_type": "markdown",
   "metadata": {},
   "source": [
    "### Extracting metadata"
   ]
  },
  {
   "cell_type": "code",
   "execution_count": 41,
   "metadata": {
    "scrolled": true
   },
   "outputs": [],
   "source": [
    "# extract metadata and extend it with additional_parameters\n",
    "#change colony info manually above\n",
    "# change 'extract_metadata_mice' to 'extract_metadata_african' or 'extract_metadata' depending on the data\n",
    "\n",
    "ratids = None # Automated ratids extration fails for whole colony recordings. \n",
    "              #  In this case, change this variable to ratids = 'whole'\n",
    "new_recs_metadata = pd.DataFrame([extract_metadata(rec_name, ratids) for rec_name in new_rec_names])\n",
    "new_recs_metadata = add_columns_to_recs_metadata(new_recs_metadata, additional_parameters)\n",
    "new_recs_metadata = build_path(new_recs_metadata, path_to_recordings_metadata)"
   ]
  },
  {
   "cell_type": "code",
   "execution_count": 43,
   "metadata": {
    "scrolled": true
   },
   "outputs": [
    {
     "name": "stdout",
     "output_type": "stream",
     "text": [
      "New recordings do not have values for following metadata columns:\n",
      "[]\n",
      "Current metadata file does not have these columns:\n",
      "[]\n"
     ]
    },
    {
     "name": "stderr",
     "output_type": "stream",
     "text": [
      "/home/gr1/Projects/naked-mole-rats/src/metadata_processing/process_recs_metadata.py:51: FutureWarning: In a future version of pandas all arguments of concat except for the argument 'objs' will be keyword-only\n",
      "  return pd.concat([old_recs_metadata_copy, new_recs_metadata_copy], 0).reset_index(drop=True)\n"
     ]
    },
    {
     "data": {
      "text/html": [
       "<div>\n",
       "<style scoped>\n",
       "    .dataframe tbody tr th:only-of-type {\n",
       "        vertical-align: middle;\n",
       "    }\n",
       "\n",
       "    .dataframe tbody tr th {\n",
       "        vertical-align: top;\n",
       "    }\n",
       "\n",
       "    .dataframe thead th {\n",
       "        text-align: right;\n",
       "    }\n",
       "</style>\n",
       "<table border=\"1\" class=\"dataframe\">\n",
       "  <thead>\n",
       "    <tr style=\"text-align: right;\">\n",
       "      <th></th>\n",
       "      <th>colony</th>\n",
       "      <th>date</th>\n",
       "      <th>experiment</th>\n",
       "      <th>name</th>\n",
       "      <th>number</th>\n",
       "      <th>path</th>\n",
       "      <th>processing stage</th>\n",
       "      <th>ratids</th>\n",
       "    </tr>\n",
       "  </thead>\n",
       "  <tbody>\n",
       "    <tr>\n",
       "      <th>1945</th>\n",
       "      <td>proudfeet</td>\n",
       "      <td>26-03-22</td>\n",
       "      <td>single rat softchirps</td>\n",
       "      <td>proudfeet_26-03-22_0113_0000004.npy</td>\n",
       "      <td>4.0</td>\n",
       "      <td>/home/gr1/Projects/naked-mole-rats//data/proud...</td>\n",
       "      <td>split</td>\n",
       "      <td>0113</td>\n",
       "    </tr>\n",
       "    <tr>\n",
       "      <th>1946</th>\n",
       "      <td>proudfeet</td>\n",
       "      <td>26-03-22</td>\n",
       "      <td>single rat softchirps</td>\n",
       "      <td>proudfeet_26-03-22_0118_0000005.npy</td>\n",
       "      <td>5.0</td>\n",
       "      <td>/home/gr1/Projects/naked-mole-rats//data/proud...</td>\n",
       "      <td>split</td>\n",
       "      <td>0118</td>\n",
       "    </tr>\n",
       "    <tr>\n",
       "      <th>1947</th>\n",
       "      <td>proudfeet</td>\n",
       "      <td>26-03-22</td>\n",
       "      <td>single rat softchirps</td>\n",
       "      <td>proudfeet_26-03-22_0781_0000007.npy</td>\n",
       "      <td>7.0</td>\n",
       "      <td>/home/gr1/Projects/naked-mole-rats//data/proud...</td>\n",
       "      <td>split</td>\n",
       "      <td>0781</td>\n",
       "    </tr>\n",
       "    <tr>\n",
       "      <th>1948</th>\n",
       "      <td>proudfeet</td>\n",
       "      <td>26-03-22</td>\n",
       "      <td>single rat softchirps</td>\n",
       "      <td>proudfeet_26-03-22_0261_0000008.npy</td>\n",
       "      <td>8.0</td>\n",
       "      <td>/home/gr1/Projects/naked-mole-rats//data/proud...</td>\n",
       "      <td>split</td>\n",
       "      <td>0261</td>\n",
       "    </tr>\n",
       "    <tr>\n",
       "      <th>1949</th>\n",
       "      <td>berlinannotated</td>\n",
       "      <td>00-00-00</td>\n",
       "      <td>berlin</td>\n",
       "      <td>berlinannotated_00-00-00_000_0000000.npy</td>\n",
       "      <td>0000000</td>\n",
       "      <td>/home/gr1/Projects/naked-mole-rats/data/berlin...</td>\n",
       "      <td>labeled and checked</td>\n",
       "      <td>000</td>\n",
       "    </tr>\n",
       "  </tbody>\n",
       "</table>\n",
       "</div>"
      ],
      "text/plain": [
       "               colony      date             experiment  \\\n",
       "1945        proudfeet  26-03-22  single rat softchirps   \n",
       "1946        proudfeet  26-03-22  single rat softchirps   \n",
       "1947        proudfeet  26-03-22  single rat softchirps   \n",
       "1948        proudfeet  26-03-22  single rat softchirps   \n",
       "1949  berlinannotated  00-00-00                 berlin   \n",
       "\n",
       "                                          name   number  \\\n",
       "1945       proudfeet_26-03-22_0113_0000004.npy      4.0   \n",
       "1946       proudfeet_26-03-22_0118_0000005.npy      5.0   \n",
       "1947       proudfeet_26-03-22_0781_0000007.npy      7.0   \n",
       "1948       proudfeet_26-03-22_0261_0000008.npy      8.0   \n",
       "1949  berlinannotated_00-00-00_000_0000000.npy  0000000   \n",
       "\n",
       "                                                   path     processing stage  \\\n",
       "1945  /home/gr1/Projects/naked-mole-rats//data/proud...                split   \n",
       "1946  /home/gr1/Projects/naked-mole-rats//data/proud...                split   \n",
       "1947  /home/gr1/Projects/naked-mole-rats//data/proud...                split   \n",
       "1948  /home/gr1/Projects/naked-mole-rats//data/proud...                split   \n",
       "1949  /home/gr1/Projects/naked-mole-rats/data/berlin...  labeled and checked   \n",
       "\n",
       "     ratids  \n",
       "1945   0113  \n",
       "1946   0118  \n",
       "1947   0781  \n",
       "1948   0261  \n",
       "1949    000  "
      ]
     },
     "execution_count": 43,
     "metadata": {},
     "output_type": "execute_result"
    }
   ],
   "source": [
    "# check if there is a recordings' metadata file already then load it or create new one\n",
    "if recordings_metadata_name in os.listdir(path_to_recordings_metadata):\n",
    "    old_recs_metadata = pd.read_csv(path_to_recordings_metadata + recordings_metadata_name)\n",
    "else:\n",
    "    old_recs_metadata = pd.DataFrame()\n",
    "    \n",
    "updated_metadata = merge_recs_metadata(old_recs_metadata, new_recs_metadata)\n",
    "updated_metadata.tail()\n"
   ]
  },
  {
   "cell_type": "markdown",
   "metadata": {},
   "source": [
    "### Saving updated metadata"
   ]
  },
  {
   "cell_type": "code",
   "execution_count": 44,
   "metadata": {
    "scrolled": true
   },
   "outputs": [],
   "source": [
    "# saves updated metadatafile and copies all new recordings to their new path\n",
    "for rec_name, rec_path in new_recs_metadata[['name', 'path']].values:\n",
    "    if not os.path.isdir(rec_path):\n",
    "        os.makedirs(rec_path)\n",
    "    if ( path_to_new_recordings + rec_name) != (rec_path + rec_name):\n",
    "        shutil.copy2(src = path_to_new_recordings + rec_name, dst = rec_path + rec_name)\n",
    "updated_metadata.to_csv(path_to_recordings_metadata + recordings_metadata_name, index=None)"
   ]
  },
  {
   "cell_type": "code",
   "execution_count": 10,
   "metadata": {},
   "outputs": [
    {
     "data": {
      "text/html": [
       "<div>\n",
       "<style scoped>\n",
       "    .dataframe tbody tr th:only-of-type {\n",
       "        vertical-align: middle;\n",
       "    }\n",
       "\n",
       "    .dataframe tbody tr th {\n",
       "        vertical-align: top;\n",
       "    }\n",
       "\n",
       "    .dataframe thead th {\n",
       "        text-align: right;\n",
       "    }\n",
       "</style>\n",
       "<table border=\"1\" class=\"dataframe\">\n",
       "  <thead>\n",
       "    <tr style=\"text-align: right;\">\n",
       "      <th></th>\n",
       "      <th>colony</th>\n",
       "      <th>date</th>\n",
       "      <th>experiment</th>\n",
       "      <th>name</th>\n",
       "      <th>number</th>\n",
       "      <th>path</th>\n",
       "      <th>processing stage</th>\n",
       "      <th>ratids</th>\n",
       "    </tr>\n",
       "  </thead>\n",
       "  <tbody>\n",
       "  </tbody>\n",
       "</table>\n",
       "</div>"
      ],
      "text/plain": [
       "Empty DataFrame\n",
       "Columns: [colony, date, experiment, name, number, path, processing stage, ratids]\n",
       "Index: []"
      ]
     },
     "execution_count": 10,
     "metadata": {},
     "output_type": "execute_result"
    }
   ],
   "source": [
    "updated_metadata[updated_metadata['colony'] == 'bird']"
   ]
  }
 ],
 "metadata": {
  "kernelspec": {
   "display_name": "Python 3 (ipykernel)",
   "language": "python",
   "name": "python3"
  },
  "language_info": {
   "codemirror_mode": {
    "name": "ipython",
    "version": 3
   },
   "file_extension": ".py",
   "mimetype": "text/x-python",
   "name": "python",
   "nbconvert_exporter": "python",
   "pygments_lexer": "ipython3",
   "version": "3.7.13"
  }
 },
 "nbformat": 4,
 "nbformat_minor": 2
}
