{
 "cells": [
  {
   "cell_type": "code",
   "execution_count": 2,
   "id": "d6523410",
   "metadata": {},
   "outputs": [
    {
     "name": "stderr",
     "output_type": "stream",
     "text": [
      "/home/gr1/miniconda3/envs/nmr/lib/python3.7/site-packages/tqdm/auto.py:22: TqdmWarning: IProgress not found. Please update jupyter and ipywidgets. See https://ipywidgets.readthedocs.io/en/stable/user_install.html\n",
      "  from .autonotebook import tqdm as notebook_tqdm\n"
     ]
    }
   ],
   "source": [
    "import os\n",
    "import sys\n",
    "path_to_this_notebook = os.path.abspath('.')\n",
    "PATH_TO_PROJECT = path_to_this_notebook[: path_to_this_notebook.find('notebooks')]\n",
    "sys.path.append(PATH_TO_PROJECT)\n",
    "from src.metadata_processing.load_data import *\n",
    "from src.metadata_processing.process_softchirp_features import find_outliers, choose_features\n",
    "from src.audiodata_processing.extract_features_from_softchirps import compute_all_features\n",
    "from src.audiodata_processing.process_traces import clear_trace\n",
    "from src.metadata_processing.filters import filter_recs_metadata, filter_sounds_metadata_extended\n",
    "from src.metadata_processing.process_sounds_metadata import extend_sounds_metadata, compute_epochs\n",
    "from src.visualization.plot_softchirps import plot\n",
    "from src.util import delete_indexes\n",
    "import src.visualization.plot_softchirps\n",
    "from notebooks.analysis.plotting_config import ORDER, COLOR, EPOCHS # change plotting_config file to change colors\n",
    "from src.metadata_processing.process_sounds_metadata import generate_sounds_metadata\n",
    "from src.audiodata_processing.process_waves import butter_highpass_filter\n",
    "from src.audiodata_processing.extract_features_from_softchirps import *\n",
    "from src.audiodata_processing.extract_features_from_wave import extract_mfcc\n",
    "\n",
    "def extract_wav_features(wavs_list):\n",
    "    wav_features = []\n",
    "    for wav in wavs_list:\n",
    "        pitch = compute_pitch(wav)\n",
    "        amp = compute_amplitude(wav)\n",
    "        ent = compute_wiener_ent(wav)\n",
    "        zero_cr = compute_zero_crossing(wav)\n",
    "        wav_features.append((pitch, amp, ent, zero_cr))\n",
    "    return pd.DataFrame(wav_features, columns=['pitch', 'amplitude', 'entropy', 'zero crossing'])\n",
    "\n",
    "\n",
    "import pandas as pd\n",
    "import numpy as np\n",
    "import matplotlib.pyplot as plt\n",
    "import re\n",
    "from collections import defaultdict\n",
    "import matplotlib\n",
    "import matplotlib.cm as cm\n",
    "%matplotlib inline"
   ]
  },
  {
   "cell_type": "code",
   "execution_count": 3,
   "id": "5fb1e5b5",
   "metadata": {},
   "outputs": [],
   "source": [
    "# specify paths, where data is stored\n",
    "path_to_info = PATH_TO_PROJECT + 'data/rat_info.csv'\n",
    "path_to_recordings_metadata = PATH_TO_PROJECT + 'data/'\n",
    "recordings_metadata_name = 'recordings_metadata.csv'\n",
    "\n",
    "# what data to load, set filters here\n",
    "colonies = ['lannister', 'martell', 'targaryen']\n",
    "#colonies = 'all'\n",
    "dates = 'all'\n",
    "experiments = 'all'\n",
    "stages = ['traced and checked', 'traced', 'traced and checked and checked', 'labeled and checked']\n",
    "\n",
    "\n",
    "# specifies seconds to pixels ratio for spectrogram image\n",
    "# uses librosa library which downsamples all audio files to 22050\n",
    "freq_mult = 22050 / 2  / 128\n",
    "\n",
    "# specify outliers,soft chirp traces outside of these ranges are excluded from analysis  \n",
    "boundaries = {'slope' : (0.01, .2), \n",
    "              'frequency' : (2000, 8000), \n",
    "              'duration' : (0.05, 10),\n",
    "              'height' : (300, 6000)}\n",
    "\n",
    "\n",
    "columns_to_copy = ['colony', 'ratids', 'date', 'experiment']\n",
    "max_sounds_per_class = {'softchirp': 5000}\n",
    "max_sound_length = 12000\n",
    "min_sound_length = 1337\n",
    "min_sound_occurrences = 30\n",
    "classes_to_drop = ['weirdo', 'badsplit', 'noise', 'sound']\n",
    "sr = 22050"
   ]
  },
  {
   "cell_type": "markdown",
   "id": "c3b1ac12",
   "metadata": {},
   "source": [
    "### Load data"
   ]
  },
  {
   "cell_type": "code",
   "execution_count": 4,
   "id": "944eb526",
   "metadata": {},
   "outputs": [
    {
     "name": "stdout",
     "output_type": "stream",
     "text": [
      "Using 676 recordings\n"
     ]
    },
    {
     "name": "stderr",
     "output_type": "stream",
     "text": [
      "/home/gr1/Projects/naked-mole-rats/src/metadata_processing/process_sounds_metadata.py:37: FutureWarning: In a future version of pandas all arguments of concat except for the argument 'objs' will be keyword-only\n",
      "  sounds_metadata = pd.concat(sounds_metadata, 0).reset_index(drop=True)\n"
     ]
    },
    {
     "name": "stdout",
     "output_type": "stream",
     "text": [
      "softchirp      4988\n",
      "pupcombo       1077\n",
      "pupcheveron     189\n",
      "pupsquawk       106\n",
      "grunt            88\n",
      "whistle          65\n",
      "upsweep          56\n",
      "downsweep        47\n",
      "phee             41\n",
      "hiccup           26\n",
      "Name: cl, dtype: int64\n",
      "No info for 1407\n",
      "No info for 3979\n",
      "No info for 3981\n",
      "No info for 3985\n",
      "No info for 3984\n",
      "No info for 4272\n",
      "No info for 4218\n",
      "No info for 4214\n",
      "No info for 4222\n",
      "No info for 4226\n",
      "No info for 4223\n",
      "No info for 4407\n"
     ]
    },
    {
     "name": "stderr",
     "output_type": "stream",
     "text": [
      "/home/gr1/Projects/naked-mole-rats/src/metadata_processing/process_sounds_metadata.py:109: FutureWarning: In a future version of pandas all arguments of concat except for the argument 'objs' will be keyword-only\n",
      "  return pd.concat([sounds_metadata.reset_index(drop = True), columns_to_add], 1)\n"
     ]
    }
   ],
   "source": [
    "# load info- and meta- data\n",
    "info = load_info_file(path_to_info)\n",
    "recs_metadata, recs_dict = load_recordings_metadata(path_to_recordings_metadata, recordings_metadata_name,\n",
    "                                                    dates, colonies, experiments, stages, {})\n",
    "sounds_metadata = generate_sounds_metadata(recs_metadata, classes_to_drop, max_sounds_per_class,\n",
    "                                            min_sound_length, max_sound_length, columns_to_copy,\n",
    "                                            sr=sr, min_sound_occurrences=min_sound_occurrences,\n",
    "                                            print_counts=True)\n",
    "\n",
    "# Load wavs\n",
    "wavs = []\n",
    "for s, e, rec_name in sounds_metadata[['s', 'e', 'rec']].values:\n",
    "    wav = butter_highpass_filter(recs_dict[rec_name][int(sr * s) : int(sr * e)], 3000, sr)\n",
    "    wavs.append(wav)\n",
    "sounds_metadata_extended = extend_sounds_metadata(sounds_metadata, info)"
   ]
  },
  {
   "cell_type": "code",
   "execution_count": 5,
   "id": "dca898f2",
   "metadata": {},
   "outputs": [],
   "source": [
    "import warnings\n",
    "warnings.filterwarnings('ignore')"
   ]
  },
  {
   "cell_type": "code",
   "execution_count": 6,
   "id": "b5a1064b",
   "metadata": {},
   "outputs": [],
   "source": [
    "n_mel = 40\n",
    "wav_features = extract_wav_features(wavs)\n",
    "mfcc_features = pd.DataFrame(extract_mfcc(wavs, n_mel=n_mel), columns=\n",
    "                             ['mfcc%d_mean' % i for i in range(1, n_mel + 1)] + \n",
    "                             ['mfcc%d_var' % i for i in range(1, n_mel + 1)] + \n",
    "                             ['mfcc%d_median' % i for i in range(1, n_mel + 1)])"
   ]
  },
  {
   "cell_type": "markdown",
   "id": "fa51c650",
   "metadata": {},
   "source": [
    "### Analysis"
   ]
  },
  {
   "cell_type": "code",
   "execution_count": 7,
   "id": "6d67f047",
   "metadata": {},
   "outputs": [],
   "source": [
    "def choose_features(feature_names, wav_features, mfcc_features):\n",
    "    features_to_use = []\n",
    "    for f in feature_names:\n",
    "        if f == 'mfcc':\n",
    "            f_list = mfcc_features[mask]\n",
    "        else:\n",
    "            f_list = wav_features[f]\n",
    "        features_to_use.append(f_list)\n",
    "    return pd.concat(features_to_use, axis=1)"
   ]
  },
  {
   "cell_type": "code",
   "execution_count": 20,
   "id": "c1aa4797",
   "metadata": {},
   "outputs": [
    {
     "name": "stdout",
     "output_type": "stream",
     "text": [
      "Keys:  ['s', 'e', 'cl', 'rec', 'colony', 'ratids', 'date', 'experiment', 'weight', 'sex', 'rank', 'dob', 'age', 'bodylength', 'bodylength2']\n",
      "Taking 100 % sounds\n"
     ]
    }
   ],
   "source": [
    "feature_names = [ \n",
    "                 #'entropy', \n",
    "                 #'zero crossing',\n",
    "                 #'amplitude',\n",
    "                 'pitch', \n",
    "                 #'mfcc'\n",
    "] \n",
    "# any combination of 'pitch', 'amplitude', 'entropy', 'zero crossing', and 'mfcc'\n",
    "\n",
    "# specify data to use\n",
    "print('Keys: ', list(sounds_metadata_extended.columns))\n",
    "# specify filters\n",
    "colonies = 'all'\n",
    "weights = 'all'\n",
    "dates = 'all'\n",
    "sexes = 'all' # options: 'M', 'F', or 'all'\n",
    "ages = 'all' # set range: (0, np.inf)\n",
    "ranks = 'all' \n",
    "ratids =  'all'\n",
    "excludeids = None # options: '1111', or None\n",
    "bodylengths = 'all'# or set range\n",
    "bodylengths2 = 'all' # or set range\n",
    "sounds_per_rat = [0, 10000]\n",
    "types = 'all'# options for types: 'single', 'pairs', or 'all'\n",
    "\n",
    "mask =  filter_sounds_metadata_extended(sounds_metadata_extended, ratids, excludeids, \n",
    "                                   types, colonies, weights, sexes, ages, ranks, dates,\n",
    "                                   bodylengths, bodylengths2, sounds_per_rat)\n",
    "sounds_metadata_to_use = sounds_metadata_extended[mask]\n",
    "print('Taking %.f %% sounds' % (100 *  mask.mean()))\n",
    "features_to_use = choose_features(feature_names, wav_features, mfcc_features)[mask].reset_index(drop=True)\n",
    "features_to_use_normalized = pd.DataFrame(features_to_use.values, columns=features_to_use.columns)\n",
    "for col in features_to_use_normalized.columns:\n",
    "    features_to_use_normalized[col] = ((features_to_use_normalized[col] - features_to_use_normalized[col].min())\n",
    "                                       / (features_to_use_normalized[col].max()\n",
    "                                          - features_to_use_normalized[col].min()))\n"
   ]
  },
  {
   "cell_type": "code",
   "execution_count": 21,
   "id": "16a5726a",
   "metadata": {},
   "outputs": [
    {
     "name": "stdout",
     "output_type": "stream",
     "text": [
      "['softchirp' 'grunt' 'whistle' 'upsweep' 'downsweep' 'pupcombo'\n",
      " 'pupsquawk' 'phee' 'hiccup' 'pupcheveron'] 10\n"
     ]
    }
   ],
   "source": [
    "colonies = sounds_metadata_to_use['colony'].unique()\n",
    "per_colony_mask = {col: sounds_metadata_to_use['colony'] == col for col in colonies}\n",
    "sound_types = sounds_metadata_to_use['cl'].unique()\n",
    "print(sound_types, len(sound_types))\n",
    "n_rows = 2\n",
    "n_cols = 5"
   ]
  },
  {
   "cell_type": "code",
   "execution_count": 22,
   "id": "31849780",
   "metadata": {
    "scrolled": false
   },
   "outputs": [
    {
     "data": {
      "image/png": "[encoded data removed]",
      "text/plain": [
       "<Figure size 1152x576 with 10 Axes>"
      ]
     },
     "metadata": {
      "needs_background": "light"
     },
     "output_type": "display_data"
    }
   ],
   "source": [
    "\n",
    "\n",
    "x_num = np.arange(1, len(colonies) + 1)\n",
    "plt.figure(figsize=(16, 8))\n",
    "for i in range(n_rows):\n",
    "    for j in range(n_cols):\n",
    "        count = i * n_cols + j\n",
    "        cl = sound_types[count]\n",
    "        mask = sounds_metadata_to_use['cl'] == cl\n",
    "        plt.subplot(n_rows, n_cols, count + 1)\n",
    "        means = [np.nanmean((features_to_use_normalized[mask * per_colony_mask[col]]).values) for col in colonies]\n",
    "        varis = [np.nanvar((features_to_use_normalized[mask * per_colony_mask[col]]).values) for col in colonies]\n",
    "        colors = [COLOR['colony'][col] for col in colonies]\n",
    "        plt.bar(x_num, means, yerr=varis, color=colors, width=0.5)\n",
    "        plt.xticks(x_num, colonies)\n",
    "        plt.title(cl)\n",
    "        plt.xlim(.6, len(colonies) + .4)"
   ]
  },
  {
   "cell_type": "code",
   "execution_count": null,
   "id": "ef546704",
   "metadata": {},
   "outputs": [],
   "source": [
    "# Transform this the plot above into single feature regime, add feature as a title\n",
    "# Make variance of variances plot\n",
    "# Add option to save data as a csv file\n"
   ]
  }
 ],
 "metadata": {
  "kernelspec": {
   "display_name": "Python 3 (ipykernel)",
   "language": "python",
   "name": "python3"
  },
  "language_info": {
   "codemirror_mode": {
    "name": "ipython",
    "version": 3
   },
   "file_extension": ".py",
   "mimetype": "text/x-python",
   "name": "python",
   "nbconvert_exporter": "python",
   "pygments_lexer": "ipython3",
   "version": "3.7.13"
  }
 },
 "nbformat": 4,
 "nbformat_minor": 5
}
