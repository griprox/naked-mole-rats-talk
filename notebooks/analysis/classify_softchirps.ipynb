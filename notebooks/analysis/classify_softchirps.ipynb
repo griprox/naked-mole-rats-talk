{
 "cells": [
  {
   "cell_type": "code",
   "execution_count": 1,
   "metadata": {},
   "outputs": [],
   "source": [
    "import os\n",
    "import sys\n",
    "path_to_this_notebook = os.path.abspath('.')\n",
    "PATH_TO_PROJECT = path_to_this_notebook[: path_to_this_notebook.find('notebooks')]\n",
    "sys.path.append(PATH_TO_PROJECT)\n",
    "from src.preprocessing.load_data import *\n",
    "from src.preprocessing.process_softchirp_features import find_outliers, choose_features\n",
    "from src.data_representations.softchirp_features import compute_all_features\n",
    "from src.data_representations.process_traces import clear_trace\n",
    "from src.preprocessing.filters import filter_recs_metadata, filter_sounds_metadata_extended\n",
    "from src.preprocessing.process_sounds_metadata import extend_sounds_metadata, compute_epochs\n",
    "from src.data_analysis.softchirps_classification import classify, make_bins\n",
    "from src.util import delete_indexes\n",
    "from src.visualization.plot_classification_development import plot_pup_accent_development\n",
    "from notebooks.analysis.plotting_config import ORDER, COLOR, EPOCHS # change plotting_config file to change colors\n",
    "\n",
    "from joblib import dump, load"
   ]
  },
  {
   "cell_type": "markdown",
   "metadata": {},
   "source": [
    "### Parameter selection, settings"
   ]
  },
  {
   "cell_type": "code",
   "execution_count": 2,
   "metadata": {},
   "outputs": [],
   "source": [
    "# specify paths, where data is stored\n",
    "path_to_info = PATH_TO_PROJECT + 'data/rat_info.csv'\n",
    "path_to_recordings_metadata = PATH_TO_PROJECT + 'data/'\n",
    "recordings_metadata_name = 'recordings_metadata.csv'\n",
    "\n",
    "# what data to load, set filters here\n",
    "colonies = ['martell', 'frog', 'bird', 'rabbit', 'targaryen']\n",
    "dates = 'all'\n",
    "experiments = ['single rat softchirps','baratheon epochs']\n",
    "experiments = 'all'\n",
    "# stage options: 'fresh', 'split', 'split and checked', 'classified', 'classified and checked', 'traced', 'traced and checked'\n",
    "stages = ['traced', 'traced and checked'] # always use 'traced and checked' for naked mole-rat experiments\n",
    "#stages = 'all'\n",
    "# specifies seconds  to pixels ratio for spectrogram image\n",
    "# must use librosa library which downsamples all audio files to 22050\n",
    "freq_mult = 22050 / 2  / 128\n",
    "\n",
    "# specify outliers,soft chirp traces outside of these ranges are excluded from analysis  \n",
    "boundaries = {'slope' : (0.01, .2), \n",
    "              'frequency' : (2000, 8000), \n",
    "              'duration' : (0.05, 10),\n",
    "              'height' : (300, 6000)}"
   ]
  },
  {
   "cell_type": "markdown",
   "metadata": {},
   "source": [
    "### Load data"
   ]
  },
  {
   "cell_type": "code",
   "execution_count": 3,
   "metadata": {
    "scrolled": true
   },
   "outputs": [
    {
     "name": "stdout",
     "output_type": "stream",
     "text": [
      "No info for 0011\n",
      "No info for 0024\n",
      "No info for 0052\n",
      "No info for 0084\n",
      "No info for 0315\n",
      "No info for 0339\n",
      "No info for 0342\n",
      "No info for 0345\n",
      "No info for 0379\n",
      "No info for 0380\n",
      "No info for 0573\n",
      "No info for 0580\n",
      "No info for 0769\n",
      "No info for 0794\n",
      "No info for 0803\n",
      "No info for 0824\n",
      "No info for 0840\n",
      "No info for 0045\n",
      "No info for 0113\n",
      "No info for 0118\n",
      "No info for 0261\n",
      "No info for 0541\n",
      "No info for 0548\n",
      "No info for 0781\n",
      "No info for 0888\n",
      "No info for 0010\n",
      "No info for 0054\n",
      "No info for 0064\n",
      "No info for 0071\n",
      "No info for 0281\n",
      "No info for 0291\n",
      "No info for 0582\n",
      "No info for 0632\n",
      "No info for 0776\n",
      "No info for 0849\n"
     ]
    },
    {
     "name": "stderr",
     "output_type": "stream",
     "text": [
      "/home/nakedmoleratvoices/src/preprocessing/process_sounds_metadata.py:62: FutureWarning: In a future version of pandas all arguments of concat except for the argument 'objs' will be keyword-only\n",
      "  return pd.concat([sounds_metadata.reset_index(drop = True), columns_to_add], 1)\n"
     ]
    },
    {
     "name": "stdout",
     "output_type": "stream",
     "text": [
      "traced\n"
     ]
    },
    {
     "name": "stderr",
     "output_type": "stream",
     "text": [
      "/opt/conda/lib/python3.7/site-packages/librosa/core/spectrum.py:224: UserWarning: n_fft=2048 is too small for input signal of length=1449\n",
      "  n_fft, y.shape[-1]\n",
      "/opt/conda/lib/python3.7/site-packages/librosa/core/spectrum.py:224: UserWarning: n_fft=2048 is too small for input signal of length=1146\n",
      "  n_fft, y.shape[-1]\n",
      "/opt/conda/lib/python3.7/site-packages/librosa/core/spectrum.py:224: UserWarning: n_fft=2048 is too small for input signal of length=1105\n",
      "  n_fft, y.shape[-1]\n",
      "/opt/conda/lib/python3.7/site-packages/librosa/core/spectrum.py:224: UserWarning: n_fft=2048 is too small for input signal of length=1330\n",
      "  n_fft, y.shape[-1]\n"
     ]
    },
    {
     "name": "stdout",
     "output_type": "stream",
     "text": [
      "Features could not be extracted from 1 traces\n",
      "329 traces were deleted as outliers\n",
      "4374 traces are left\n",
      "CPU times: user 54.2 s, sys: 2.03 s, total: 56.2 s\n",
      "Wall time: 1min 7s\n"
     ]
    }
   ],
   "source": [
    "%%time\n",
    "# load info- and meta- data\n",
    "info = load_info_file(path_to_info)\n",
    "recs_metadata = pd.read_csv(path_to_recordings_metadata + recordings_metadata_name, dtype={'ratids': str})\n",
    "\n",
    "#  filter what will be used (this is specified above)\n",
    "mask = filter_recs_metadata(recs_metadata, dates, colonies, stages, experiments)\n",
    "recs_to_analyse = recs_metadata[mask]\n",
    "\n",
    "# load recording wavs, sound wavs and traces, create sounds metadata (master file)\n",
    "recs_dict = load_recs_dict(recs_to_analyse)\n",
    "traces, wavs, sounds_metadata = load_traces_wavs_and_metadata(recs_to_analyse, info, recs_dict)\n",
    "sounds_metadata_extended = extend_sounds_metadata(sounds_metadata, info)# adds rat info\n",
    "traces = [clear_trace(t) for t in traces]\n",
    "print('traced')\n",
    "# compute softchirp features\n",
    "features, inds_skipped = compute_all_features(traces, wavs, freq_mult)\n",
    "traces, wavs, sounds_metadata_extended = delete_indexes(inds_skipped, traces, wavs, sounds_metadata_extended)\n",
    "\n",
    "\n",
    "# compute epochs \n",
    "sounds_metadata_extended = compute_epochs(sounds_metadata_extended, EPOCHS)\n",
    "\n",
    "# remove outliers\n",
    "outliers = find_outliers(features, boundaries )\n",
    "features, sounds_metadata_extended = delete_indexes(outliers, features, sounds_metadata_extended)\n",
    "print('Features could not be extracted from %d traces' % len(inds_skipped))\n",
    "print('%d traces were deleted as outliers' %  len(outliers))\n",
    "print('%d traces are left' % (len(sounds_metadata_extended)))"
   ]
  },
  {
   "cell_type": "markdown",
   "metadata": {},
   "source": [
    "### Define classifier parameters"
   ]
  },
  {
   "cell_type": "code",
   "execution_count": 4,
   "metadata": {
    "scrolled": true
   },
   "outputs": [],
   "source": [
    "from datetime import datetime\n",
    "# It is possible here to compute date masks for each colony separately. If you don't want to use these masks, \n",
    "# set variable \"separate_colonies_dates\" to False in the cell below\n",
    "func_to_dt = lambda x : datetime(*reversed(list(map(int, x.replace('-', '.').split('.')))))\n",
    "dates_per_colony = {'baratheon' : ['24-03-19', '03-11-19'],\n",
    "                    'martell':['24-03-19', '01-12-19'],\n",
    "                    'targaryen':['24-03-19', '03-11-19'],\n",
    "                    'dothrakib':['24-03-19', '03-11-19']}\n",
    "\n",
    "separate_date_masks = np.zeros(len(sounds_metadata_extended), dtype='bool')\n",
    "\n",
    "dates_transformed = sounds_metadata_extended['date'].apply(func_to_dt)\n",
    "mask_dates_per_colony = np.ones(sounds_metadata_extended.shape[0], dtype='bool')\n",
    "for col, (d_min, d_max) in dates_per_colony.items():\n",
    "    d_min, d_max = func_to_dt(d_min), func_to_dt(d_max)\n",
    "    col_mask_d = dates_transformed.apply(lambda x: d_min <= x <= d_max) & (sounds_metadata_extended['colony']\n",
    "                                                                           == col)\n",
    "    separate_date_masks = separate_date_masks | col_mask_d "
   ]
  },
  {
   "cell_type": "code",
   "execution_count": null,
   "metadata": {},
   "outputs": [],
   "source": []
  },
  {
   "cell_type": "code",
   "execution_count": 5,
   "metadata": {
    "scrolled": false
   },
   "outputs": [
    {
     "name": "stdout",
     "output_type": "stream",
     "text": [
      "Keys:  ['rec', 'colony', 'date', 'ratids', 'experiment', 's', 'e', 'cl', 'weight', 'sex', 'rank', 'dob', 'age', 'bodylength', 'bodylength2', 'epoch']\n",
      "Average accuracy is 0.60\n",
      "\n",
      "Features importances:\n",
      "slope: 0.120\n",
      "frequency: 0.164\n",
      "pitch: 0.157\n",
      "asymmetry: 0.141\n",
      "wiener_entropy: 0.183\n",
      "zero_crossings: 0.075\n",
      "duration: 0.086\n",
      "height: 0.074\n"
     ]
    },
    {
     "data": {
      "image/png": "[encoded data removed]",
      "text/plain": [
       "<Figure size 720x720 with 2 Axes>"
      ]
     },
     "metadata": {
      "needs_background": "light"
     },
     "output_type": "display_data"
    }
   ],
   "source": [
    "# # what data to use, specify here \n",
    "metadata = sounds_metadata_extended\n",
    "print('Keys: ', list(metadata.columns))\n",
    "colonies = 'all'\n",
    "#colonies that specified here are used to train classifer\n",
    "weights = 'all'\n",
    "dates = 'all'\n",
    "separate_colonies_dates = False\n",
    "sexes = 'all' # options:('M'), ('F'), 'all'\n",
    "ages = 'all' # options: [180, np.inf], in days\n",
    "ages_foster = (180, np.inf) # specifies ages of foster pups\n",
    "ranks = 'all' # options: ('rank1', 'rank2', 'rank3', 'rank4', 'rank5')\n",
    "ratids = 'all' # can specify indivudals here\n",
    "bodylengths = 'all' # options: (0, np.inf), all # snout to tail length measured\n",
    "bodylengths2 ='all' # options: (0, np.inf), all # snout to rump length measured\n",
    "\n",
    "foster_ids = ['4057', '4075', '3523', '3481', '3513']\n",
    "foster_ids = []\n",
    "#4075= daenerys, 4057 = johnsnown, 3523= missandei, 3481 = obara, 3512 = nymeria\n",
    "exclude_rats = [] # option to exclude individuals here\n",
    "sounds_per_rat = [20, 1000]\n",
    "#'single', 'pairs', 'all'\n",
    "types = 'all'\n",
    "\n",
    "features_to_classify = ['slope', 'frequency', 'pitch', 'asymmetry', \n",
    "                        'wiener_entropy', 'zero_crossings', 'duration', 'height']\n",
    "classify_by = 'colony'\n",
    "#classify_by options: 'ratids', 'colony', 'epoch'\n",
    "group_by = 'ratids' #'ratids' #None, 'ratids', 'date' #specifies how training and test data is split\n",
    "#NB: you must group by 'ratids' when testing colony dialect \n",
    "balance = True #balances number of soft chirps across classes\n",
    "cv_n_folds = 3 #more cross-validation (c-v) folds are generally better\n",
    "analyse_fosters = False\n",
    "#set analyse_fosters = False; when testing for rank, sex, ratids, body-length, weight\n",
    "#cmap options: plt.cm.Blues, plt.cm.Purples, plt.cm.Oranges, plt.cm.Reds, plt.cm.OrRd\n",
    "cmap = plt.cm.Blues\n",
    "\n",
    "\n",
    "order = ORDER[classify_by]\n",
    "#specifies order of classes and colors that plotted\n",
    "color = COLOR[classify_by]\n",
    "color_dict = COLOR[classify_by]\n",
    "\n",
    "\n",
    "\n",
    "mask =  filter_sounds_metadata_extended(metadata, ratids, foster_ids + exclude_rats, \n",
    "                                   types, colonies, weights, sexes, ages, ranks, dates,\n",
    "                                   bodylengths, bodylengths2, sounds_per_rat)\n",
    "if separate_colonies_dates:\n",
    "    mask = mask & separate_date_masks\n",
    "    \n",
    "foster_colonies = 'all'\n",
    "# if you want to change other filters for foster, hust change values in the function call below\n",
    "mask_foster = filter_sounds_metadata_extended(metadata, foster_ids,\n",
    "                                         None, types, foster_colonies, weights, sexes, ages_foster, ranks, dates,\n",
    "                                         bodylengths, bodylengths2, 'all')\n",
    "#set = to True here for binning of weights, body lengths for classifer (first) or group_by (second) \n",
    "if False:  # BINNING OF CLASSIFY COLUMN\n",
    "    binsize = 10\n",
    "    mask_index = metadata[mask].index\n",
    "    metadata.loc[mask_index, classify_by] = make_bins(metadata[mask][classify_by], binsize)\n",
    "if False:  # BINNING OF GROUP COLUMN\n",
    "    binsize = 10 \n",
    "    metadata[mask][group_by] = make_bins(metadata[mask][group_by], binsize)\n",
    "    \n",
    "print_info = False\n",
    "clf, foster_probs, y_unique, y_unique_foster = classify(features, metadata, mask, mask_foster, \n",
    "                                                        order, classify_by,  features_to_classify, group_by,\n",
    "                                                        balance, cv_n_folds, analyse_fosters, print_info, cmap)\n",
    "print('\\nFeatures importances:', )\n",
    "for fn, fimp in zip(features_to_classify, clf.feature_importances_):\n",
    "    print('%s: %.3f' % (fn, fimp))\n",
    "\n",
    "if analyse_fosters:\n",
    "    prediction = clf.predict_proba(features[features_to_classify][mask_foster])\n",
    "    prediction = np.concatenate([prediction, \n",
    "                                 np.zeros((len(prediction), len(y_unique_foster) - len(y_unique)))], 1)\n",
    "    foster_predictions = pd.DataFrame(prediction, columns = y_unique_foster)\n",
    "    foster_predictions['ratids'] = metadata[mask_foster]['ratids'].reset_index(drop = True)\n",
    "    foster_predictions['age'] = metadata[mask_foster]['age'].reset_index(drop = True)\n",
    "plt.savefig(\"test.svg\", format=\"svg\")"
   ]
  },
  {
   "cell_type": "code",
   "execution_count": 6,
   "metadata": {
    "scrolled": true
   },
   "outputs": [
    {
     "ename": "AssertionError",
     "evalue": "Ratid is not in foster_ids in the cell above!",
     "output_type": "error",
     "traceback": [
      "\u001b[0;31m---------------------------------------------------------------------------\u001b[0m",
      "\u001b[0;31mAssertionError\u001b[0m                            Traceback (most recent call last)",
      "\u001b[0;32m/tmp/ipykernel_4611/147314124.py\u001b[0m in \u001b[0;36m<module>\u001b[0;34m\u001b[0m\n\u001b[1;32m      1\u001b[0m \u001b[0mratid\u001b[0m \u001b[0;34m=\u001b[0m \u001b[0;34m'4075'\u001b[0m\u001b[0;34m\u001b[0m\u001b[0;34m\u001b[0m\u001b[0m\n\u001b[0;32m----> 2\u001b[0;31m \u001b[0;32massert\u001b[0m \u001b[0mratid\u001b[0m \u001b[0;32min\u001b[0m \u001b[0mfoster_ids\u001b[0m\u001b[0;34m,\u001b[0m \u001b[0;34m'Ratid is not in foster_ids in the cell above!'\u001b[0m\u001b[0;34m\u001b[0m\u001b[0;34m\u001b[0m\u001b[0m\n\u001b[0m\u001b[1;32m      3\u001b[0m \u001b[0mage_groups\u001b[0m \u001b[0;34m=\u001b[0m \u001b[0;34m[\u001b[0m\u001b[0;34m[\u001b[0m\u001b[0;36m0\u001b[0m\u001b[0;34m,\u001b[0m \u001b[0;36m30\u001b[0m\u001b[0;34m]\u001b[0m\u001b[0;34m,\u001b[0m\u001b[0;34m[\u001b[0m\u001b[0;36m30\u001b[0m\u001b[0;34m,\u001b[0m\u001b[0;36m60\u001b[0m\u001b[0;34m]\u001b[0m\u001b[0;34m,\u001b[0m \u001b[0;34m[\u001b[0m\u001b[0;36m60\u001b[0m\u001b[0;34m,\u001b[0m \u001b[0;36m90\u001b[0m\u001b[0;34m]\u001b[0m\u001b[0;34m,\u001b[0m \u001b[0;34m[\u001b[0m\u001b[0;36m90\u001b[0m\u001b[0;34m,\u001b[0m \u001b[0;36m180\u001b[0m\u001b[0;34m]\u001b[0m\u001b[0;34m,\u001b[0m \u001b[0;34m[\u001b[0m\u001b[0;36m180\u001b[0m\u001b[0;34m,\u001b[0m\u001b[0;36m360\u001b[0m\u001b[0;34m]\u001b[0m\u001b[0;34m,\u001b[0m \u001b[0;34m[\u001b[0m\u001b[0;36m360\u001b[0m\u001b[0;34m,\u001b[0m\u001b[0;36m720\u001b[0m\u001b[0;34m]\u001b[0m\u001b[0;34m]\u001b[0m\u001b[0;34m\u001b[0m\u001b[0;34m\u001b[0m\u001b[0m\n\u001b[1;32m      4\u001b[0m \u001b[0;32mif\u001b[0m \u001b[0manalyse_fosters\u001b[0m\u001b[0;34m:\u001b[0m\u001b[0;34m\u001b[0m\u001b[0;34m\u001b[0m\u001b[0m\n\u001b[1;32m      5\u001b[0m     \u001b[0mplot_pup_accent_development\u001b[0m\u001b[0;34m(\u001b[0m\u001b[0mratid\u001b[0m\u001b[0;34m,\u001b[0m \u001b[0mage_groups\u001b[0m\u001b[0;34m,\u001b[0m \u001b[0mfoster_predictions\u001b[0m\u001b[0;34m,\u001b[0m \u001b[0my_unique_foster\u001b[0m\u001b[0;34m,\u001b[0m \u001b[0mcolor_dict\u001b[0m\u001b[0;34m)\u001b[0m\u001b[0;34m\u001b[0m\u001b[0;34m\u001b[0m\u001b[0m\n",
      "\u001b[0;31mAssertionError\u001b[0m: Ratid is not in foster_ids in the cell above!"
     ]
    }
   ],
   "source": [
    "ratid = '4075'\n",
    "assert ratid in foster_ids, 'Ratid is not in foster_ids in the cell above!'\n",
    "age_groups = [[0, 30],[30,60], [60, 90], [90, 180], [180,360], [360,720]]\n",
    "if analyse_fosters:\n",
    "    plot_pup_accent_development(ratid, age_groups, foster_predictions, y_unique_foster, color_dict)\n",
    "    _ = plt.ylim([0,1]) # set y axis range\n",
    "\n",
    "    #plt.savefig(\"test2.svg\", format=\"svg\")"
   ]
  },
  {
   "cell_type": "code",
   "execution_count": null,
   "metadata": {},
   "outputs": [],
   "source": [
    "labels = y_unique_foster\n",
    "colors = [COLOR['colony'][c] for c in y_unique_foster]"
   ]
  },
  {
   "cell_type": "code",
   "execution_count": null,
   "metadata": {},
   "outputs": [],
   "source": [
    "# Plots a pie chart with the probability of each foster pup belonging to the tested colonies\n",
    "if analyse_fosters:\n",
    "    plt.figure(figsize = (17, 17))\n",
    "    figname = 'test3.svg'\n",
    "    N_fosters = len(foster_ids)\n",
    "    for i, ratid in enumerate(foster_ids):\n",
    "        plt.subplot(1, N_fosters, i + 1)\n",
    "        rat_predictions = foster_predictions[foster_predictions['ratids'] == ratid]\n",
    "        _ = plt.pie([np.mean(rat_predictions[c]) for c in y_unique_foster], \n",
    "                    labels = y_unique_foster, colors = [COLOR['colony'][c] for c in y_unique_foster], \n",
    "                    autopct = '%.2f', textprops={'color' : \"black\", 'fontsize' : 7})\n",
    "        plt.title(ratid)\n",
    "\n",
    "    #plt.savefig(\"new_artificial_playback_FINAL!!_sept2020_updated_colony_classification_arryn_baratheon_dothrakib_targaryen.svg\", format=\"svg\")"
   ]
  },
  {
   "cell_type": "code",
   "execution_count": 36,
   "metadata": {},
   "outputs": [
    {
     "data": {
      "image/png": "[encoded data removed]",
      "text/plain": [
       "<Figure size 1224x1224 with 5 Axes>"
      ]
     },
     "metadata": {},
     "output_type": "display_data"
    }
   ],
   "source": [
    "\n",
    "# Plots a pie chart ACCURACIES\n",
    "if analyse_fosters:\n",
    "    plt.figure(figsize = (17, 17))\n",
    "    figname = 'test.svg'\n",
    "    N_fosters = len(foster_ids)\n",
    "    for i, ratid in enumerate(foster_ids):\n",
    "        plt.subplot(1, N_fosters, i + 1)\n",
    "        rat_predictions = foster_predictions[foster_predictions['ratids'] == ratid]\n",
    "        rat_predictions_colony = np.bincount(np.argmax(rat_predictions[y_unique_foster].values, 1)) / len(rat_predictions)\n",
    "        if len(rat_predictions_colony) < len(y_unique_foster):\n",
    "            rat_predictions_colony = np.concatenate([rat_predictions_colony, \n",
    "                                                     np.zeros(len(y_unique_foster) - len(rat_predictions_colony))])\n",
    "        _ = plt.pie([rat_predictions_colony[ind] for ind in range(len(y_unique_foster))], \n",
    "                    labels = y_unique_foster, colors = [COLOR['colony'][c] for c in y_unique_foster], \n",
    "                    autopct = '%.2f', textprops={'color' : \"black\", 'fontsize' : 7})\n",
    "        plt.title(ratid)\n",
    "plt.savefig(\"test4\", format=\"svg\")\n",
    "    "
   ]
  },
  {
   "cell_type": "code",
   "execution_count": null,
   "metadata": {},
   "outputs": [],
   "source": []
  },
  {
   "cell_type": "code",
   "execution_count": null,
   "metadata": {},
   "outputs": [],
   "source": []
  }
 ],
 "metadata": {
  "kernelspec": {
   "display_name": "Python 3",
   "language": "python",
   "name": "python3"
  },
  "language_info": {
   "codemirror_mode": {
    "name": "ipython",
    "version": 3
   },
   "file_extension": ".py",
   "mimetype": "text/x-python",
   "name": "python",
   "nbconvert_exporter": "python",
   "pygments_lexer": "ipython3",
   "version": "3.7.10"
  }
 },
 "nbformat": 4,
 "nbformat_minor": 2
}
