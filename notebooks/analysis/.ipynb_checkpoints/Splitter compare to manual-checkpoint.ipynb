{
 "cells": [
  {
   "cell_type": "code",
   "execution_count": 1,
   "id": "0d9a5473",
   "metadata": {},
   "outputs": [],
   "source": [
    "import os\n",
    "import sys\n",
    "path_to_this_notebook = os.path.abspath('.')\n",
    "PATH_TO_PROJECT = path_to_this_notebook[: path_to_this_notebook.find('notebooks')]\n",
    "sys.path.append(PATH_TO_PROJECT)\n",
    "\n",
    "import pandas as pd\n",
    "import numpy as np\n",
    "import pickle\n",
    "import matplotlib.pyplot as plt\n",
    "import time\n",
    "from src.data_representations.process_images import *\n",
    "from src.preprocessing.filters import filter_recs_metadata\n",
    "from src.util import make_image\n",
    "\n",
    "import random\n",
    "\n",
    "\n",
    "%matplotlib inline"
   ]
  },
  {
   "cell_type": "code",
   "execution_count": 2,
   "id": "52672fd6",
   "metadata": {},
   "outputs": [],
   "source": [
    "# path to metadata\n",
    "path_to_recordings_metadata = PATH_TO_PROJECT + 'data/' #'mice_data_examples/'\n",
    "recordings_metadata_name = 'recordings_metadata.csv'\n",
    "\n",
    "# Filters should be either 'all' or [val1, val2, ..., ]\n",
    "\n",
    "colonies = ['nmr',]\n",
    "dates = 'all'\n",
    "experiments = 'all'\n",
    "stages = 'all'#['fresh']"
   ]
  },
  {
   "cell_type": "code",
   "execution_count": 3,
   "id": "15939e2a",
   "metadata": {},
   "outputs": [],
   "source": [
    "# load data\n",
    "recs_metadata = pd.read_csv(path_to_recordings_metadata + recordings_metadata_name)\n",
    "filters_mask = filter_recs_metadata(recs_metadata, dates = dates, colonies = colonies, \n",
    "                                    stages = stages, experiments = experiments)\n",
    "recs_to_check = recs_metadata[filters_mask]\n",
    "# !!! for manual\n",
    "recs_to_check = recs_to_check[recs_to_check['name'].apply(lambda x: 'annot' in x)]"
   ]
  },
  {
   "cell_type": "code",
   "execution_count": 23,
   "id": "d6bb0ebc",
   "metadata": {},
   "outputs": [],
   "source": [
    "def compute_result(manual_txt, txt, th=0.3):\n",
    "\n",
    "    result_mask = []\n",
    "\n",
    "    for ind_txt in range(len(txt)):\n",
    "        s, e, cl = txt.iloc[ind_txt]\n",
    "        if cl in ['ns', 'noise']:\n",
    "            continue\n",
    "\n",
    "        s_int = int(sr * s)\n",
    "        e_int = int(sr * e)\n",
    "\n",
    "        overlap = manual_txt_mask[s_int: e_int]\n",
    "        ind_zeros_front = 0\n",
    "        ind_zeros_end = 0\n",
    "        for ind_zeros_front in range(overlap.shape[0]):\n",
    "            if overlap[ind_zeros_front]:\n",
    "                break\n",
    "        for ind_zeros_end in range(overlap.shape[0] - 1, -1, -1):\n",
    "            if overlap[ind_zeros_end]:\n",
    "                break\n",
    "        overlap_cut = overlap[ind_zeros_front: ind_zeros_end]\n",
    "        if len(overlap_cut) > 1:\n",
    "            n_sounds = np.bincount(1 + overlap_cut[1:] - overlap_cut[:-1])[0] + 1\n",
    "        else:\n",
    "            n_sounds = 0\n",
    "        if n_sounds > 0:\n",
    "            if overlap_cut[0] == 1:\n",
    "                full_sound_size = 0\n",
    "                overlappping_sound_size = 0\n",
    "                ind_manual = s_int + ind_zeros_front\n",
    "                while manual_txt_mask[ind_manual] == 1 and ind_manual > 0:\n",
    "                    full_sound_size += 1\n",
    "                    ind_manual -= 1\n",
    "                ind_manual = s_int + ind_zeros_front\n",
    "                while manual_txt_mask[ind_manual] == 1 and ind_manual < len(manual_txt_mask):\n",
    "                    full_sound_size += 1\n",
    "                    overlappping_sound_size += 1\n",
    "                    ind_manual += 1\n",
    "                if overlappping_sound_size / full_sound_size <= th:\n",
    "                    n_sounds -= 1\n",
    "            if overlap_cut[-1] == 1:\n",
    "                full_sound_size = 0\n",
    "                overlappping_sound_size = 0\n",
    "                ind_manual = s_int + ind_zeros_end\n",
    "                while manual_txt_mask[ind_manual] == 1 and ind_manual > 0:\n",
    "                    overlappping_sound_size += 1\n",
    "                    full_sound_size += 1\n",
    "                    ind_manual -= 1\n",
    "                ind_manual = s_int + ind_zeros_front\n",
    "                while manual_txt_mask[ind_manual] == 1 and ind_manual < len(manual_txt_mask):\n",
    "                    full_sound_size += 1\n",
    "                    ind_manual += 1\n",
    "                if overlappping_sound_size / full_sound_size <= th:\n",
    "                    n_sounds -= 1\n",
    "\n",
    "        result_mask.append(n_sounds)\n",
    "    return np.array(result_mask)"
   ]
  },
  {
   "cell_type": "code",
   "execution_count": 4,
   "id": "0ad0f5d9",
   "metadata": {
    "scrolled": true
   },
   "outputs": [],
   "source": [
    "manual_txts = []\n",
    "spliiter_txts = []\n",
    "recs = []\n",
    "for rec_path, rec_name in recs_to_check[['path', 'name']].values:\n",
    "    manual_txts.append(pd.read_csv(rec_path + rec_name[:-4] + '_manual.txt', sep='\\t', header=None))\n",
    "    manual_txts[-1].columns = ['s', 'e', 'cl']\n",
    "    spliiter_txts.append(pd.read_csv(rec_path + rec_name[:-4] + '.txt', sep='\\t'))\n",
    "    recs.append(np.load(rec_path + rec_name))\n",
    "    break"
   ]
  },
  {
   "cell_type": "code",
   "execution_count": 5,
   "id": "e1d180b4",
   "metadata": {},
   "outputs": [],
   "source": [
    "manual_txt = manual_txts[0]\n",
    "txt = spliiter_txts[0]\n",
    "rec = recs[0]"
   ]
  },
  {
   "cell_type": "code",
   "execution_count": 27,
   "id": "be27bba4",
   "metadata": {},
   "outputs": [],
   "source": [
    "result_mask = compute_result(manual_txt, txt, th=0.3)"
   ]
  },
  {
   "cell_type": "code",
   "execution_count": 28,
   "id": "2e027291",
   "metadata": {},
   "outputs": [
    {
     "data": {
      "text/plain": [
       "(array([ 36,  41, 269, 270, 399, 400, 401, 402, 403, 404, 405, 406, 407,\n",
       "        408, 409, 410, 411, 412]),)"
      ]
     },
     "execution_count": 28,
     "metadata": {},
     "output_type": "execute_result"
    }
   ],
   "source": [
    "np.where(result_mask == 0)"
   ]
  },
  {
   "cell_type": "code",
   "execution_count": 34,
   "id": "3ff30cd2",
   "metadata": {},
   "outputs": [
    {
     "data": {
      "text/plain": [
       "<matplotlib.image.AxesImage at 0x7f7540e0c3d0>"
      ]
     },
     "execution_count": 34,
     "metadata": {},
     "output_type": "execute_result"
    },
    {
     "data": {
      "image/png": "[encoded data removed]",
      "text/plain": [
       "<Figure size 432x288 with 1 Axes>"
      ]
     },
     "metadata": {
      "needs_background": "light"
     },
     "output_type": "display_data"
    }
   ],
   "source": [
    "inds = np.where(np.array(result_mask) == 0)[0]\n",
    "ind = np.random.choice(inds)\n",
    "ind = 36\n",
    "s, e = txt[['s', 'e']].iloc[ind]\n",
    "s_int, e_int = int(22050 * s), int(22050 * e)\n",
    "sound = rec[s_int: e_int]\n",
    "plt.imshow(make_image(sound))"
   ]
  },
  {
   "cell_type": "code",
   "execution_count": 35,
   "id": "c39bdb0e",
   "metadata": {},
   "outputs": [
    {
     "data": {
      "text/plain": [
       "(149.86573237364846, 150.165408713373)"
      ]
     },
     "execution_count": 35,
     "metadata": {},
     "output_type": "execute_result"
    }
   ],
   "source": [
    "s, e"
   ]
  },
  {
   "cell_type": "code",
   "execution_count": 46,
   "id": "f4c0b72f",
   "metadata": {},
   "outputs": [
    {
     "data": {
      "text/html": [
       "<div>\n",
       "<style scoped>\n",
       "    .dataframe tbody tr th:only-of-type {\n",
       "        vertical-align: middle;\n",
       "    }\n",
       "\n",
       "    .dataframe tbody tr th {\n",
       "        vertical-align: top;\n",
       "    }\n",
       "\n",
       "    .dataframe thead th {\n",
       "        text-align: right;\n",
       "    }\n",
       "</style>\n",
       "<table border=\"1\" class=\"dataframe\">\n",
       "  <thead>\n",
       "    <tr style=\"text-align: right;\">\n",
       "      <th></th>\n",
       "      <th>s</th>\n",
       "      <th>e</th>\n",
       "      <th>cl</th>\n",
       "    </tr>\n",
       "  </thead>\n",
       "  <tbody>\n",
       "    <tr>\n",
       "      <th>91</th>\n",
       "      <td>149.932007</td>\n",
       "      <td>150.128006</td>\n",
       "      <td>sc</td>\n",
       "    </tr>\n",
       "    <tr>\n",
       "      <th>92</th>\n",
       "      <td>150.115997</td>\n",
       "      <td>150.348007</td>\n",
       "      <td>sc</td>\n",
       "    </tr>\n",
       "    <tr>\n",
       "      <th>93</th>\n",
       "      <td>150.279999</td>\n",
       "      <td>150.572006</td>\n",
       "      <td>sc</td>\n",
       "    </tr>\n",
       "    <tr>\n",
       "      <th>94</th>\n",
       "      <td>150.740005</td>\n",
       "      <td>151.031998</td>\n",
       "      <td>sc</td>\n",
       "    </tr>\n",
       "    <tr>\n",
       "      <th>95</th>\n",
       "      <td>151.007996</td>\n",
       "      <td>151.235992</td>\n",
       "      <td>sc</td>\n",
       "    </tr>\n",
       "    <tr>\n",
       "      <th>...</th>\n",
       "      <td>...</td>\n",
       "      <td>...</td>\n",
       "      <td>...</td>\n",
       "    </tr>\n",
       "    <tr>\n",
       "      <th>1384</th>\n",
       "      <td>5055.328125</td>\n",
       "      <td>5055.543945</td>\n",
       "      <td>sc</td>\n",
       "    </tr>\n",
       "    <tr>\n",
       "      <th>1385</th>\n",
       "      <td>5055.943848</td>\n",
       "      <td>5056.160156</td>\n",
       "      <td>sc</td>\n",
       "    </tr>\n",
       "    <tr>\n",
       "      <th>1386</th>\n",
       "      <td>5056.799805</td>\n",
       "      <td>5057.007813</td>\n",
       "      <td>sc</td>\n",
       "    </tr>\n",
       "    <tr>\n",
       "      <th>1387</th>\n",
       "      <td>5057.215820</td>\n",
       "      <td>5057.456055</td>\n",
       "      <td>sc</td>\n",
       "    </tr>\n",
       "    <tr>\n",
       "      <th>1388</th>\n",
       "      <td>5057.432129</td>\n",
       "      <td>5057.640137</td>\n",
       "      <td>sc</td>\n",
       "    </tr>\n",
       "  </tbody>\n",
       "</table>\n",
       "<p>1298 rows × 3 columns</p>\n",
       "</div>"
      ],
      "text/plain": [
       "                s            e  cl\n",
       "91     149.932007   150.128006  sc\n",
       "92     150.115997   150.348007  sc\n",
       "93     150.279999   150.572006  sc\n",
       "94     150.740005   151.031998  sc\n",
       "95     151.007996   151.235992  sc\n",
       "...           ...          ...  ..\n",
       "1384  5055.328125  5055.543945  sc\n",
       "1385  5055.943848  5056.160156  sc\n",
       "1386  5056.799805  5057.007813  sc\n",
       "1387  5057.215820  5057.456055  sc\n",
       "1388  5057.432129  5057.640137  sc\n",
       "\n",
       "[1298 rows x 3 columns]"
      ]
     },
     "execution_count": 46,
     "metadata": {},
     "output_type": "execute_result"
    }
   ],
   "source": [
    "manual_txt[91:]"
   ]
  },
  {
   "cell_type": "code",
   "execution_count": null,
   "id": "e817f160",
   "metadata": {},
   "outputs": [],
   "source": []
  }
 ],
 "metadata": {
  "kernelspec": {
   "display_name": "Python 3",
   "language": "python",
   "name": "python3"
  },
  "language_info": {
   "codemirror_mode": {
    "name": "ipython",
    "version": 3
   },
   "file_extension": ".py",
   "mimetype": "text/x-python",
   "name": "python",
   "nbconvert_exporter": "python",
   "pygments_lexer": "ipython3",
   "version": "3.7.10"
  }
 },
 "nbformat": 4,
 "nbformat_minor": 5
}
