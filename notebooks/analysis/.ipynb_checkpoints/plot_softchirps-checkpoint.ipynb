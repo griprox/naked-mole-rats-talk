{
 "cells": [
  {
   "cell_type": "code",
   "execution_count": 8,
   "metadata": {},
   "outputs": [],
   "source": [
    "import os\n",
    "import sys\n",
    "path_to_this_notebook = os.path.abspath('.')\n",
    "PATH_TO_PROJECT = path_to_this_notebook[: path_to_this_notebook.find('notebooks')]\n",
    "sys.path.append(PATH_TO_PROJECT)\n",
    "from src.preprocessing.load_data import *\n",
    "from src.preprocessing.process_softchirp_features import find_outliers, choose_features\n",
    "from src.data_representations.softchirp_features import compute_all_features\n",
    "from src.data_representations.process_traces import clear_trace\n",
    "from src.preprocessing.filters import filter_recs_metadata, filter_sounds_metadata_extended\n",
    "from src.preprocessing.process_sounds_metadata import extend_sounds_metadata, compute_epochs\n",
    "from src.visualization.plot_softchirps import plot\n",
    "from src.util import delete_indexes\n",
    "import src.visualization.plot_softchirps\n",
    "from notebooks.analysis.plotting_config import ORDER, COLOR, EPOCHS # change plotting_config file to change colors\n",
    "\n",
    "import pandas as pd\n",
    "import numpy as np\n",
    "import matplotlib.pyplot as plt\n",
    "import re\n",
    "from collections import defaultdict\n",
    "import matplotlib\n",
    "import matplotlib.cm as cm\n",
    "%matplotlib inline"
   ]
  },
  {
   "cell_type": "markdown",
   "metadata": {},
   "source": [
    "### Parameter selection"
   ]
  },
  {
   "cell_type": "code",
   "execution_count": 9,
   "metadata": {},
   "outputs": [],
   "source": [
    "# specify paths, where data is stored\n",
    "path_to_info = PATH_TO_PROJECT + 'data/rat_info.csv'\n",
    "path_to_recordings_metadata = PATH_TO_PROJECT + 'data/'\n",
    "recordings_metadata_name = 'recordings_metadata.csv'\n",
    "\n",
    "# what data to load, set filters here\n",
    "colonies = ['baratheon','dothrakib', 'martell', 'targaryen']\n",
    "#colonies = 'all'\n",
    "dates = 'all'\n",
    "experiments = ['single rat softchirps']\n",
    "stages = ['traced and checked',]\n",
    "\n",
    "# specifies seconds to pixels ratio for spectrogram image\n",
    "# uses librosa library which downsamples all audio files to 22050\n",
    "freq_mult = 22050 / 2  / 128\n",
    "\n",
    "# specify outliers,soft chirp traces outside of these ranges are excluded from analysis  \n",
    "boundaries = {'slope' : (0.01, .2), \n",
    "              'frequency' : (2000, 8000), \n",
    "              'duration' : (0.05, 10),\n",
    "              'height' : (300, 6000)}"
   ]
  },
  {
   "cell_type": "code",
   "execution_count": 10,
   "metadata": {},
   "outputs": [
    {
     "data": {
      "text/plain": [
       "'/home/nakedmoleratvoices/data/rat_info.csv'"
      ]
     },
     "execution_count": 10,
     "metadata": {},
     "output_type": "execute_result"
    }
   ],
   "source": [
    "path_to_info"
   ]
  },
  {
   "cell_type": "markdown",
   "metadata": {},
   "source": [
    "### Load data"
   ]
  },
  {
   "cell_type": "code",
   "execution_count": 11,
   "metadata": {
    "scrolled": true
   },
   "outputs": [
    {
     "name": "stderr",
     "output_type": "stream",
     "text": [
      "/home/nakedmoleratvoices/src/preprocessing/process_sounds_metadata.py:62: FutureWarning: In a future version of pandas all arguments of concat except for the argument 'objs' will be keyword-only\n",
      "  return pd.concat([sounds_metadata.reset_index(drop = True), columns_to_add], 1)\n",
      "/opt/conda/lib/python3.7/site-packages/librosa/core/spectrum.py:224: UserWarning: n_fft=2048 is too small for input signal of length=1449\n",
      "  n_fft, y.shape[-1]\n"
     ]
    },
    {
     "name": "stdout",
     "output_type": "stream",
     "text": [
      "Features could not be extracted from 0 traces\n",
      "26 traces were deleted as outliers\n",
      "3337 traces are left\n"
     ]
    }
   ],
   "source": [
    "# load info- and meta- data\n",
    "info = load_info_file(path_to_info)\n",
    "recs_metadata = pd.read_csv(path_to_recordings_metadata + recordings_metadata_name, dtype={'ratids': str})\n",
    "\n",
    "# filter what will be used (this is specified above)\n",
    "mask = filter_recs_metadata(recs_metadata, dates, colonies, stages, experiments)\n",
    "recs_to_analyse = recs_metadata[mask]\n",
    "\n",
    "# load recording wavs, sound wavs and traces, create sounds metadata (master file)\n",
    "recs_dict = load_recs_dict(recs_to_analyse)\n",
    "traces, wavs, sounds_metadata = load_traces_wavs_and_metadata(recs_to_analyse, info, recs_dict)\n",
    "sounds_metadata_extended = extend_sounds_metadata(sounds_metadata, info)\n",
    "traces = [clear_trace(t, ) for t in traces]\n",
    "\n",
    "# compute softchirp features\n",
    "features, inds_skipped = compute_all_features(traces, wavs, freq_mult)\n",
    "traces, wavs, sounds_metadata_extended = delete_indexes(inds_skipped, traces, wavs, sounds_metadata_extended)\n",
    "\n",
    "# compute epochs \n",
    "sounds_metadata_extended = compute_epochs(sounds_metadata_extended, EPOCHS)\n",
    "\n",
    "# remove outliers\n",
    "outliers = find_outliers(features, boundaries )\n",
    "features, sounds_metadata_extended = delete_indexes(outliers, features, sounds_metadata_extended)\n",
    "print('Features could not be extracted from %d traces' % len(inds_skipped))\n",
    "print('%d traces were deleted as outliers' %  len(outliers))\n",
    "print('%d traces are left' % (len(sounds_metadata_extended)))"
   ]
  },
  {
   "cell_type": "code",
   "execution_count": 12,
   "metadata": {},
   "outputs": [
    {
     "name": "stderr",
     "output_type": "stream",
     "text": [
      "/opt/conda/lib/python3.7/site-packages/ipykernel_launcher.py:4: FutureWarning: In a future version of pandas all arguments of concat except for the argument 'objs' will be keyword-only\n",
      "  after removing the cwd from sys.path.\n"
     ]
    },
    {
     "data": {
      "text/html": [
       "<div>\n",
       "<style scoped>\n",
       "    .dataframe tbody tr th:only-of-type {\n",
       "        vertical-align: middle;\n",
       "    }\n",
       "\n",
       "    .dataframe tbody tr th {\n",
       "        vertical-align: top;\n",
       "    }\n",
       "\n",
       "    .dataframe thead th {\n",
       "        text-align: right;\n",
       "    }\n",
       "</style>\n",
       "<table border=\"1\" class=\"dataframe\">\n",
       "  <thead>\n",
       "    <tr style=\"text-align: right;\">\n",
       "      <th></th>\n",
       "      <th>rec</th>\n",
       "      <th>colony</th>\n",
       "      <th>date</th>\n",
       "      <th>ratids</th>\n",
       "      <th>experiment</th>\n",
       "      <th>s</th>\n",
       "      <th>e</th>\n",
       "      <th>cl</th>\n",
       "      <th>weight</th>\n",
       "      <th>sex</th>\n",
       "      <th>...</th>\n",
       "      <th>epoch</th>\n",
       "      <th>slope</th>\n",
       "      <th>frequency</th>\n",
       "      <th>pitch</th>\n",
       "      <th>amplitude</th>\n",
       "      <th>wiener_entropy</th>\n",
       "      <th>zero_crossings</th>\n",
       "      <th>duration</th>\n",
       "      <th>height</th>\n",
       "      <th>asymmetry</th>\n",
       "    </tr>\n",
       "  </thead>\n",
       "  <tbody>\n",
       "    <tr>\n",
       "      <th>0</th>\n",
       "      <td>targaryen_21-06-19_1540_0000001.npy</td>\n",
       "      <td>targaryen</td>\n",
       "      <td>21-06-19</td>\n",
       "      <td>1540</td>\n",
       "      <td>single rat softchirps</td>\n",
       "      <td>38.445442</td>\n",
       "      <td>38.642948</td>\n",
       "      <td>softchirp</td>\n",
       "      <td>62.7</td>\n",
       "      <td>M</td>\n",
       "      <td>...</td>\n",
       "      <td>?</td>\n",
       "      <td>0.050395</td>\n",
       "      <td>4348.797681</td>\n",
       "      <td>5298.086045</td>\n",
       "      <td>0.107940</td>\n",
       "      <td>0.234248</td>\n",
       "      <td>0.420436</td>\n",
       "      <td>0.144331</td>\n",
       "      <td>1981.054688</td>\n",
       "      <td>-172.265625</td>\n",
       "    </tr>\n",
       "    <tr>\n",
       "      <th>1</th>\n",
       "      <td>targaryen_21-06-19_1540_0000001.npy</td>\n",
       "      <td>targaryen</td>\n",
       "      <td>21-06-19</td>\n",
       "      <td>1540</td>\n",
       "      <td>single rat softchirps</td>\n",
       "      <td>42.954558</td>\n",
       "      <td>43.194649</td>\n",
       "      <td>softchirp</td>\n",
       "      <td>62.7</td>\n",
       "      <td>M</td>\n",
       "      <td>...</td>\n",
       "      <td>?</td>\n",
       "      <td>0.053602</td>\n",
       "      <td>4488.295164</td>\n",
       "      <td>9015.735580</td>\n",
       "      <td>0.185051</td>\n",
       "      <td>0.261715</td>\n",
       "      <td>0.439932</td>\n",
       "      <td>0.160060</td>\n",
       "      <td>2239.453125</td>\n",
       "      <td>-258.398438</td>\n",
       "    </tr>\n",
       "    <tr>\n",
       "      <th>2</th>\n",
       "      <td>targaryen_21-06-19_1540_0000001.npy</td>\n",
       "      <td>targaryen</td>\n",
       "      <td>21-06-19</td>\n",
       "      <td>1540</td>\n",
       "      <td>single rat softchirps</td>\n",
       "      <td>21.220499</td>\n",
       "      <td>21.416735</td>\n",
       "      <td>softchirp</td>\n",
       "      <td>62.7</td>\n",
       "      <td>M</td>\n",
       "      <td>...</td>\n",
       "      <td>?</td>\n",
       "      <td>0.042801</td>\n",
       "      <td>4326.933342</td>\n",
       "      <td>4739.388805</td>\n",
       "      <td>0.118480</td>\n",
       "      <td>0.160265</td>\n",
       "      <td>0.431477</td>\n",
       "      <td>0.180845</td>\n",
       "      <td>2411.718750</td>\n",
       "      <td>-1033.593750</td>\n",
       "    </tr>\n",
       "    <tr>\n",
       "      <th>3</th>\n",
       "      <td>targaryen_21-06-19_1540_0000001.npy</td>\n",
       "      <td>targaryen</td>\n",
       "      <td>21-06-19</td>\n",
       "      <td>1540</td>\n",
       "      <td>single rat softchirps</td>\n",
       "      <td>40.351610</td>\n",
       "      <td>40.552880</td>\n",
       "      <td>softchirp</td>\n",
       "      <td>62.7</td>\n",
       "      <td>M</td>\n",
       "      <td>...</td>\n",
       "      <td>?</td>\n",
       "      <td>0.062598</td>\n",
       "      <td>4387.518752</td>\n",
       "      <td>3927.325394</td>\n",
       "      <td>0.084663</td>\n",
       "      <td>0.174798</td>\n",
       "      <td>0.411221</td>\n",
       "      <td>0.123858</td>\n",
       "      <td>1464.257812</td>\n",
       "      <td>-172.265625</td>\n",
       "    </tr>\n",
       "    <tr>\n",
       "      <th>4</th>\n",
       "      <td>targaryen_21-06-19_1540_0000001.npy</td>\n",
       "      <td>targaryen</td>\n",
       "      <td>21-06-19</td>\n",
       "      <td>1540</td>\n",
       "      <td>single rat softchirps</td>\n",
       "      <td>16.570612</td>\n",
       "      <td>16.821678</td>\n",
       "      <td>softchirp</td>\n",
       "      <td>62.7</td>\n",
       "      <td>M</td>\n",
       "      <td>...</td>\n",
       "      <td>?</td>\n",
       "      <td>0.053992</td>\n",
       "      <td>4635.038861</td>\n",
       "      <td>5137.503490</td>\n",
       "      <td>0.110936</td>\n",
       "      <td>0.284392</td>\n",
       "      <td>0.429733</td>\n",
       "      <td>0.144553</td>\n",
       "      <td>1722.656250</td>\n",
       "      <td>-258.398438</td>\n",
       "    </tr>\n",
       "  </tbody>\n",
       "</table>\n",
       "<p>5 rows × 25 columns</p>\n",
       "</div>"
      ],
      "text/plain": [
       "                                   rec     colony      date ratids  \\\n",
       "0  targaryen_21-06-19_1540_0000001.npy  targaryen  21-06-19   1540   \n",
       "1  targaryen_21-06-19_1540_0000001.npy  targaryen  21-06-19   1540   \n",
       "2  targaryen_21-06-19_1540_0000001.npy  targaryen  21-06-19   1540   \n",
       "3  targaryen_21-06-19_1540_0000001.npy  targaryen  21-06-19   1540   \n",
       "4  targaryen_21-06-19_1540_0000001.npy  targaryen  21-06-19   1540   \n",
       "\n",
       "              experiment          s          e         cl  weight sex  ...  \\\n",
       "0  single rat softchirps  38.445442  38.642948  softchirp    62.7   M  ...   \n",
       "1  single rat softchirps  42.954558  43.194649  softchirp    62.7   M  ...   \n",
       "2  single rat softchirps  21.220499  21.416735  softchirp    62.7   M  ...   \n",
       "3  single rat softchirps  40.351610  40.552880  softchirp    62.7   M  ...   \n",
       "4  single rat softchirps  16.570612  16.821678  softchirp    62.7   M  ...   \n",
       "\n",
       "  epoch     slope    frequency        pitch  amplitude wiener_entropy  \\\n",
       "0     ?  0.050395  4348.797681  5298.086045   0.107940       0.234248   \n",
       "1     ?  0.053602  4488.295164  9015.735580   0.185051       0.261715   \n",
       "2     ?  0.042801  4326.933342  4739.388805   0.118480       0.160265   \n",
       "3     ?  0.062598  4387.518752  3927.325394   0.084663       0.174798   \n",
       "4     ?  0.053992  4635.038861  5137.503490   0.110936       0.284392   \n",
       "\n",
       "   zero_crossings  duration       height    asymmetry  \n",
       "0        0.420436  0.144331  1981.054688  -172.265625  \n",
       "1        0.439932  0.160060  2239.453125  -258.398438  \n",
       "2        0.431477  0.180845  2411.718750 -1033.593750  \n",
       "3        0.411221  0.123858  1464.257812  -172.265625  \n",
       "4        0.429733  0.144553  1722.656250  -258.398438  \n",
       "\n",
       "[5 rows x 25 columns]"
      ]
     },
     "execution_count": 12,
     "metadata": {},
     "output_type": "execute_result"
    }
   ],
   "source": [
    "save_excel = False\n",
    "#save_path  = '' \n",
    "# creates master list of data as an excel file\n",
    "all_data_table = pd.concat([sounds_metadata_extended, features], 1)\n",
    "# save\n",
    "if save_excel:\n",
    "    all_data_table.to_excel('all_data!.xlsx')\n",
    "all_data_table.head()"
   ]
  },
  {
   "cell_type": "markdown",
   "metadata": {},
   "source": [
    "### Plotting"
   ]
  },
  {
   "cell_type": "code",
   "execution_count": 13,
   "metadata": {
    "scrolled": false
   },
   "outputs": [
    {
     "name": "stdout",
     "output_type": "stream",
     "text": [
      "Keys:  ['rec', 'colony', 'date', 'ratids', 'experiment', 's', 'e', 'cl', 'weight', 'sex', 'rank', 'dob', 'age', 'bodylength', 'bodylength2', 'epoch']\n"
     ]
    },
    {
     "name": "stderr",
     "output_type": "stream",
     "text": [
      "/home/nakedmoleratvoices/src/util.py:37: VisibleDeprecationWarning: Creating an ndarray from ragged nested sequences (which is a list-or-tuple of lists-or-tuples-or ndarrays with different lengths or shapes) is deprecated. If you meant to do this, you must specify 'dtype=object' when creating the ndarray\n",
      "  return np.array(indexes)\n"
     ]
    },
    {
     "data": {
      "image/png": "[encoded data removed]",
      "text/plain": [
       "<Figure size 1008x648 with 2 Axes>"
      ]
     },
     "metadata": {
      "needs_background": "light"
     },
     "output_type": "display_data"
    }
   ],
   "source": [
    "\n",
    "# specify what is plotted\n",
    "print('Keys: ', list(sounds_metadata_extended.columns))\n",
    "# specify filters\n",
    "colonies = ['baratheon','dothrakib', 'martell', 'targaryen']\n",
    "weights = 'all'\n",
    "dates = 'all'\n",
    "sexes = 'all' # options: 'M', 'F', or 'all'\n",
    "ages = 'all' # set range: (0, np.inf)\n",
    "ranks = 'all' \n",
    "ratids =  'all'\n",
    "excludeids = None # options: '1111', or None\n",
    "bodylengths = 'all'# or set range\n",
    "bodylengths2 = 'all' # or set range\n",
    "sounds_per_rat = [0, 10000]\n",
    "types = 'all'# options for types: 'single', 'pairs', or 'all'\n",
    "\n",
    "# how to plot\n",
    "color_by = 'colony' #specfies color option in graph\n",
    "#options = 'colony', 'age', 'weight'\n",
    "features_to_plot = ['frequency', 'asymmetry']\n",
    "#features_to_plot = 'pca' #can make PCA ot tSNE plots of all features\n",
    "perplexity = 50 #only required for tSNE\n",
    "\n",
    "group_by_rat = True # plots mean values for each animal\n",
    "plot_color_mean = True # plots mean for color_by grouping (i.e. colony)\n",
    "group_color_column = None\n",
    "plot_ellipses = True # plots ellipses representing 95% confidence intervals\n",
    "\n",
    "\n",
    "order = ORDER[color_by]\n",
    "color_dict = COLOR[color_by]\n",
    "\n",
    "\n",
    "mask =  filter_sounds_metadata_extended(sounds_metadata_extended, ratids, excludeids, \n",
    "                                   types, colonies, weights, sexes, ages, ranks, dates,\n",
    "                                   bodylengths, bodylengths2, sounds_per_rat)\n",
    "features_masked = features[mask]\n",
    "sounds_metadata_masked = sounds_metadata_extended[mask]\n",
    "y = sounds_metadata_masked[color_by]\n",
    "\n",
    "\n",
    "plot(features_masked, y, sounds_metadata_masked, features_to_plot, perplexity,\n",
    "     group_by_rat, group_color_column, plot_ellipses, plot_color_mean,\n",
    "     color_dict, order, sizes_factor = 32)"
   ]
  },
  {
   "cell_type": "code",
   "execution_count": null,
   "metadata": {},
   "outputs": [],
   "source": []
  },
  {
   "cell_type": "code",
   "execution_count": null,
   "metadata": {},
   "outputs": [],
   "source": []
  }
 ],
 "metadata": {
  "kernelspec": {
   "display_name": "Python 3",
   "language": "python",
   "name": "python3"
  },
  "language_info": {
   "codemirror_mode": {
    "name": "ipython",
    "version": 3
   },
   "file_extension": ".py",
   "mimetype": "text/x-python",
   "name": "python",
   "nbconvert_exporter": "python",
   "pygments_lexer": "ipython3",
   "version": "3.7.10"
  }
 },
 "nbformat": 4,
 "nbformat_minor": 2
}
